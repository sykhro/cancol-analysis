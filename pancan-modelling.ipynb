{
 "cells": [
  {
   "cell_type": "markdown",
   "id": "consecutive-carrier",
   "metadata": {},
   "source": [
    "# Statistical modeling for TRIBE2 PanCan "
   ]
  },
  {
   "cell_type": "code",
   "execution_count": 6,
   "id": "taken-baking",
   "metadata": {},
   "outputs": [],
   "source": [
    "import numpy as np\n",
    "import scipy as sp\n",
    "import pandas as pd\n",
    "import matplotlib.pyplot as plt\n",
    "import seaborn as sns\n",
    "from scipy.io import arff"
   ]
  },
  {
   "cell_type": "code",
   "execution_count": 2,
   "id": "comprehensive-round",
   "metadata": {},
   "outputs": [],
   "source": [
    "arm0_best_dataset = np.loadtxt(\n",
    "    open(\"arm0_best_mutations.csv\", \"rb\"), delimiter=\",\", skiprows=1\n",
    ")\n",
    "arm1_best_dataset = np.loadtxt(\n",
    "    open(\"arm1_best_mutations.csv\", \"rb\"), delimiter=\",\", skiprows=1\n",
    ")"
   ]
  },
  {
   "cell_type": "code",
   "execution_count": 3,
   "id": "parliamentary-cooperation",
   "metadata": {},
   "outputs": [],
   "source": [
    "from sklearn.model_selection import train_test_split\n",
    "\n",
    "arm0_x, arm0_y = arm0_best_dataset[:, :-1], arm0_best_dataset[:, -1]\n",
    "arm0_x_train, arm0_x_test, arm0_y_train, arm0_y_test = train_test_split(arm0_x, arm0_y, test_size=0.30, random_state=42)\n",
    "arm1_x, arm1_y = arm1_best_dataset[:, :-1], arm1_best_dataset[:, -1]\n",
    "arm1_x_train, arm1_x_test, arm1_y_train, arm1_y_test = train_test_split(arm1_x, arm1_y, test_size=0.30, random_state=42)"
   ]
  },
  {
   "cell_type": "markdown",
   "id": "rough-satellite",
   "metadata": {},
   "source": [
    "## Regression"
   ]
  },
  {
   "cell_type": "code",
   "execution_count": 4,
   "id": "complex-retro",
   "metadata": {},
   "outputs": [
    {
     "name": "stdout",
     "output_type": "stream",
     "text": [
      "\n",
      "ARM0:\n",
      "    Coeff: [-1.04897447e+00 -1.80897720e+02  1.37267681e+02 -6.83245508e+00\n",
      "  1.02535206e+01  1.91952641e+01 -1.13641313e+05 -1.73820083e+01\n",
      " -2.21039449e+00  4.35342608e+00]\n",
      "    MSE: 102662.60427968217\n",
      "    R2: -0.010488950903972283\n",
      "\n",
      "ARM1:\n",
      "    Coeff: [-1.67821379e+00  3.48759636e+01 -8.83930041e-14 -1.77135169e+00\n",
      "  1.30501009e+01  1.23897954e+01  2.25863332e+01 -3.79652835e+00\n",
      "  1.50493241e+01  9.75596632e+01]\n",
      "    MSE: 72416.1384060918\n",
      "    R2: -0.1727218351901949\n"
     ]
    }
   ],
   "source": [
    "from sklearn.linear_model import LinearRegression\n",
    "from sklearn.metrics import mean_squared_error, r2_score\n",
    "\n",
    "arm0_best_model = LinearRegression()\n",
    "arm0_best_model.fit(arm0_x_train, arm0_y_train)\n",
    "arm0_best_pred = arm0_best_model.predict(arm0_x_test)\n",
    "print(f\"\"\"\n",
    "ARM0:\n",
    "    Coeff: {arm0_best_model.coef_}\n",
    "    MSE: {mean_squared_error(arm0_y_test, arm0_best_pred)}\n",
    "    R2: {r2_score(arm0_y_test, arm0_best_pred)}\"\"\")\n",
    "\n",
    "arm1_best_model = LinearRegression()\n",
    "arm1_best_model.fit(arm1_x_train, arm1_y_train)\n",
    "arm1_best_pred = arm1_best_model.predict(arm1_x_test)\n",
    "print(f\"\"\"\n",
    "ARM1:\n",
    "    Coeff: {arm1_best_model.coef_}\n",
    "    MSE: {mean_squared_error(arm1_y_test, arm1_best_pred)}\n",
    "    R2: {r2_score(arm1_y_test, arm1_best_pred)}\"\"\")\n"
   ]
  },
  {
   "cell_type": "code",
   "execution_count": 5,
   "id": "dedicated-tournament",
   "metadata": {},
   "outputs": [
    {
     "name": "stdout",
     "output_type": "stream",
     "text": [
      "\n",
      "ARM0:\n",
      "    Coeff: [  -1.33078005 -122.70129897  131.79876447   -7.03115446    8.42325792\n",
      "   17.10134682   -0.          -19.58145036   -3.27362589    6.84621008]\n",
      "    MSE: 101948.60859571294\n",
      "    R2: -0.003461223965753213\n",
      "\n",
      "ARM1:\n",
      "    Coeff: [-1.71578345 23.92768148  0.         -0.         12.93747728 12.47394641\n",
      " 22.19447539 -3.80549265 14.90003091 91.5432479 ]\n",
      "    MSE: 72421.3744832726\n",
      "    R2: -0.17280662930067647\n"
     ]
    }
   ],
   "source": [
    "from sklearn.linear_model import Lasso\n",
    "import seaborn as sns\n",
    "\n",
    "arm0_best_model = Lasso()\n",
    "arm0_best_model.fit(arm0_x_train, arm0_y_train)\n",
    "arm0_best_pred = arm0_best_model.predict(arm0_x_test)\n",
    "print(f\"\"\"\n",
    "ARM0:\n",
    "    Coeff: {arm0_best_model.coef_}\n",
    "    MSE: {mean_squared_error(arm0_y_test, arm0_best_pred)}\n",
    "    R2: {r2_score(arm0_y_test, arm0_best_pred)}\"\"\")\n",
    "\n",
    "arm1_best_model = Lasso()\n",
    "arm1_best_model.fit(arm1_x_train, arm1_y_train)\n",
    "arm1_best_pred = arm1_best_model.predict(arm1_x_test)\n",
    "print(f\"\"\"\n",
    "ARM1:\n",
    "    Coeff: {arm1_best_model.coef_}\n",
    "    MSE: {mean_squared_error(arm1_y_test, arm1_best_pred)}\n",
    "    R2: {r2_score(arm1_y_test, arm1_best_pred)}\"\"\")\n"
   ]
  },
  {
   "cell_type": "code",
   "execution_count": null,
   "id": "alpha-garage",
   "metadata": {},
   "outputs": [],
   "source": []
  }
 ],
 "metadata": {
  "kernelspec": {
   "display_name": "Python 3",
   "language": "python",
   "name": "python3"
  },
  "language_info": {
   "codemirror_mode": {
    "name": "ipython",
    "version": 3
   },
   "file_extension": ".py",
   "mimetype": "text/x-python",
   "name": "python",
   "nbconvert_exporter": "python",
   "pygments_lexer": "ipython3",
   "version": "3.9.3"
  },
  "widgets": {
   "application/vnd.jupyter.widget-state+json": {
    "state": {},
    "version_major": 2,
    "version_minor": 0
   }
  }
 },
 "nbformat": 4,
 "nbformat_minor": 5
}
