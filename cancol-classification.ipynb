{
 "cells": [
  {
   "cell_type": "markdown",
   "id": "contained-minority",
   "metadata": {},
   "source": [
    "# Classification modeling for TRIBE2 CanCol "
   ]
  },
  {
   "cell_type": "code",
   "execution_count": 1,
   "id": "dimensional-prerequisite",
   "metadata": {
    "tags": []
   },
   "outputs": [],
   "source": [
    "import numpy as np\n",
    "import scipy as sp\n",
    "import pandas as pd\n",
    "import matplotlib.pyplot as plt\n",
    "import seaborn as sns\n",
    "from scipy.io import arff"
   ]
  },
  {
   "cell_type": "code",
   "execution_count": 2,
   "id": "emerging-gazette",
   "metadata": {},
   "outputs": [],
   "source": [
    "evaluation = {}"
   ]
  },
  {
   "cell_type": "markdown",
   "id": "known-bernard",
   "metadata": {},
   "source": [
    "## Classification on dpfs using the best measure results\n",
    "This regression analysis uses the 'best' mutations, as chosen based on the correlations previously computed.\n",
    "For all regression models, we exclude patients whose disease has not progressed."
   ]
  },
  {
   "cell_type": "code",
   "execution_count": 3,
   "id": "motivated-innocent",
   "metadata": {},
   "outputs": [],
   "source": [
    "patients_log = pd.read_csv(\"TRIBE2_db.csv\")\n",
    "arm0_best_dataset = pd.read_csv(\"arm0_best_mutations.csv\")\n",
    "arm1_best_dataset = pd.read_csv(\"arm1_best_mutations.csv\")"
   ]
  },
  {
   "cell_type": "code",
   "execution_count": 4,
   "id": "valuable-concentrate",
   "metadata": {},
   "outputs": [],
   "source": [
    "arm0_best_dataset[\"dpfs\"] = arm0_best_dataset[\"dpfs\"].map(lambda x: 0 if x < 365 else 1)\n",
    "arm1_best_dataset[\"dpfs\"] = arm1_best_dataset[\"dpfs\"].map(lambda x: 0 if x < 365 else 1)"
   ]
  },
  {
   "cell_type": "markdown",
   "id": "accurate-research",
   "metadata": {},
   "source": [
    "### Observing the data\n",
    "As can be seen from the plots below, dpfs has a long tail so it would make sense to take its log and turn it into an approximately normal distribution."
   ]
  },
  {
   "cell_type": "code",
   "execution_count": 5,
   "id": "intimate-passage",
   "metadata": {},
   "outputs": [],
   "source": [
    "from sklearn.model_selection import train_test_split\n",
    "\n",
    "arm0_x, arm0_y = (\n",
    "    arm0_best_dataset.drop([\"dpfs\", \"PatientFirstName\"], axis=\"columns\"),\n",
    "    arm0_best_dataset[\"dpfs\"],\n",
    ")\n",
    "arm0_x_train, arm0_x_test, arm0_y_train, arm0_y_test = train_test_split(\n",
    "    arm0_x, arm0_y, test_size=0.30, random_state=42\n",
    ")\n",
    "# Disabled for performance\n",
    "# train_dataset = arm0_x_train.copy()\n",
    "# train_dataset.insert(0, \"dpfs\", arm0_y_train)\n",
    "# _ = sns.pairplot(train_dataset, kind=\"reg\", diag_kind=\"kde\")\n",
    "\n",
    "arm1_x, arm1_y = (\n",
    "    arm1_best_dataset.drop([\"dpfs\", \"PatientFirstName\"], axis=\"columns\"),\n",
    "    arm1_best_dataset[\"dpfs\"],\n",
    ")\n",
    "arm1_x_train, arm1_x_test, arm1_y_train, arm1_y_test = train_test_split(\n",
    "    arm1_x, arm1_y, test_size=0.30, random_state=42\n",
    ")\n",
    "# Disabled for performance\n",
    "# train_dataset = arm1_x_train.copy()\n",
    "# train_dataset.insert(0, \"dpfs\", arm1_y_train)\n",
    "# _ = sns.pairplot(train_dataset, kind=\"reg\", diag_kind=\"kde\")"
   ]
  },
  {
   "cell_type": "markdown",
   "id": "crazy-buyer",
   "metadata": {},
   "source": [
    "### SVC"
   ]
  },
  {
   "cell_type": "code",
   "execution_count": 6,
   "id": "resident-arthur",
   "metadata": {},
   "outputs": [],
   "source": [
    "from sklearn.svm import SVC\n",
    "clf = SVC()\n",
    "evaluation[\"best-svc\"] = {}"
   ]
  },
  {
   "cell_type": "markdown",
   "id": "detailed-services",
   "metadata": {},
   "source": [
    "#### arm0"
   ]
  },
  {
   "cell_type": "code",
   "execution_count": 7,
   "id": "impaired-discharge",
   "metadata": {},
   "outputs": [],
   "source": [
    "_ = clf.fit(arm0_x_train, arm0_y_train)"
   ]
  },
  {
   "cell_type": "code",
   "execution_count": 8,
   "id": "creative-actress",
   "metadata": {},
   "outputs": [
    {
     "name": "stdout",
     "output_type": "stream",
     "text": [
      "AUC: 0.5535714285714285\n",
      "Report for SVC(), arm0:\n",
      "              precision    recall  f1-score   support\n",
      "\n",
      "           0       0.60      0.96      0.74        28\n",
      "           1       0.75      0.14      0.24        21\n",
      "\n",
      "    accuracy                           0.61        49\n",
      "   macro avg       0.68      0.55      0.49        49\n",
      "weighted avg       0.66      0.61      0.53        49\n",
      "\n",
      "\n"
     ]
    },
    {
     "data": {
      "image/png": "[encoded data removed]",
      "text/plain": [
       "<Figure size 432x288 with 2 Axes>"
      ]
     },
     "metadata": {
      "needs_background": "light"
     },
     "output_type": "display_data"
    }
   ],
   "source": [
    "from sklearn.metrics import classification_report, plot_confusion_matrix, roc_auc_score, f1_score\n",
    "\n",
    "predict = clf.predict(arm0_x_test)\n",
    "print(\"AUC:\", roc_auc_score(arm0_y_test, predict))\n",
    "print(f\"Report for {clf}, arm0:\\n\"\n",
    "      f\"{classification_report(arm0_y_test, predict)}\\n\")\n",
    "\n",
    "disp = plot_confusion_matrix(clf, arm0_x_test, arm0_y_test)\n",
    "disp.figure_.suptitle(f\"Confusion matrix, {clf}, arm0\")\n",
    "\n",
    "plt.show()\n",
    "\n",
    "evaluation[\"best-svc\"][\"arm0\"] = (roc_auc_score(arm0_y_test, predict),  f1_score(arm0_y_test, predict))"
   ]
  },
  {
   "cell_type": "markdown",
   "id": "consecutive-scheduling",
   "metadata": {},
   "source": [
    "#### arm1"
   ]
  },
  {
   "cell_type": "code",
   "execution_count": 9,
   "id": "higher-reasoning",
   "metadata": {},
   "outputs": [],
   "source": [
    "_ = clf.fit(arm1_x_train, arm1_y_train)"
   ]
  },
  {
   "cell_type": "code",
   "execution_count": 10,
   "id": "boxed-stranger",
   "metadata": {},
   "outputs": [
    {
     "name": "stdout",
     "output_type": "stream",
     "text": [
      "AUC: 0.5571428571428572\n",
      "Report for SVC(), arm1:\n",
      "              precision    recall  f1-score   support\n",
      "\n",
      "           0       0.56      0.71      0.63        21\n",
      "           1       0.57      0.40      0.47        20\n",
      "\n",
      "    accuracy                           0.56        41\n",
      "   macro avg       0.56      0.56      0.55        41\n",
      "weighted avg       0.56      0.56      0.55        41\n",
      "\n",
      "\n"
     ]
    },
    {
     "data": {
      "image/png": "[encoded data removed]",
      "text/plain": [
       "<Figure size 432x288 with 2 Axes>"
      ]
     },
     "metadata": {
      "needs_background": "light"
     },
     "output_type": "display_data"
    }
   ],
   "source": [
    "from sklearn.metrics import classification_report, plot_confusion_matrix, roc_auc_score, f1_score\n",
    "\n",
    "predict = clf.predict(arm1_x_test)\n",
    "print(\"AUC:\", roc_auc_score(arm1_y_test, predict))\n",
    "print(f\"Report for {clf}, arm1:\\n\"\n",
    "      f\"{classification_report(arm1_y_test, predict)}\\n\")\n",
    "\n",
    "disp = plot_confusion_matrix(clf, arm1_x_test, arm1_y_test)\n",
    "disp.figure_.suptitle(f\"Confusion matrix, {clf}, arm1\")\n",
    "\n",
    "plt.show()\n",
    "\n",
    "evaluation[\"best-svc\"][\"arm1\"] = (roc_auc_score(arm1_y_test, predict),  f1_score(arm1_y_test, predict))"
   ]
  },
  {
   "cell_type": "markdown",
   "id": "aerial-rebel",
   "metadata": {},
   "source": [
    "### Random forest"
   ]
  },
  {
   "cell_type": "code",
   "execution_count": 11,
   "id": "desperate-german",
   "metadata": {},
   "outputs": [],
   "source": [
    "from sklearn.ensemble import RandomForestClassifier\n",
    "clf = RandomForestClassifier(random_state=42)\n",
    "evaluation[\"best-random-forest\"] = {}"
   ]
  },
  {
   "cell_type": "markdown",
   "id": "higher-lincoln",
   "metadata": {},
   "source": [
    "#### arm0"
   ]
  },
  {
   "cell_type": "code",
   "execution_count": 12,
   "id": "defined-marker",
   "metadata": {},
   "outputs": [],
   "source": [
    "_ = clf.fit(arm0_x_train, arm0_y_train)"
   ]
  },
  {
   "cell_type": "code",
   "execution_count": 13,
   "id": "norman-nowhere",
   "metadata": {},
   "outputs": [
    {
     "name": "stdout",
     "output_type": "stream",
     "text": [
      "AUC: 0.5654761904761905\n",
      "Report for RandomForestClassifier(random_state=42), arm0:\n",
      "              precision    recall  f1-score   support\n",
      "\n",
      "           0       0.61      0.89      0.72        28\n",
      "           1       0.62      0.24      0.34        21\n",
      "\n",
      "    accuracy                           0.61        49\n",
      "   macro avg       0.62      0.57      0.53        49\n",
      "weighted avg       0.62      0.61      0.56        49\n",
      "\n",
      "\n"
     ]
    },
    {
     "data": {
      "image/png": "[encoded data removed]",
      "text/plain": [
       "<Figure size 432x288 with 2 Axes>"
      ]
     },
     "metadata": {
      "needs_background": "light"
     },
     "output_type": "display_data"
    }
   ],
   "source": [
    "from sklearn.metrics import classification_report, plot_confusion_matrix, roc_auc_score, f1_score\n",
    "\n",
    "predict = clf.predict(arm0_x_test)\n",
    "print(\"AUC:\", roc_auc_score(arm0_y_test, predict))\n",
    "print(f\"Report for {clf}, arm0:\\n\"\n",
    "      f\"{classification_report(arm0_y_test, predict)}\\n\")\n",
    "\n",
    "disp = plot_confusion_matrix(clf, arm0_x_test, arm0_y_test)\n",
    "disp.figure_.suptitle(f\"Confusion matrix, {clf}, arm0\")\n",
    "\n",
    "plt.show()\n",
    "\n",
    "evaluation[\"best-random-forest\"][\"arm0\"] = (roc_auc_score(arm0_y_test, predict),  f1_score(arm0_y_test, predict))"
   ]
  },
  {
   "cell_type": "markdown",
   "id": "greatest-samba",
   "metadata": {},
   "source": [
    "#### arm1"
   ]
  },
  {
   "cell_type": "code",
   "execution_count": 14,
   "id": "hungry-gateway",
   "metadata": {},
   "outputs": [],
   "source": [
    "_ = clf.fit(arm1_x_train, arm1_y_train)"
   ]
  },
  {
   "cell_type": "code",
   "execution_count": 15,
   "id": "atlantic-semiconductor",
   "metadata": {},
   "outputs": [
    {
     "name": "stdout",
     "output_type": "stream",
     "text": [
      "AUC: 0.5107142857142857\n",
      "Report for RandomForestClassifier(random_state=42), arm1:\n",
      "              precision    recall  f1-score   support\n",
      "\n",
      "           0       0.52      0.57      0.55        21\n",
      "           1       0.50      0.45      0.47        20\n",
      "\n",
      "    accuracy                           0.51        41\n",
      "   macro avg       0.51      0.51      0.51        41\n",
      "weighted avg       0.51      0.51      0.51        41\n",
      "\n",
      "\n"
     ]
    },
    {
     "data": {
      "image/png": "[encoded data removed]",
      "text/plain": [
       "<Figure size 432x288 with 2 Axes>"
      ]
     },
     "metadata": {
      "needs_background": "light"
     },
     "output_type": "display_data"
    }
   ],
   "source": [
    "from sklearn.metrics import classification_report, plot_confusion_matrix, roc_auc_score, f1_score\n",
    "\n",
    "predict = clf.predict(arm1_x_test)\n",
    "print(\"AUC:\", roc_auc_score(arm1_y_test, predict))\n",
    "print(f\"Report for {clf}, arm1:\\n\"\n",
    "      f\"{classification_report(arm1_y_test, predict)}\\n\")\n",
    "\n",
    "disp = plot_confusion_matrix(clf, arm1_x_test, arm1_y_test)\n",
    "disp.figure_.suptitle(f\"Confusion matrix, {clf}, arm1\")\n",
    "\n",
    "plt.show()\n",
    "\n",
    "evaluation[\"best-random-forest\"][\"arm1\"] = (roc_auc_score(arm1_y_test, predict),  f1_score(arm1_y_test, predict))"
   ]
  },
  {
   "cell_type": "markdown",
   "id": "false-technical",
   "metadata": {},
   "source": [
    "### Gaussian Naive Bayes"
   ]
  },
  {
   "cell_type": "code",
   "execution_count": 16,
   "id": "heavy-regulation",
   "metadata": {},
   "outputs": [],
   "source": [
    "from sklearn.naive_bayes import GaussianNB\n",
    "clf = GaussianNB()\n",
    "evaluation[\"best-gaussian-nb\"] = {}"
   ]
  },
  {
   "cell_type": "markdown",
   "id": "stretch-hanging",
   "metadata": {},
   "source": [
    "#### arm0"
   ]
  },
  {
   "cell_type": "code",
   "execution_count": 17,
   "id": "exempt-model",
   "metadata": {},
   "outputs": [],
   "source": [
    "_ = clf.fit(arm0_x_train, arm0_y_train)"
   ]
  },
  {
   "cell_type": "code",
   "execution_count": 18,
   "id": "daily-router",
   "metadata": {},
   "outputs": [
    {
     "name": "stdout",
     "output_type": "stream",
     "text": [
      "AUC: 0.47023809523809523\n",
      "Report for GaussianNB(), arm0:\n",
      "              precision    recall  f1-score   support\n",
      "\n",
      "           0       0.33      0.04      0.06        28\n",
      "           1       0.41      0.90      0.57        21\n",
      "\n",
      "    accuracy                           0.41        49\n",
      "   macro avg       0.37      0.47      0.32        49\n",
      "weighted avg       0.37      0.41      0.28        49\n",
      "\n",
      "\n"
     ]
    },
    {
     "data": {
      "image/png": "[encoded data removed]",
      "text/plain": [
       "<Figure size 432x288 with 2 Axes>"
      ]
     },
     "metadata": {
      "needs_background": "light"
     },
     "output_type": "display_data"
    }
   ],
   "source": [
    "from sklearn.metrics import classification_report, plot_confusion_matrix, roc_auc_score, f1_score\n",
    "\n",
    "predict = clf.predict(arm0_x_test)\n",
    "print(\"AUC:\", roc_auc_score(arm0_y_test, predict))\n",
    "print(f\"Report for {clf}, arm0:\\n\"\n",
    "      f\"{classification_report(arm0_y_test, predict)}\\n\")\n",
    "\n",
    "disp = plot_confusion_matrix(clf, arm0_x_test, arm0_y_test)\n",
    "disp.figure_.suptitle(f\"Confusion matrix, {clf}, arm0\")\n",
    "\n",
    "plt.show()\n",
    "\n",
    "evaluation[\"best-gaussian-nb\"][\"arm0\"] = (roc_auc_score(arm0_y_test, predict),  f1_score(arm0_y_test, predict))"
   ]
  },
  {
   "cell_type": "markdown",
   "id": "conservative-christmas",
   "metadata": {},
   "source": [
    "#### arm1"
   ]
  },
  {
   "cell_type": "code",
   "execution_count": 19,
   "id": "israeli-bread",
   "metadata": {},
   "outputs": [],
   "source": [
    "_ = clf.fit(arm1_x_train, arm1_y_train)"
   ]
  },
  {
   "cell_type": "code",
   "execution_count": 20,
   "id": "generous-rebecca",
   "metadata": {},
   "outputs": [
    {
     "name": "stdout",
     "output_type": "stream",
     "text": [
      "AUC: 0.47619047619047616\n",
      "Report for GaussianNB(), arm1:\n",
      "              precision    recall  f1-score   support\n",
      "\n",
      "           0       0.50      0.95      0.66        21\n",
      "           1       0.00      0.00      0.00        20\n",
      "\n",
      "    accuracy                           0.49        41\n",
      "   macro avg       0.25      0.48      0.33        41\n",
      "weighted avg       0.26      0.49      0.34        41\n",
      "\n",
      "\n"
     ]
    },
    {
     "data": {
      "image/png": "[encoded data removed]",
      "text/plain": [
       "<Figure size 432x288 with 2 Axes>"
      ]
     },
     "metadata": {
      "needs_background": "light"
     },
     "output_type": "display_data"
    }
   ],
   "source": [
    "from sklearn.metrics import classification_report, plot_confusion_matrix, roc_auc_score, f1_score\n",
    "\n",
    "predict = clf.predict(arm1_x_test)\n",
    "print(\"AUC:\", roc_auc_score(arm1_y_test, predict))\n",
    "print(f\"Report for {clf}, arm1:\\n\"\n",
    "      f\"{classification_report(arm1_y_test, predict)}\\n\")\n",
    "\n",
    "disp = plot_confusion_matrix(clf, arm1_x_test, arm1_y_test)\n",
    "disp.figure_.suptitle(f\"Confusion matrix, {clf}, arm1\")\n",
    "\n",
    "plt.show()\n",
    "\n",
    "evaluation[\"best-gaussian-nb\"][\"arm1\"] = (roc_auc_score(arm1_y_test, predict),  f1_score(arm1_y_test, predict))"
   ]
  },
  {
   "cell_type": "markdown",
   "id": "posted-award",
   "metadata": {},
   "source": [
    "### Bernoulli Naive Bayes"
   ]
  },
  {
   "cell_type": "code",
   "execution_count": 21,
   "id": "improved-performer",
   "metadata": {},
   "outputs": [],
   "source": [
    "from sklearn.naive_bayes import BernoulliNB\n",
    "clf = BernoulliNB()\n",
    "evaluation[\"best-bernoulli-nb\"] = {}"
   ]
  },
  {
   "cell_type": "markdown",
   "id": "czech-shade",
   "metadata": {},
   "source": [
    "#### arm0"
   ]
  },
  {
   "cell_type": "code",
   "execution_count": 22,
   "id": "headed-intervention",
   "metadata": {},
   "outputs": [],
   "source": [
    "_ = clf.fit(arm0_x_train, arm0_y_train)"
   ]
  },
  {
   "cell_type": "code",
   "execution_count": 23,
   "id": "resistant-picture",
   "metadata": {},
   "outputs": [
    {
     "name": "stdout",
     "output_type": "stream",
     "text": [
      "AUC: 0.45833333333333337\n",
      "Report for BernoulliNB(), arm0:\n",
      "              precision    recall  f1-score   support\n",
      "\n",
      "           0       0.55      0.82      0.66        28\n",
      "           1       0.29      0.10      0.14        21\n",
      "\n",
      "    accuracy                           0.51        49\n",
      "   macro avg       0.42      0.46      0.40        49\n",
      "weighted avg       0.44      0.51      0.44        49\n",
      "\n",
      "\n"
     ]
    },
    {
     "data": {
      "image/png": "[encoded data removed]",
      "text/plain": [
       "<Figure size 432x288 with 2 Axes>"
      ]
     },
     "metadata": {
      "needs_background": "light"
     },
     "output_type": "display_data"
    }
   ],
   "source": [
    "from sklearn.metrics import classification_report, plot_confusion_matrix, roc_auc_score, f1_score\n",
    "\n",
    "predict = clf.predict(arm0_x_test)\n",
    "print(\"AUC:\", roc_auc_score(arm0_y_test, predict))\n",
    "print(f\"Report for {clf}, arm0:\\n\"\n",
    "      f\"{classification_report(arm0_y_test, predict)}\\n\")\n",
    "\n",
    "disp = plot_confusion_matrix(clf, arm0_x_test, arm0_y_test)\n",
    "disp.figure_.suptitle(f\"Confusion matrix, {clf}, arm0\")\n",
    "\n",
    "plt.show()\n",
    "\n",
    "evaluation[\"best-bernoulli-nb\"][\"arm0\"] = (roc_auc_score(arm0_y_test, predict),  f1_score(arm0_y_test, predict))"
   ]
  },
  {
   "cell_type": "markdown",
   "id": "shaped-drink",
   "metadata": {},
   "source": [
    "#### arm1"
   ]
  },
  {
   "cell_type": "code",
   "execution_count": 24,
   "id": "likely-thesis",
   "metadata": {},
   "outputs": [],
   "source": [
    "_ = clf.fit(arm1_x_train, arm1_y_train)"
   ]
  },
  {
   "cell_type": "code",
   "execution_count": 25,
   "id": "constant-might",
   "metadata": {},
   "outputs": [
    {
     "name": "stdout",
     "output_type": "stream",
     "text": [
      "AUC: 0.555952380952381\n",
      "Report for BernoulliNB(), arm1:\n",
      "              precision    recall  f1-score   support\n",
      "\n",
      "           0       0.55      0.76      0.64        21\n",
      "           1       0.58      0.35      0.44        20\n",
      "\n",
      "    accuracy                           0.56        41\n",
      "   macro avg       0.57      0.56      0.54        41\n",
      "weighted avg       0.57      0.56      0.54        41\n",
      "\n",
      "\n"
     ]
    },
    {
     "data": {
      "image/png": "[encoded data removed]",
      "text/plain": [
       "<Figure size 432x288 with 2 Axes>"
      ]
     },
     "metadata": {
      "needs_background": "light"
     },
     "output_type": "display_data"
    }
   ],
   "source": [
    "from sklearn.metrics import classification_report, plot_confusion_matrix, roc_auc_score, f1_score\n",
    "\n",
    "predict = clf.predict(arm1_x_test)\n",
    "print(\"AUC:\", roc_auc_score(arm1_y_test, predict))\n",
    "print(f\"Report for {clf}, arm1:\\n\"\n",
    "      f\"{classification_report(arm1_y_test, predict)}\\n\")\n",
    "\n",
    "disp = plot_confusion_matrix(clf, arm1_x_test, arm1_y_test)\n",
    "disp.figure_.suptitle(f\"Confusion matrix, {clf}, arm1\")\n",
    "\n",
    "plt.show()\n",
    "\n",
    "evaluation[\"best-bernoulli-nb\"][\"arm1\"] = (roc_auc_score(arm1_y_test, predict),  f1_score(arm1_y_test, predict))"
   ]
  },
  {
   "cell_type": "markdown",
   "id": "graphic-beijing",
   "metadata": {},
   "source": [
    "## Classification on dpfs using all mutation measures"
   ]
  },
  {
   "cell_type": "code",
   "execution_count": 26,
   "id": "preliminary-uganda",
   "metadata": {},
   "outputs": [],
   "source": [
    "arm0_all_dataset = pd.read_csv(\"arm0_all_mutations.csv\")\n",
    "arm1_all_dataset = pd.read_csv(\"arm1_all_mutations.csv\")"
   ]
  },
  {
   "cell_type": "code",
   "execution_count": 27,
   "id": "affected-sport",
   "metadata": {},
   "outputs": [],
   "source": [
    "arm0_all_dataset[\"dpfs\"] = arm0_all_dataset[\"dpfs\"].map(lambda x: 0 if x < 365 else 1)\n",
    "arm1_all_dataset[\"dpfs\"] = arm1_all_dataset[\"dpfs\"].map(lambda x: 0 if x < 365 else 1)"
   ]
  },
  {
   "cell_type": "code",
   "execution_count": 28,
   "id": "interpreted-athens",
   "metadata": {},
   "outputs": [],
   "source": [
    "from sklearn.model_selection import train_test_split\n",
    "\n",
    "arm0_x, arm0_y = (\n",
    "    arm0_all_dataset.drop([\"dpfs\", \"PatientFirstName\"], axis=\"columns\"),\n",
    "    arm0_all_dataset[\"dpfs\"],\n",
    ")\n",
    "arm0_x_train, arm0_x_test, arm0_y_train, arm0_y_test = train_test_split(\n",
    "    arm0_x, arm0_y, test_size=0.30, random_state=42\n",
    ")\n",
    "\n",
    "arm1_x, arm1_y = (\n",
    "    arm1_all_dataset.drop([\"dpfs\", \"PatientFirstName\"], axis=\"columns\"),\n",
    "    arm1_all_dataset[\"dpfs\"],\n",
    ")\n",
    "arm1_x_train, arm1_x_test, arm1_y_train, arm1_y_test = train_test_split(\n",
    "    arm1_x, arm1_y, test_size=0.30, random_state=42\n",
    ")"
   ]
  },
  {
   "cell_type": "markdown",
   "id": "impaired-cosmetic",
   "metadata": {},
   "source": [
    "### SVC"
   ]
  },
  {
   "cell_type": "code",
   "execution_count": 29,
   "id": "nervous-cabinet",
   "metadata": {},
   "outputs": [],
   "source": [
    "from sklearn.svm import SVC\n",
    "clf = SVC()\n",
    "evaluation[\"all-svc\"] = {}"
   ]
  },
  {
   "cell_type": "markdown",
   "id": "hollow-italy",
   "metadata": {},
   "source": [
    "#### arm0"
   ]
  },
  {
   "cell_type": "code",
   "execution_count": 30,
   "id": "streaming-prairie",
   "metadata": {},
   "outputs": [],
   "source": [
    "_ = clf.fit(arm0_x_train, arm0_y_train)"
   ]
  },
  {
   "cell_type": "code",
   "execution_count": 31,
   "id": "liquid-tender",
   "metadata": {},
   "outputs": [
    {
     "name": "stdout",
     "output_type": "stream",
     "text": [
      "AUC: 0.5238095238095238\n",
      "Report for SVC(), arm0:\n",
      "              precision    recall  f1-score   support\n",
      "\n",
      "           0       0.58      1.00      0.74        28\n",
      "           1       1.00      0.05      0.09        21\n",
      "\n",
      "    accuracy                           0.59        49\n",
      "   macro avg       0.79      0.52      0.41        49\n",
      "weighted avg       0.76      0.59      0.46        49\n",
      "\n",
      "\n"
     ]
    },
    {
     "data": {
      "image/png": "[encoded data removed]",
      "text/plain": [
       "<Figure size 432x288 with 2 Axes>"
      ]
     },
     "metadata": {
      "needs_background": "light"
     },
     "output_type": "display_data"
    }
   ],
   "source": [
    "from sklearn.metrics import classification_report, plot_confusion_matrix, roc_auc_score, f1_score\n",
    "\n",
    "predict = clf.predict(arm0_x_test)\n",
    "print(\"AUC:\", roc_auc_score(arm0_y_test, predict))\n",
    "print(f\"Report for {clf}, arm0:\\n\"\n",
    "      f\"{classification_report(arm0_y_test, predict)}\\n\")\n",
    "\n",
    "disp = plot_confusion_matrix(clf, arm0_x_test, arm0_y_test)\n",
    "disp.figure_.suptitle(f\"Confusion matrix, {clf}, arm0\")\n",
    "\n",
    "plt.show()\n",
    "\n",
    "evaluation[\"all-svc\"][\"arm0\"] = (roc_auc_score(arm0_y_test, predict),  f1_score(arm0_y_test, predict))"
   ]
  },
  {
   "cell_type": "markdown",
   "id": "intermediate-transparency",
   "metadata": {},
   "source": [
    "#### arm1"
   ]
  },
  {
   "cell_type": "code",
   "execution_count": 32,
   "id": "still-zambia",
   "metadata": {},
   "outputs": [],
   "source": [
    "_ = clf.fit(arm1_x_train, arm1_y_train)"
   ]
  },
  {
   "cell_type": "code",
   "execution_count": 33,
   "id": "geological-queensland",
   "metadata": {},
   "outputs": [
    {
     "name": "stdout",
     "output_type": "stream",
     "text": [
      "AUC: 0.5845238095238096\n",
      "Report for SVC(), arm1:\n",
      "              precision    recall  f1-score   support\n",
      "\n",
      "           0       0.59      0.62      0.60        21\n",
      "           1       0.58      0.55      0.56        20\n",
      "\n",
      "    accuracy                           0.59        41\n",
      "   macro avg       0.58      0.58      0.58        41\n",
      "weighted avg       0.59      0.59      0.58        41\n",
      "\n",
      "\n"
     ]
    },
    {
     "data": {
      "image/png": "[encoded data removed]",
      "text/plain": [
       "<Figure size 432x288 with 2 Axes>"
      ]
     },
     "metadata": {
      "needs_background": "light"
     },
     "output_type": "display_data"
    }
   ],
   "source": [
    "from sklearn.metrics import classification_report, plot_confusion_matrix, roc_auc_score, f1_score\n",
    "\n",
    "predict = clf.predict(arm1_x_test)\n",
    "print(\"AUC:\", roc_auc_score(arm1_y_test, predict))\n",
    "print(f\"Report for {clf}, arm1:\\n\"\n",
    "      f\"{classification_report(arm1_y_test, predict)}\\n\")\n",
    "\n",
    "disp = plot_confusion_matrix(clf, arm1_x_test, arm1_y_test)\n",
    "disp.figure_.suptitle(f\"Confusion matrix, {clf}, arm1\")\n",
    "\n",
    "plt.show()\n",
    "\n",
    "evaluation[\"all-svc\"][\"arm1\"] = (roc_auc_score(arm1_y_test, predict),  f1_score(arm1_y_test, predict))"
   ]
  },
  {
   "cell_type": "code",
   "execution_count": 34,
   "id": "waiting-shuttle",
   "metadata": {},
   "outputs": [
    {
     "data": {
      "text/markdown": [
       "----\n",
       "#### arm0, SVC best hyperparams"
      ],
      "text/plain": [
       "<IPython.core.display.Markdown object>"
      ]
     },
     "metadata": {},
     "output_type": "display_data"
    },
    {
     "name": "stdout",
     "output_type": "stream",
     "text": [
      "Fitting 5 folds for each of 10 candidates, totalling 50 fits\n",
      "AUC: 0.5\n",
      "Report for SVC(), arm0:\n",
      "              precision    recall  f1-score   support\n",
      "\n",
      "           0       0.57      0.43      0.49        28\n",
      "           1       0.43      0.57      0.49        21\n",
      "\n",
      "    accuracy                           0.49        49\n",
      "   macro avg       0.50      0.50      0.49        49\n",
      "weighted avg       0.51      0.49      0.49        49\n",
      "\n",
      "\n"
     ]
    },
    {
     "data": {
      "image/png": "[encoded data removed]",
      "text/plain": [
       "<Figure size 432x288 with 2 Axes>"
      ]
     },
     "metadata": {
      "needs_background": "light"
     },
     "output_type": "display_data"
    },
    {
     "data": {
      "text/markdown": [
       "#### arm1, SVC best hyperparams"
      ],
      "text/plain": [
       "<IPython.core.display.Markdown object>"
      ]
     },
     "metadata": {},
     "output_type": "display_data"
    },
    {
     "name": "stdout",
     "output_type": "stream",
     "text": [
      "Fitting 5 folds for each of 10 candidates, totalling 50 fits\n",
      "AUC: 0.5845238095238096\n",
      "Report for SVC(), arm1:\n",
      "              precision    recall  f1-score   support\n",
      "\n",
      "           0       0.59      0.62      0.60        21\n",
      "           1       0.58      0.55      0.56        20\n",
      "\n",
      "    accuracy                           0.59        41\n",
      "   macro avg       0.58      0.58      0.58        41\n",
      "weighted avg       0.59      0.59      0.58        41\n",
      "\n",
      "\n"
     ]
    },
    {
     "data": {
      "image/png": "[encoded data removed]",
      "text/plain": [
       "<Figure size 432x288 with 2 Axes>"
      ]
     },
     "metadata": {
      "needs_background": "light"
     },
     "output_type": "display_data"
    }
   ],
   "source": [
    "from sklearn.model_selection import cross_val_score, GridSearchCV, RandomizedSearchCV\n",
    "from sklearn.feature_selection import RFE\n",
    "from sklearn.metrics import median_absolute_error, r2_score\n",
    "from IPython.display import display, Markdown\n",
    "\n",
    "evaluation[\"all-svc-rbf-cv\"] = {}\n",
    "\n",
    "hparams = [\n",
    "    {\n",
    "        \"kernel\": [\"rbf\"],\n",
    "        \"cache_size\": [400],\n",
    "        \"gamma\": np.logspace(-2, 2, 5),\n",
    "        \"C\": [1e0, 1e1, 1e2, 1e3],\n",
    "    }\n",
    "]\n",
    "\n",
    "cvmodel = RandomizedSearchCV(\n",
    "    estimator=SVC(),\n",
    "    param_distributions=hparams,\n",
    "    scoring=\"r2\",\n",
    "    cv=5,\n",
    "    n_jobs=-1,\n",
    "    verbose=2,\n",
    "    random_state=42,\n",
    ")\n",
    "display(Markdown(\"----\\n#### arm0, SVC best hyperparams\"))\n",
    "\n",
    "_ = cvmodel.fit(arm0_x_train, arm0_y_train)\n",
    "\n",
    "predict = clf.predict(arm0_x_test)\n",
    "print(\"AUC:\", roc_auc_score(arm0_y_test, predict))\n",
    "print(f\"Report for {clf}, arm0:\\n\"\n",
    "      f\"{classification_report(arm0_y_test, predict)}\\n\")\n",
    "\n",
    "disp = plot_confusion_matrix(clf, arm0_x_test, arm0_y_test)\n",
    "disp.figure_.suptitle(f\"Confusion matrix, {clf}, arm0\")\n",
    "plt.show()\n",
    "evaluation[\"all-svc-rbf-cv\"][\"arm0\"] = (roc_auc_score(arm0_y_test, predict),  f1_score(arm0_y_test, predict))\n",
    "\n",
    "display(Markdown(\"#### arm1, SVC best hyperparams\"))\n",
    "\n",
    "_ = cvmodel.fit(arm1_x_train, arm1_y_train)\n",
    "predict = clf.predict(arm1_x_test)\n",
    "print(\"AUC:\", roc_auc_score(arm1_y_test, predict))\n",
    "print(f\"Report for {clf}, arm1:\\n\"\n",
    "      f\"{classification_report(arm1_y_test, predict)}\\n\")\n",
    "\n",
    "disp = plot_confusion_matrix(clf, arm1_x_test, arm1_y_test)\n",
    "disp.figure_.suptitle(f\"Confusion matrix, {clf}, arm1\")\n",
    "plt.show()\n",
    "evaluation[\"all-svc-rbf-cv\"][\"arm1\"] = (roc_auc_score(arm1_y_test, predict),  f1_score(arm1_y_test, predict))"
   ]
  },
  {
   "cell_type": "markdown",
   "id": "settled-graphic",
   "metadata": {},
   "source": [
    "### Random forest"
   ]
  },
  {
   "cell_type": "code",
   "execution_count": 35,
   "id": "departmental-companion",
   "metadata": {},
   "outputs": [],
   "source": [
    "from sklearn.ensemble import RandomForestClassifier\n",
    "clf = RandomForestClassifier(random_state=42)\n",
    "evaluation[\"all-random-forest\"] = {}"
   ]
  },
  {
   "cell_type": "markdown",
   "id": "latter-latvia",
   "metadata": {},
   "source": [
    "#### arm0"
   ]
  },
  {
   "cell_type": "code",
   "execution_count": 36,
   "id": "collective-nursery",
   "metadata": {},
   "outputs": [],
   "source": [
    "_ = clf.fit(arm0_x_train, arm0_y_train)"
   ]
  },
  {
   "cell_type": "code",
   "execution_count": 37,
   "id": "colored-packing",
   "metadata": {},
   "outputs": [
    {
     "name": "stdout",
     "output_type": "stream",
     "text": [
      "AUC: 0.5476190476190477\n",
      "Report for RandomForestClassifier(random_state=42), arm0:\n",
      "              precision    recall  f1-score   support\n",
      "\n",
      "           0       0.60      0.86      0.71        28\n",
      "           1       0.56      0.24      0.33        21\n",
      "\n",
      "    accuracy                           0.59        49\n",
      "   macro avg       0.58      0.55      0.52        49\n",
      "weighted avg       0.58      0.59      0.55        49\n",
      "\n",
      "\n"
     ]
    },
    {
     "data": {
      "image/png": "[encoded data removed]",
      "text/plain": [
       "<Figure size 432x288 with 2 Axes>"
      ]
     },
     "metadata": {
      "needs_background": "light"
     },
     "output_type": "display_data"
    }
   ],
   "source": [
    "from sklearn.metrics import classification_report, plot_confusion_matrix, roc_auc_score, f1_score\n",
    "\n",
    "predict = clf.predict(arm0_x_test)\n",
    "print(\"AUC:\", roc_auc_score(arm0_y_test, predict))\n",
    "print(f\"Report for {clf}, arm0:\\n\"\n",
    "      f\"{classification_report(arm0_y_test, predict)}\\n\")\n",
    "\n",
    "disp = plot_confusion_matrix(clf, arm0_x_test, arm0_y_test)\n",
    "disp.figure_.suptitle(f\"Confusion matrix, {clf}, arm0\")\n",
    "\n",
    "plt.show()\n",
    "\n",
    "evaluation[\"all-random-forest\"][\"arm0\"] = (roc_auc_score(arm0_y_test, predict),  f1_score(arm0_y_test, predict))"
   ]
  },
  {
   "cell_type": "markdown",
   "id": "tight-country",
   "metadata": {},
   "source": [
    "#### arm1"
   ]
  },
  {
   "cell_type": "code",
   "execution_count": 38,
   "id": "entertaining-surfing",
   "metadata": {},
   "outputs": [],
   "source": [
    "_ = clf.fit(arm1_x_train, arm1_y_train)"
   ]
  },
  {
   "cell_type": "code",
   "execution_count": 39,
   "id": "laden-league",
   "metadata": {},
   "outputs": [
    {
     "name": "stdout",
     "output_type": "stream",
     "text": [
      "AUC: 0.6107142857142857\n",
      "Report for RandomForestClassifier(random_state=42), arm1:\n",
      "              precision    recall  f1-score   support\n",
      "\n",
      "           0       0.63      0.57      0.60        21\n",
      "           1       0.59      0.65      0.62        20\n",
      "\n",
      "    accuracy                           0.61        41\n",
      "   macro avg       0.61      0.61      0.61        41\n",
      "weighted avg       0.61      0.61      0.61        41\n",
      "\n",
      "\n"
     ]
    },
    {
     "data": {
      "image/png": "[encoded data removed]",
      "text/plain": [
       "<Figure size 432x288 with 2 Axes>"
      ]
     },
     "metadata": {
      "needs_background": "light"
     },
     "output_type": "display_data"
    }
   ],
   "source": [
    "from sklearn.metrics import classification_report, plot_confusion_matrix, roc_auc_score, f1_score\n",
    "\n",
    "predict = clf.predict(arm1_x_test)\n",
    "print(\"AUC:\", roc_auc_score(arm1_y_test, predict))\n",
    "print(f\"Report for {clf}, arm1:\\n\"\n",
    "      f\"{classification_report(arm1_y_test, predict)}\\n\")\n",
    "\n",
    "disp = plot_confusion_matrix(clf, arm1_x_test, arm1_y_test)\n",
    "disp.figure_.suptitle(f\"Confusion matrix, {clf}, arm1\")\n",
    "\n",
    "plt.show()\n",
    "\n",
    "evaluation[\"all-random-forest\"][\"arm1\"] = (roc_auc_score(arm1_y_test, predict),  f1_score(arm1_y_test, predict))"
   ]
  },
  {
   "cell_type": "code",
   "execution_count": 40,
   "id": "earned-family",
   "metadata": {},
   "outputs": [
    {
     "data": {
      "text/markdown": [
       "----\n",
       "#### arm0, random forest best hyperparams"
      ],
      "text/plain": [
       "<IPython.core.display.Markdown object>"
      ]
     },
     "metadata": {},
     "output_type": "display_data"
    },
    {
     "name": "stdout",
     "output_type": "stream",
     "text": [
      "Fitting 5 folds for each of 10 candidates, totalling 50 fits\n",
      "AUC: 0.4523809523809524\n",
      "Report for RandomForestClassifier(random_state=42), arm0:\n",
      "              precision    recall  f1-score   support\n",
      "\n",
      "           0       0.52      0.43      0.47        28\n",
      "           1       0.38      0.48      0.43        21\n",
      "\n",
      "    accuracy                           0.45        49\n",
      "   macro avg       0.45      0.45      0.45        49\n",
      "weighted avg       0.46      0.45      0.45        49\n",
      "\n",
      "\n"
     ]
    },
    {
     "data": {
      "image/png": "[encoded data removed]",
      "text/plain": [
       "<Figure size 432x288 with 2 Axes>"
      ]
     },
     "metadata": {
      "needs_background": "light"
     },
     "output_type": "display_data"
    },
    {
     "data": {
      "text/markdown": [
       "#### arm1, random forest best hyperparams"
      ],
      "text/plain": [
       "<IPython.core.display.Markdown object>"
      ]
     },
     "metadata": {},
     "output_type": "display_data"
    },
    {
     "name": "stdout",
     "output_type": "stream",
     "text": [
      "Fitting 5 folds for each of 10 candidates, totalling 50 fits\n",
      "AUC: 0.6107142857142857\n",
      "Report for RandomForestClassifier(random_state=42), arm1:\n",
      "              precision    recall  f1-score   support\n",
      "\n",
      "           0       0.63      0.57      0.60        21\n",
      "           1       0.59      0.65      0.62        20\n",
      "\n",
      "    accuracy                           0.61        41\n",
      "   macro avg       0.61      0.61      0.61        41\n",
      "weighted avg       0.61      0.61      0.61        41\n",
      "\n",
      "\n"
     ]
    },
    {
     "data": {
      "image/png": "[encoded data removed]",
      "text/plain": [
       "<Figure size 432x288 with 2 Axes>"
      ]
     },
     "metadata": {
      "needs_background": "light"
     },
     "output_type": "display_data"
    }
   ],
   "source": [
    "from sklearn.model_selection import cross_val_score, GridSearchCV, RandomizedSearchCV\n",
    "from sklearn.feature_selection import RFE\n",
    "from sklearn.metrics import median_absolute_error, r2_score\n",
    "from IPython.display import display, Markdown\n",
    "\n",
    "evaluation[\"all-random-forest-cv\"] = {}\n",
    "\n",
    "hparams = [\n",
    "    {\n",
    "        \"criterion\": [\"gini\", \"entropy\"],\n",
    "        \"max_features\": [\"auto\", \"sqrt\"],\n",
    "        \"max_depth\": [int(x) for x in np.linspace(8, 110, num=15)] + [None],\n",
    "        \"min_samples_split\": [2, 5, 7, 10],\n",
    "        \"min_samples_leaf\": [1, 2, 4],\n",
    "    }\n",
    "]\n",
    "model = RandomForestClassifier()\n",
    "\n",
    "cvmodel = RandomizedSearchCV(\n",
    "    estimator=model,\n",
    "    param_distributions=hparams,\n",
    "    scoring=\"r2\",\n",
    "    cv=5,\n",
    "    n_jobs=-1,\n",
    "    verbose=2,\n",
    "    random_state=42,\n",
    ")\n",
    "display(Markdown(\"----\\n#### arm0, random forest best hyperparams\"))\n",
    "\n",
    "_ = cvmodel.fit(arm0_x_train, arm0_y_train)\n",
    "\n",
    "predict = clf.predict(arm0_x_test)\n",
    "print(\"AUC:\", roc_auc_score(arm0_y_test, predict))\n",
    "print(f\"Report for {clf}, arm0:\\n\"\n",
    "      f\"{classification_report(arm0_y_test, predict)}\\n\")\n",
    "\n",
    "disp = plot_confusion_matrix(clf, arm0_x_test, arm0_y_test)\n",
    "disp.figure_.suptitle(f\"Confusion matrix, {clf}, arm0\")\n",
    "plt.show()\n",
    "evaluation[\"all-random-forest-cv\"][\"arm0\"] = (roc_auc_score(arm0_y_test, predict),  f1_score(arm0_y_test, predict))\n",
    "\n",
    "display(Markdown(\"#### arm1, random forest best hyperparams\"))\n",
    "\n",
    "_ = cvmodel.fit(arm1_x_train, arm1_y_train)\n",
    "predict = clf.predict(arm1_x_test)\n",
    "print(\"AUC:\", roc_auc_score(arm1_y_test, predict))\n",
    "print(f\"Report for {clf}, arm1:\\n\"\n",
    "      f\"{classification_report(arm1_y_test, predict)}\\n\")\n",
    "\n",
    "disp = plot_confusion_matrix(clf, arm1_x_test, arm1_y_test)\n",
    "disp.figure_.suptitle(f\"Confusion matrix, {clf}, arm1\")\n",
    "plt.show()\n",
    "evaluation[\"all-random-forest-cv\"][\"arm1\"] = (roc_auc_score(arm1_y_test, predict),  f1_score(arm1_y_test, predict))"
   ]
  },
  {
   "cell_type": "markdown",
   "id": "exact-boston",
   "metadata": {},
   "source": [
    "### Gaussian Naive Bayes"
   ]
  },
  {
   "cell_type": "code",
   "execution_count": 41,
   "id": "spoken-climb",
   "metadata": {},
   "outputs": [],
   "source": [
    "from sklearn.naive_bayes import GaussianNB\n",
    "clf = GaussianNB()\n",
    "evaluation[\"all-gaussian-nb\"] = {}"
   ]
  },
  {
   "cell_type": "markdown",
   "id": "minimal-willow",
   "metadata": {},
   "source": [
    "#### arm0"
   ]
  },
  {
   "cell_type": "code",
   "execution_count": 42,
   "id": "ethical-network",
   "metadata": {},
   "outputs": [],
   "source": [
    "_ = clf.fit(arm0_x_train, arm0_y_train)"
   ]
  },
  {
   "cell_type": "code",
   "execution_count": 43,
   "id": "vocational-inquiry",
   "metadata": {},
   "outputs": [
    {
     "name": "stdout",
     "output_type": "stream",
     "text": [
      "AUC: 0.4821428571428571\n",
      "Report for GaussianNB(), arm0:\n",
      "              precision    recall  f1-score   support\n",
      "\n",
      "           0       0.50      0.11      0.18        28\n",
      "           1       0.42      0.86      0.56        21\n",
      "\n",
      "    accuracy                           0.43        49\n",
      "   macro avg       0.46      0.48      0.37        49\n",
      "weighted avg       0.47      0.43      0.34        49\n",
      "\n",
      "\n"
     ]
    },
    {
     "data": {
      "image/png": "[encoded data removed]",
      "text/plain": [
       "<Figure size 432x288 with 2 Axes>"
      ]
     },
     "metadata": {
      "needs_background": "light"
     },
     "output_type": "display_data"
    }
   ],
   "source": [
    "from sklearn.metrics import classification_report, plot_confusion_matrix, roc_auc_score, f1_score\n",
    "\n",
    "predict = clf.predict(arm0_x_test)\n",
    "print(\"AUC:\", roc_auc_score(arm0_y_test, predict))\n",
    "print(f\"Report for {clf}, arm0:\\n\"\n",
    "      f\"{classification_report(arm0_y_test, predict)}\\n\")\n",
    "\n",
    "disp = plot_confusion_matrix(clf, arm0_x_test, arm0_y_test)\n",
    "disp.figure_.suptitle(f\"Confusion matrix, {clf}, arm0\")\n",
    "\n",
    "plt.show()\n",
    "\n",
    "evaluation[\"all-gaussian-nb\"][\"arm0\"] = (roc_auc_score(arm0_y_test, predict),  f1_score(arm0_y_test, predict))"
   ]
  },
  {
   "cell_type": "markdown",
   "id": "italian-perth",
   "metadata": {},
   "source": [
    "#### arm1"
   ]
  },
  {
   "cell_type": "code",
   "execution_count": 44,
   "id": "prescribed-auction",
   "metadata": {},
   "outputs": [],
   "source": [
    "_ = clf.fit(arm1_x_train, arm1_y_train)"
   ]
  },
  {
   "cell_type": "code",
   "execution_count": 45,
   "id": "measured-fifteen",
   "metadata": {},
   "outputs": [
    {
     "name": "stdout",
     "output_type": "stream",
     "text": [
      "AUC: 0.47619047619047616\n",
      "Report for GaussianNB(), arm1:\n",
      "              precision    recall  f1-score   support\n",
      "\n",
      "           0       0.50      0.95      0.66        21\n",
      "           1       0.00      0.00      0.00        20\n",
      "\n",
      "    accuracy                           0.49        41\n",
      "   macro avg       0.25      0.48      0.33        41\n",
      "weighted avg       0.26      0.49      0.34        41\n",
      "\n",
      "\n"
     ]
    },
    {
     "data": {
      "image/png": "[encoded data removed]",
      "text/plain": [
       "<Figure size 432x288 with 2 Axes>"
      ]
     },
     "metadata": {
      "needs_background": "light"
     },
     "output_type": "display_data"
    }
   ],
   "source": [
    "from sklearn.metrics import classification_report, plot_confusion_matrix, roc_auc_score, f1_score\n",
    "\n",
    "predict = clf.predict(arm1_x_test)\n",
    "print(\"AUC:\", roc_auc_score(arm1_y_test, predict))\n",
    "print(f\"Report for {clf}, arm1:\\n\"\n",
    "      f\"{classification_report(arm1_y_test, predict)}\\n\")\n",
    "\n",
    "disp = plot_confusion_matrix(clf, arm1_x_test, arm1_y_test)\n",
    "disp.figure_.suptitle(f\"Confusion matrix, {clf}, arm1\")\n",
    "\n",
    "plt.show()\n",
    "\n",
    "evaluation[\"all-gaussian-nb\"][\"arm1\"] = (roc_auc_score(arm1_y_test, predict),  f1_score(arm1_y_test, predict))"
   ]
  },
  {
   "cell_type": "markdown",
   "id": "generous-network",
   "metadata": {},
   "source": [
    "### Bernoulli Naive Bayes"
   ]
  },
  {
   "cell_type": "code",
   "execution_count": 46,
   "id": "going-mauritius",
   "metadata": {},
   "outputs": [],
   "source": [
    "from sklearn.naive_bayes import BernoulliNB\n",
    "clf = BernoulliNB()\n",
    "evaluation[\"all-bernoulli-nb\"] = {}"
   ]
  },
  {
   "cell_type": "markdown",
   "id": "grateful-recipient",
   "metadata": {},
   "source": [
    "#### arm0"
   ]
  },
  {
   "cell_type": "code",
   "execution_count": 47,
   "id": "packed-theater",
   "metadata": {},
   "outputs": [],
   "source": [
    "_ = clf.fit(arm0_x_train, arm0_y_train)"
   ]
  },
  {
   "cell_type": "code",
   "execution_count": 48,
   "id": "infrared-oxide",
   "metadata": {},
   "outputs": [
    {
     "name": "stdout",
     "output_type": "stream",
     "text": [
      "AUC: 0.5178571428571428\n",
      "Report for BernoulliNB(), arm0:\n",
      "              precision    recall  f1-score   support\n",
      "\n",
      "           0       0.58      0.75      0.66        28\n",
      "           1       0.46      0.29      0.35        21\n",
      "\n",
      "    accuracy                           0.55        49\n",
      "   macro avg       0.52      0.52      0.50        49\n",
      "weighted avg       0.53      0.55      0.53        49\n",
      "\n",
      "\n"
     ]
    },
    {
     "data": {
      "image/png": "[encoded data removed]",
      "text/plain": [
       "<Figure size 432x288 with 2 Axes>"
      ]
     },
     "metadata": {
      "needs_background": "light"
     },
     "output_type": "display_data"
    }
   ],
   "source": [
    "from sklearn.metrics import classification_report, plot_confusion_matrix, roc_auc_score, f1_score\n",
    "\n",
    "predict = clf.predict(arm0_x_test)\n",
    "print(\"AUC:\", roc_auc_score(arm0_y_test, predict))\n",
    "print(f\"Report for {clf}, arm0:\\n\"\n",
    "      f\"{classification_report(arm0_y_test, predict)}\\n\")\n",
    "\n",
    "disp = plot_confusion_matrix(clf, arm0_x_test, arm0_y_test)\n",
    "disp.figure_.suptitle(f\"Confusion matrix, {clf}, arm0\")\n",
    "\n",
    "plt.show()\n",
    "\n",
    "evaluation[\"all-bernoulli-nb\"][\"arm0\"] = (roc_auc_score(arm0_y_test, predict),  f1_score(arm0_y_test, predict))"
   ]
  },
  {
   "cell_type": "markdown",
   "id": "advanced-genome",
   "metadata": {},
   "source": [
    "#### arm1"
   ]
  },
  {
   "cell_type": "code",
   "execution_count": 49,
   "id": "cheap-senegal",
   "metadata": {},
   "outputs": [],
   "source": [
    "_ = clf.fit(arm1_x_train, arm1_y_train)"
   ]
  },
  {
   "cell_type": "code",
   "execution_count": 50,
   "id": "placed-public",
   "metadata": {},
   "outputs": [
    {
     "name": "stdout",
     "output_type": "stream",
     "text": [
      "AUC: 0.6321428571428571\n",
      "Report for BernoulliNB(), arm1:\n",
      "              precision    recall  f1-score   support\n",
      "\n",
      "           0       0.62      0.71      0.67        21\n",
      "           1       0.65      0.55      0.59        20\n",
      "\n",
      "    accuracy                           0.63        41\n",
      "   macro avg       0.64      0.63      0.63        41\n",
      "weighted avg       0.64      0.63      0.63        41\n",
      "\n",
      "\n"
     ]
    },
    {
     "data": {
      "image/png": "[encoded data removed]",
      "text/plain": [
       "<Figure size 432x288 with 2 Axes>"
      ]
     },
     "metadata": {
      "needs_background": "light"
     },
     "output_type": "display_data"
    }
   ],
   "source": [
    "from sklearn.metrics import classification_report, plot_confusion_matrix, roc_auc_score, f1_score\n",
    "\n",
    "predict = clf.predict(arm1_x_test)\n",
    "print(\"AUC:\", roc_auc_score(arm1_y_test, predict))\n",
    "print(f\"Report for {clf}, arm1:\\n\"\n",
    "      f\"{classification_report(arm1_y_test, predict)}\\n\")\n",
    "\n",
    "disp = plot_confusion_matrix(clf, arm1_x_test, arm1_y_test)\n",
    "disp.figure_.suptitle(f\"Confusion matrix, {clf}, arm1\")\n",
    "\n",
    "plt.show()\n",
    "\n",
    "evaluation[\"all-bernoulli-nb\"][\"arm1\"] = (roc_auc_score(arm1_y_test, predict),  f1_score(arm1_y_test, predict))"
   ]
  },
  {
   "cell_type": "markdown",
   "id": "australian-street",
   "metadata": {},
   "source": [
    "## Classification on dpfs with the patients' clinical information\n",
    "Now for a different course of action: let's try to build a model on top of clinical parameters, which can later be combined with the pathway mutations for (hopefully) better results."
   ]
  },
  {
   "cell_type": "code",
   "execution_count": 51,
   "id": "electoral-consumption",
   "metadata": {},
   "outputs": [],
   "source": [
    "clinical = pd.read_csv(\"TRIBE2_db.csv\")\n",
    "clinical_a0 = clinical[(clinical[\"arm\"] == 0)][\n",
    "    [\n",
    "        \"age @random\",\n",
    "        \"tstag\",\n",
    "        \"nstag\",\n",
    "        \"liver\",\n",
    "        \"lung\",\n",
    "        \"nodes\",\n",
    "        \"peritoneum\",\n",
    "        \"other\",\n",
    "        \"ras\",\n",
    "        \"braf\",\n",
    "        \"dpfs\",\n",
    "    ]\n",
    "]\n",
    "clinical_a1 = clinical[(clinical[\"arm\"] == 1)][\n",
    "    [\n",
    "        \"age @random\",\n",
    "        \"tstag\",\n",
    "        \"nstag\",\n",
    "        \"liver\",\n",
    "        \"lung\",\n",
    "        \"nodes\",\n",
    "        \"peritoneum\",\n",
    "        \"other\",\n",
    "        \"ras\",\n",
    "        \"braf\",\n",
    "        \"dpfs\",\n",
    "    ]\n",
    "]\n",
    "\n",
    "# Dataset contains null values, encoded in all sort of ways..\n",
    "clinical_a0 = clinical_a0[\n",
    "    (clinical_a0[\"tstag\"] != -99)\n",
    "    & (clinical_a0[\"nstag\"] != -99)\n",
    "    & (clinical_a0[\"tstag\"] != -99)\n",
    "    & (clinical_a0[\"liver\"] != -99)\n",
    "    & (clinical_a0[\"lung\"] != -99)\n",
    "    & (clinical_a0[\"peritoneum\"] != -99)\n",
    "    & (clinical_a0[\"other\"] != -99)\n",
    "    & (clinical_a0[\"ras\"].isin([0, 1]))\n",
    "    & (clinical_a0[\"braf\"].isin([0, 1]))\n",
    "]\n",
    "clinical_a1 = clinical_a1[\n",
    "    (clinical_a1[\"tstag\"] != -99)\n",
    "    & (clinical_a1[\"nstag\"] != -99)\n",
    "    & (clinical_a1[\"tstag\"] != -99)\n",
    "    & (clinical_a1[\"liver\"] != -99)\n",
    "    & (clinical_a1[\"lung\"] != -99)\n",
    "    & (clinical_a1[\"peritoneum\"] != -99)\n",
    "    & (clinical_a1[\"other\"] != -99)\n",
    "    & (clinical_a1[\"ras\"].isin([0, 1]))\n",
    "    & (clinical_a1[\"braf\"].isin([0, 1]))\n",
    "]"
   ]
  },
  {
   "cell_type": "code",
   "execution_count": 52,
   "id": "closed-mortality",
   "metadata": {},
   "outputs": [],
   "source": [
    "clinical_a0[\"dpfs\"] = clinical_a0[\"dpfs\"].map(lambda x: 0 if x < 365 else 1)\n",
    "clinical_a1[\"dpfs\"] = clinical_a1[\"dpfs\"].map(lambda x: 0 if x < 365 else 1)"
   ]
  },
  {
   "cell_type": "code",
   "execution_count": 53,
   "id": "bright-indonesian",
   "metadata": {},
   "outputs": [],
   "source": [
    "from sklearn.model_selection import train_test_split\n",
    "\n",
    "arm0_x, arm0_y = (\n",
    "    clinical_a0.drop(\"dpfs\", axis=\"columns\"),\n",
    "    clinical_a0[\"dpfs\"],\n",
    ")\n",
    "arm0_x_train, arm0_x_test, arm0_y_train, arm0_y_test = train_test_split(\n",
    "    arm0_x, arm0_y, test_size=0.30, random_state=42\n",
    ")\n",
    "\n",
    "arm1_x, arm1_y = (\n",
    "    clinical_a1.drop(\"dpfs\", axis=\"columns\"),\n",
    "    clinical_a1[\"dpfs\"],\n",
    ")\n",
    "arm1_x_train, arm1_x_test, arm1_y_train, arm1_y_test = train_test_split(\n",
    "    arm1_x, arm1_y, test_size=0.30, random_state=42\n",
    ")"
   ]
  },
  {
   "cell_type": "markdown",
   "id": "nearby-serve",
   "metadata": {},
   "source": [
    "### SVC"
   ]
  },
  {
   "cell_type": "code",
   "execution_count": 54,
   "id": "immediate-collection",
   "metadata": {},
   "outputs": [],
   "source": [
    "from sklearn.svm import SVC\n",
    "clf = SVC()\n",
    "evaluation[\"clinical-svc\"] = {}"
   ]
  },
  {
   "cell_type": "markdown",
   "id": "average-pastor",
   "metadata": {},
   "source": [
    "#### arm0"
   ]
  },
  {
   "cell_type": "code",
   "execution_count": 55,
   "id": "crucial-implement",
   "metadata": {},
   "outputs": [],
   "source": [
    "_ = clf.fit(arm0_x_train, arm0_y_train)"
   ]
  },
  {
   "cell_type": "code",
   "execution_count": 56,
   "id": "extraordinary-penny",
   "metadata": {},
   "outputs": [
    {
     "name": "stdout",
     "output_type": "stream",
     "text": [
      "AUC: 0.5\n",
      "Report for SVC(), arm0:\n",
      "              precision    recall  f1-score   support\n",
      "\n",
      "           0       0.58      1.00      0.73        26\n",
      "           1       0.00      0.00      0.00        19\n",
      "\n",
      "    accuracy                           0.58        45\n",
      "   macro avg       0.29      0.50      0.37        45\n",
      "weighted avg       0.33      0.58      0.42        45\n",
      "\n",
      "\n"
     ]
    },
    {
     "name": "stderr",
     "output_type": "stream",
     "text": [
      "/opt/jupyter/lib/python3.9/site-packages/sklearn/metrics/_classification.py:1245: UndefinedMetricWarning: Precision and F-score are ill-defined and being set to 0.0 in labels with no predicted samples. Use `zero_division` parameter to control this behavior.\n",
      "  _warn_prf(average, modifier, msg_start, len(result))\n",
      "/opt/jupyter/lib/python3.9/site-packages/sklearn/metrics/_classification.py:1245: UndefinedMetricWarning: Precision and F-score are ill-defined and being set to 0.0 in labels with no predicted samples. Use `zero_division` parameter to control this behavior.\n",
      "  _warn_prf(average, modifier, msg_start, len(result))\n",
      "/opt/jupyter/lib/python3.9/site-packages/sklearn/metrics/_classification.py:1245: UndefinedMetricWarning: Precision and F-score are ill-defined and being set to 0.0 in labels with no predicted samples. Use `zero_division` parameter to control this behavior.\n",
      "  _warn_prf(average, modifier, msg_start, len(result))\n"
     ]
    },
    {
     "data": {
      "image/png": "[encoded data removed]",
      "text/plain": [
       "<Figure size 432x288 with 2 Axes>"
      ]
     },
     "metadata": {
      "needs_background": "light"
     },
     "output_type": "display_data"
    }
   ],
   "source": [
    "from sklearn.metrics import classification_report, plot_confusion_matrix, roc_auc_score, f1_score\n",
    "\n",
    "predict = clf.predict(arm0_x_test)\n",
    "print(\"AUC:\", roc_auc_score(arm0_y_test, predict))\n",
    "print(f\"Report for {clf}, arm0:\\n\"\n",
    "      f\"{classification_report(arm0_y_test, predict)}\\n\")\n",
    "\n",
    "disp = plot_confusion_matrix(clf, arm0_x_test, arm0_y_test)\n",
    "disp.figure_.suptitle(f\"Confusion matrix, {clf}, arm0\")\n",
    "\n",
    "plt.show()\n",
    "\n",
    "evaluation[\"clinical-svc\"][\"arm0\"] = (roc_auc_score(arm0_y_test, predict),  f1_score(arm0_y_test, predict))"
   ]
  },
  {
   "cell_type": "markdown",
   "id": "supported-possibility",
   "metadata": {},
   "source": [
    "#### arm1"
   ]
  },
  {
   "cell_type": "code",
   "execution_count": 57,
   "id": "pursuant-saver",
   "metadata": {},
   "outputs": [],
   "source": [
    "_ = clf.fit(arm1_x_train, arm1_y_train)"
   ]
  },
  {
   "cell_type": "code",
   "execution_count": 58,
   "id": "driving-makeup",
   "metadata": {},
   "outputs": [
    {
     "name": "stdout",
     "output_type": "stream",
     "text": [
      "AUC: 0.5\n",
      "Report for SVC(), arm1:\n",
      "              precision    recall  f1-score   support\n",
      "\n",
      "           0       0.00      0.00      0.00        20\n",
      "           1       0.46      1.00      0.63        17\n",
      "\n",
      "    accuracy                           0.46        37\n",
      "   macro avg       0.23      0.50      0.31        37\n",
      "weighted avg       0.21      0.46      0.29        37\n",
      "\n",
      "\n"
     ]
    },
    {
     "name": "stderr",
     "output_type": "stream",
     "text": [
      "/opt/jupyter/lib/python3.9/site-packages/sklearn/metrics/_classification.py:1245: UndefinedMetricWarning: Precision and F-score are ill-defined and being set to 0.0 in labels with no predicted samples. Use `zero_division` parameter to control this behavior.\n",
      "  _warn_prf(average, modifier, msg_start, len(result))\n",
      "/opt/jupyter/lib/python3.9/site-packages/sklearn/metrics/_classification.py:1245: UndefinedMetricWarning: Precision and F-score are ill-defined and being set to 0.0 in labels with no predicted samples. Use `zero_division` parameter to control this behavior.\n",
      "  _warn_prf(average, modifier, msg_start, len(result))\n",
      "/opt/jupyter/lib/python3.9/site-packages/sklearn/metrics/_classification.py:1245: UndefinedMetricWarning: Precision and F-score are ill-defined and being set to 0.0 in labels with no predicted samples. Use `zero_division` parameter to control this behavior.\n",
      "  _warn_prf(average, modifier, msg_start, len(result))\n"
     ]
    },
    {
     "data": {
      "image/png": "[encoded data removed]",
      "text/plain": [
       "<Figure size 432x288 with 2 Axes>"
      ]
     },
     "metadata": {
      "needs_background": "light"
     },
     "output_type": "display_data"
    }
   ],
   "source": [
    "from sklearn.metrics import classification_report, plot_confusion_matrix, roc_auc_score, f1_score\n",
    "\n",
    "predict = clf.predict(arm1_x_test)\n",
    "print(\"AUC:\", roc_auc_score(arm1_y_test, predict))\n",
    "print(f\"Report for {clf}, arm1:\\n\"\n",
    "      f\"{classification_report(arm1_y_test, predict)}\\n\")\n",
    "\n",
    "disp = plot_confusion_matrix(clf, arm1_x_test, arm1_y_test)\n",
    "disp.figure_.suptitle(f\"Confusion matrix, {clf}, arm1\")\n",
    "\n",
    "plt.show()\n",
    "\n",
    "evaluation[\"clinical-svc\"][\"arm1\"] = (roc_auc_score(arm1_y_test, predict),  f1_score(arm1_y_test, predict))"
   ]
  },
  {
   "cell_type": "code",
   "execution_count": 59,
   "id": "vocational-ordinary",
   "metadata": {},
   "outputs": [
    {
     "data": {
      "text/markdown": [
       "----\n",
       "#### arm0, SVC best hyperparams"
      ],
      "text/plain": [
       "<IPython.core.display.Markdown object>"
      ]
     },
     "metadata": {},
     "output_type": "display_data"
    },
    {
     "name": "stdout",
     "output_type": "stream",
     "text": [
      "Fitting 5 folds for each of 10 candidates, totalling 50 fits\n",
      "AUC: 0.5\n",
      "Report for SVC(), arm0:\n",
      "              precision    recall  f1-score   support\n",
      "\n",
      "           0       0.00      0.00      0.00        26\n",
      "           1       0.42      1.00      0.59        19\n",
      "\n",
      "    accuracy                           0.42        45\n",
      "   macro avg       0.21      0.50      0.30        45\n",
      "weighted avg       0.18      0.42      0.25        45\n",
      "\n",
      "\n"
     ]
    },
    {
     "name": "stderr",
     "output_type": "stream",
     "text": [
      "/opt/jupyter/lib/python3.9/site-packages/sklearn/metrics/_classification.py:1245: UndefinedMetricWarning: Precision and F-score are ill-defined and being set to 0.0 in labels with no predicted samples. Use `zero_division` parameter to control this behavior.\n",
      "  _warn_prf(average, modifier, msg_start, len(result))\n",
      "/opt/jupyter/lib/python3.9/site-packages/sklearn/metrics/_classification.py:1245: UndefinedMetricWarning: Precision and F-score are ill-defined and being set to 0.0 in labels with no predicted samples. Use `zero_division` parameter to control this behavior.\n",
      "  _warn_prf(average, modifier, msg_start, len(result))\n",
      "/opt/jupyter/lib/python3.9/site-packages/sklearn/metrics/_classification.py:1245: UndefinedMetricWarning: Precision and F-score are ill-defined and being set to 0.0 in labels with no predicted samples. Use `zero_division` parameter to control this behavior.\n",
      "  _warn_prf(average, modifier, msg_start, len(result))\n"
     ]
    },
    {
     "data": {
      "image/png": "[encoded data removed]",
      "text/plain": [
       "<Figure size 432x288 with 2 Axes>"
      ]
     },
     "metadata": {
      "needs_background": "light"
     },
     "output_type": "display_data"
    },
    {
     "data": {
      "text/markdown": [
       "#### arm1, SVC best hyperparams"
      ],
      "text/plain": [
       "<IPython.core.display.Markdown object>"
      ]
     },
     "metadata": {},
     "output_type": "display_data"
    },
    {
     "name": "stdout",
     "output_type": "stream",
     "text": [
      "Fitting 5 folds for each of 10 candidates, totalling 50 fits\n",
      "AUC: 0.5\n",
      "Report for SVC(), arm1:\n",
      "              precision    recall  f1-score   support\n",
      "\n",
      "           0       0.00      0.00      0.00        20\n",
      "           1       0.46      1.00      0.63        17\n",
      "\n",
      "    accuracy                           0.46        37\n",
      "   macro avg       0.23      0.50      0.31        37\n",
      "weighted avg       0.21      0.46      0.29        37\n",
      "\n",
      "\n"
     ]
    },
    {
     "name": "stderr",
     "output_type": "stream",
     "text": [
      "/opt/jupyter/lib/python3.9/site-packages/sklearn/metrics/_classification.py:1245: UndefinedMetricWarning: Precision and F-score are ill-defined and being set to 0.0 in labels with no predicted samples. Use `zero_division` parameter to control this behavior.\n",
      "  _warn_prf(average, modifier, msg_start, len(result))\n",
      "/opt/jupyter/lib/python3.9/site-packages/sklearn/metrics/_classification.py:1245: UndefinedMetricWarning: Precision and F-score are ill-defined and being set to 0.0 in labels with no predicted samples. Use `zero_division` parameter to control this behavior.\n",
      "  _warn_prf(average, modifier, msg_start, len(result))\n",
      "/opt/jupyter/lib/python3.9/site-packages/sklearn/metrics/_classification.py:1245: UndefinedMetricWarning: Precision and F-score are ill-defined and being set to 0.0 in labels with no predicted samples. Use `zero_division` parameter to control this behavior.\n",
      "  _warn_prf(average, modifier, msg_start, len(result))\n"
     ]
    },
    {
     "data": {
      "image/png": "[encoded data removed]",
      "text/plain": [
       "<Figure size 432x288 with 2 Axes>"
      ]
     },
     "metadata": {
      "needs_background": "light"
     },
     "output_type": "display_data"
    }
   ],
   "source": [
    "from sklearn.model_selection import cross_val_score, GridSearchCV, RandomizedSearchCV\n",
    "from sklearn.feature_selection import RFE\n",
    "from sklearn.metrics import median_absolute_error, r2_score\n",
    "from IPython.display import display, Markdown\n",
    "\n",
    "evaluation[\"clinical-svc-rbf-cv\"] = {}\n",
    "\n",
    "hparams = [\n",
    "    {\n",
    "        \"kernel\": [\"rbf\"],\n",
    "        \"cache_size\": [400],\n",
    "        \"gamma\": np.logspace(-2, 2, 5),\n",
    "        \"C\": [1e0, 1e1, 1e2, 1e3],\n",
    "    }\n",
    "]\n",
    "\n",
    "cvmodel = RandomizedSearchCV(\n",
    "    estimator=SVC(),\n",
    "    param_distributions=hparams,\n",
    "    scoring=\"r2\",\n",
    "    cv=5,\n",
    "    n_jobs=-1,\n",
    "    verbose=2,\n",
    "    random_state=42,\n",
    ")\n",
    "display(Markdown(\"----\\n#### arm0, SVC best hyperparams\"))\n",
    "\n",
    "_ = cvmodel.fit(arm0_x_train, arm0_y_train)\n",
    "\n",
    "predict = clf.predict(arm0_x_test)\n",
    "print(\"AUC:\", roc_auc_score(arm0_y_test, predict))\n",
    "print(f\"Report for {clf}, arm0:\\n\"\n",
    "      f\"{classification_report(arm0_y_test, predict)}\\n\")\n",
    "\n",
    "disp = plot_confusion_matrix(clf, arm0_x_test, arm0_y_test)\n",
    "disp.figure_.suptitle(f\"Confusion matrix, {clf}, arm0\")\n",
    "plt.show()\n",
    "evaluation[\"clinical-svc-rbf-cv\"][\"arm0\"] = (roc_auc_score(arm0_y_test, predict),  f1_score(arm0_y_test, predict))\n",
    "\n",
    "display(Markdown(\"#### arm1, SVC best hyperparams\"))\n",
    "\n",
    "_ = cvmodel.fit(arm1_x_train, arm1_y_train)\n",
    "predict = clf.predict(arm1_x_test)\n",
    "print(\"AUC:\", roc_auc_score(arm1_y_test, predict))\n",
    "print(f\"Report for {clf}, arm1:\\n\"\n",
    "      f\"{classification_report(arm1_y_test, predict)}\\n\")\n",
    "\n",
    "disp = plot_confusion_matrix(clf, arm1_x_test, arm1_y_test)\n",
    "disp.figure_.suptitle(f\"Confusion matrix, {clf}, arm1\")\n",
    "plt.show()\n",
    "evaluation[\"clinical-svc-rbf-cv\"][\"arm1\"] = (roc_auc_score(arm1_y_test, predict),  f1_score(arm1_y_test, predict))"
   ]
  },
  {
   "cell_type": "markdown",
   "id": "devoted-flood",
   "metadata": {},
   "source": [
    "### Random forest"
   ]
  },
  {
   "cell_type": "code",
   "execution_count": 60,
   "id": "functioning-papua",
   "metadata": {},
   "outputs": [],
   "source": [
    "from sklearn.ensemble import RandomForestClassifier\n",
    "clf = RandomForestClassifier(random_state=42)\n",
    "evaluation[\"clinical-random-forest\"] = {}"
   ]
  },
  {
   "cell_type": "markdown",
   "id": "square-request",
   "metadata": {},
   "source": [
    "#### arm0"
   ]
  },
  {
   "cell_type": "code",
   "execution_count": 61,
   "id": "effective-chrome",
   "metadata": {},
   "outputs": [],
   "source": [
    "_ = clf.fit(arm0_x_train, arm0_y_train)"
   ]
  },
  {
   "cell_type": "code",
   "execution_count": 62,
   "id": "stock-belief",
   "metadata": {},
   "outputs": [
    {
     "name": "stdout",
     "output_type": "stream",
     "text": [
      "AUC: 0.6143724696356275\n",
      "Report for RandomForestClassifier(random_state=42), arm0:\n",
      "              precision    recall  f1-score   support\n",
      "\n",
      "           0       0.66      0.81      0.72        26\n",
      "           1       0.62      0.42      0.50        19\n",
      "\n",
      "    accuracy                           0.64        45\n",
      "   macro avg       0.64      0.61      0.61        45\n",
      "weighted avg       0.64      0.64      0.63        45\n",
      "\n",
      "\n"
     ]
    },
    {
     "data": {
      "image/png": "[encoded data removed]",
      "text/plain": [
       "<Figure size 432x288 with 2 Axes>"
      ]
     },
     "metadata": {
      "needs_background": "light"
     },
     "output_type": "display_data"
    }
   ],
   "source": [
    "from sklearn.metrics import classification_report, plot_confusion_matrix, roc_auc_score, f1_score\n",
    "\n",
    "predict = clf.predict(arm0_x_test)\n",
    "print(\"AUC:\", roc_auc_score(arm0_y_test, predict))\n",
    "print(f\"Report for {clf}, arm0:\\n\"\n",
    "      f\"{classification_report(arm0_y_test, predict)}\\n\")\n",
    "\n",
    "disp = plot_confusion_matrix(clf, arm0_x_test, arm0_y_test)\n",
    "disp.figure_.suptitle(f\"Confusion matrix, {clf}, arm0\")\n",
    "\n",
    "plt.show()\n",
    "\n",
    "evaluation[\"clinical-random-forest\"][\"arm0\"] = (roc_auc_score(arm0_y_test, predict),  f1_score(arm0_y_test, predict))"
   ]
  },
  {
   "cell_type": "markdown",
   "id": "straight-enhancement",
   "metadata": {},
   "source": [
    "#### arm1"
   ]
  },
  {
   "cell_type": "code",
   "execution_count": 63,
   "id": "radio-spelling",
   "metadata": {},
   "outputs": [],
   "source": [
    "_ = clf.fit(arm1_x_train, arm1_y_train)"
   ]
  },
  {
   "cell_type": "code",
   "execution_count": 64,
   "id": "textile-passing",
   "metadata": {},
   "outputs": [
    {
     "name": "stdout",
     "output_type": "stream",
     "text": [
      "AUC: 0.46911764705882353\n",
      "Report for RandomForestClassifier(random_state=42), arm1:\n",
      "              precision    recall  f1-score   support\n",
      "\n",
      "           0       0.50      0.35      0.41        20\n",
      "           1       0.43      0.59      0.50        17\n",
      "\n",
      "    accuracy                           0.46        37\n",
      "   macro avg       0.47      0.47      0.46        37\n",
      "weighted avg       0.47      0.46      0.45        37\n",
      "\n",
      "\n"
     ]
    },
    {
     "data": {
      "image/png": "[encoded data removed]",
      "text/plain": [
       "<Figure size 432x288 with 2 Axes>"
      ]
     },
     "metadata": {
      "needs_background": "light"
     },
     "output_type": "display_data"
    }
   ],
   "source": [
    "from sklearn.metrics import classification_report, plot_confusion_matrix, roc_auc_score, f1_score\n",
    "\n",
    "predict = clf.predict(arm1_x_test)\n",
    "print(\"AUC:\", roc_auc_score(arm1_y_test, predict))\n",
    "print(f\"Report for {clf}, arm1:\\n\"\n",
    "      f\"{classification_report(arm1_y_test, predict)}\\n\")\n",
    "\n",
    "disp = plot_confusion_matrix(clf, arm1_x_test, arm1_y_test)\n",
    "disp.figure_.suptitle(f\"Confusion matrix, {clf}, arm1\")\n",
    "\n",
    "plt.show()\n",
    "\n",
    "evaluation[\"clinical-random-forest\"][\"arm1\"] = (roc_auc_score(arm1_y_test, predict),  f1_score(arm1_y_test, predict))"
   ]
  },
  {
   "cell_type": "code",
   "execution_count": 65,
   "id": "identified-course",
   "metadata": {},
   "outputs": [
    {
     "data": {
      "text/markdown": [
       "----\n",
       "#### arm0, random forest best hyperparams"
      ],
      "text/plain": [
       "<IPython.core.display.Markdown object>"
      ]
     },
     "metadata": {},
     "output_type": "display_data"
    },
    {
     "name": "stdout",
     "output_type": "stream",
     "text": [
      "Fitting 5 folds for each of 10 candidates, totalling 50 fits\n",
      "AUC: 0.6255060728744939\n",
      "Report for RandomForestClassifier(random_state=42), arm0:\n",
      "              precision    recall  f1-score   support\n",
      "\n",
      "           0       0.75      0.46      0.57        26\n",
      "           1       0.52      0.79      0.62        19\n",
      "\n",
      "    accuracy                           0.60        45\n",
      "   macro avg       0.63      0.63      0.60        45\n",
      "weighted avg       0.65      0.60      0.59        45\n",
      "\n",
      "\n"
     ]
    },
    {
     "data": {
      "image/png": "[encoded data removed]",
      "text/plain": [
       "<Figure size 432x288 with 2 Axes>"
      ]
     },
     "metadata": {
      "needs_background": "light"
     },
     "output_type": "display_data"
    },
    {
     "data": {
      "text/markdown": [
       "#### arm1, random forest best hyperparams"
      ],
      "text/plain": [
       "<IPython.core.display.Markdown object>"
      ]
     },
     "metadata": {},
     "output_type": "display_data"
    },
    {
     "name": "stdout",
     "output_type": "stream",
     "text": [
      "Fitting 5 folds for each of 10 candidates, totalling 50 fits\n",
      "AUC: 0.46911764705882353\n",
      "Report for RandomForestClassifier(random_state=42), arm1:\n",
      "              precision    recall  f1-score   support\n",
      "\n",
      "           0       0.50      0.35      0.41        20\n",
      "           1       0.43      0.59      0.50        17\n",
      "\n",
      "    accuracy                           0.46        37\n",
      "   macro avg       0.47      0.47      0.46        37\n",
      "weighted avg       0.47      0.46      0.45        37\n",
      "\n",
      "\n"
     ]
    },
    {
     "data": {
      "image/png": "[encoded data removed]",
      "text/plain": [
       "<Figure size 432x288 with 2 Axes>"
      ]
     },
     "metadata": {
      "needs_background": "light"
     },
     "output_type": "display_data"
    }
   ],
   "source": [
    "from sklearn.model_selection import cross_val_score, GridSearchCV, RandomizedSearchCV\n",
    "from sklearn.feature_selection import RFE\n",
    "from sklearn.metrics import median_absolute_error, r2_score\n",
    "from IPython.display import display, Markdown\n",
    "\n",
    "evaluation[\"clinical-random-forest-cv\"] = {}\n",
    "\n",
    "hparams = [\n",
    "    {\n",
    "        \"criterion\": [\"gini\", \"entropy\"],\n",
    "        \"max_features\": [\"auto\", \"sqrt\"],\n",
    "        \"max_depth\": [int(x) for x in np.linspace(8, 110, num=15)] + [None],\n",
    "        \"min_samples_split\": [2, 5, 7, 10],\n",
    "        \"min_samples_leaf\": [1, 2, 4],\n",
    "    }\n",
    "]\n",
    "model = RandomForestClassifier()\n",
    "\n",
    "cvmodel = RandomizedSearchCV(\n",
    "    estimator=model,\n",
    "    param_distributions=hparams,\n",
    "    scoring=\"r2\",\n",
    "    cv=5,\n",
    "    n_jobs=-1,\n",
    "    verbose=2,\n",
    "    random_state=42,\n",
    ")\n",
    "display(Markdown(\"----\\n#### arm0, random forest best hyperparams\"))\n",
    "\n",
    "_ = cvmodel.fit(arm0_x_train, arm0_y_train)\n",
    "\n",
    "predict = clf.predict(arm0_x_test)\n",
    "print(\"AUC:\", roc_auc_score(arm0_y_test, predict))\n",
    "print(f\"Report for {clf}, arm0:\\n\"\n",
    "      f\"{classification_report(arm0_y_test, predict)}\\n\")\n",
    "\n",
    "disp = plot_confusion_matrix(clf, arm0_x_test, arm0_y_test)\n",
    "disp.figure_.suptitle(f\"Confusion matrix, {clf}, arm0\")\n",
    "plt.show()\n",
    "evaluation[\"clinical-random-forest-cv\"][\"arm0\"] = (roc_auc_score(arm0_y_test, predict),  f1_score(arm0_y_test, predict))\n",
    "\n",
    "display(Markdown(\"#### arm1, random forest best hyperparams\"))\n",
    "\n",
    "_ = cvmodel.fit(arm1_x_train, arm1_y_train)\n",
    "predict = clf.predict(arm1_x_test)\n",
    "print(\"AUC:\", roc_auc_score(arm1_y_test, predict))\n",
    "print(f\"Report for {clf}, arm1:\\n\"\n",
    "      f\"{classification_report(arm1_y_test, predict)}\\n\")\n",
    "\n",
    "disp = plot_confusion_matrix(clf, arm1_x_test, arm1_y_test)\n",
    "disp.figure_.suptitle(f\"Confusion matrix, {clf}, arm1\")\n",
    "plt.show()\n",
    "evaluation[\"clinical-random-forest-cv\"][\"arm1\"] = (roc_auc_score(arm1_y_test, predict),  f1_score(arm1_y_test, predict))"
   ]
  },
  {
   "cell_type": "markdown",
   "id": "indonesian-bulgarian",
   "metadata": {},
   "source": [
    "### Gaussian Naive Bayes"
   ]
  },
  {
   "cell_type": "code",
   "execution_count": 66,
   "id": "automated-puzzle",
   "metadata": {},
   "outputs": [],
   "source": [
    "from sklearn.naive_bayes import GaussianNB\n",
    "clf = GaussianNB()\n",
    "evaluation[\"clinical-gaussian-nb\"] = {}"
   ]
  },
  {
   "cell_type": "markdown",
   "id": "answering-journalism",
   "metadata": {},
   "source": [
    "#### arm0"
   ]
  },
  {
   "cell_type": "code",
   "execution_count": 67,
   "id": "brazilian-ethiopia",
   "metadata": {},
   "outputs": [],
   "source": [
    "_ = clf.fit(arm0_x_train, arm0_y_train)"
   ]
  },
  {
   "cell_type": "code",
   "execution_count": 68,
   "id": "insured-separation",
   "metadata": {},
   "outputs": [
    {
     "name": "stdout",
     "output_type": "stream",
     "text": [
      "AUC: 0.5779352226720648\n",
      "Report for GaussianNB(), arm0:\n",
      "              precision    recall  f1-score   support\n",
      "\n",
      "           0       0.65      0.58      0.61        26\n",
      "           1       0.50      0.58      0.54        19\n",
      "\n",
      "    accuracy                           0.58        45\n",
      "   macro avg       0.58      0.58      0.57        45\n",
      "weighted avg       0.59      0.58      0.58        45\n",
      "\n",
      "\n"
     ]
    },
    {
     "data": {
      "image/png": "[encoded data removed]",
      "text/plain": [
       "<Figure size 432x288 with 2 Axes>"
      ]
     },
     "metadata": {
      "needs_background": "light"
     },
     "output_type": "display_data"
    }
   ],
   "source": [
    "from sklearn.metrics import classification_report, plot_confusion_matrix, roc_auc_score, f1_score\n",
    "\n",
    "predict = clf.predict(arm0_x_test)\n",
    "print(\"AUC:\", roc_auc_score(arm0_y_test, predict))\n",
    "print(f\"Report for {clf}, arm0:\\n\"\n",
    "      f\"{classification_report(arm0_y_test, predict)}\\n\")\n",
    "\n",
    "disp = plot_confusion_matrix(clf, arm0_x_test, arm0_y_test)\n",
    "disp.figure_.suptitle(f\"Confusion matrix, {clf}, arm0\")\n",
    "\n",
    "plt.show()\n",
    "\n",
    "evaluation[\"clinical-gaussian-nb\"][\"arm0\"] = (roc_auc_score(arm0_y_test, predict),  f1_score(arm0_y_test, predict))"
   ]
  },
  {
   "cell_type": "markdown",
   "id": "chubby-championship",
   "metadata": {},
   "source": [
    "#### arm1"
   ]
  },
  {
   "cell_type": "code",
   "execution_count": 69,
   "id": "realistic-liverpool",
   "metadata": {},
   "outputs": [],
   "source": [
    "_ = clf.fit(arm1_x_train, arm1_y_train)"
   ]
  },
  {
   "cell_type": "code",
   "execution_count": 70,
   "id": "cooperative-favorite",
   "metadata": {},
   "outputs": [
    {
     "name": "stdout",
     "output_type": "stream",
     "text": [
      "AUC: 0.41911764705882354\n",
      "Report for GaussianNB(), arm1:\n",
      "              precision    recall  f1-score   support\n",
      "\n",
      "           0       0.42      0.25      0.31        20\n",
      "           1       0.40      0.59      0.48        17\n",
      "\n",
      "    accuracy                           0.41        37\n",
      "   macro avg       0.41      0.42      0.39        37\n",
      "weighted avg       0.41      0.41      0.39        37\n",
      "\n",
      "\n"
     ]
    },
    {
     "data": {
      "image/png": "[encoded data removed]",
      "text/plain": [
       "<Figure size 432x288 with 2 Axes>"
      ]
     },
     "metadata": {
      "needs_background": "light"
     },
     "output_type": "display_data"
    }
   ],
   "source": [
    "from sklearn.metrics import classification_report, plot_confusion_matrix, roc_auc_score, f1_score\n",
    "\n",
    "predict = clf.predict(arm1_x_test)\n",
    "print(\"AUC:\", roc_auc_score(arm1_y_test, predict))\n",
    "print(f\"Report for {clf}, arm1:\\n\"\n",
    "      f\"{classification_report(arm1_y_test, predict)}\\n\")\n",
    "\n",
    "disp = plot_confusion_matrix(clf, arm1_x_test, arm1_y_test)\n",
    "disp.figure_.suptitle(f\"Confusion matrix, {clf}, arm1\")\n",
    "\n",
    "plt.show()\n",
    "\n",
    "evaluation[\"clinical-gaussian-nb\"][\"arm1\"] = (roc_auc_score(arm1_y_test, predict),  f1_score(arm1_y_test, predict))"
   ]
  },
  {
   "cell_type": "markdown",
   "id": "three-audit",
   "metadata": {},
   "source": [
    "### Bernoulli Naive Bayes"
   ]
  },
  {
   "cell_type": "code",
   "execution_count": 71,
   "id": "educated-small",
   "metadata": {},
   "outputs": [],
   "source": [
    "from sklearn.naive_bayes import BernoulliNB\n",
    "clf = BernoulliNB()\n",
    "evaluation[\"clinical-bernoulli-nb\"] = {}"
   ]
  },
  {
   "cell_type": "markdown",
   "id": "incoming-guarantee",
   "metadata": {},
   "source": [
    "#### arm0"
   ]
  },
  {
   "cell_type": "code",
   "execution_count": 72,
   "id": "suburban-priest",
   "metadata": {},
   "outputs": [],
   "source": [
    "_ = clf.fit(arm0_x_train, arm0_y_train)"
   ]
  },
  {
   "cell_type": "code",
   "execution_count": 73,
   "id": "considerable-clearing",
   "metadata": {},
   "outputs": [
    {
     "name": "stdout",
     "output_type": "stream",
     "text": [
      "AUC: 0.43724696356275294\n",
      "Report for BernoulliNB(), arm0:\n",
      "              precision    recall  f1-score   support\n",
      "\n",
      "           0       0.54      0.77      0.63        26\n",
      "           1       0.25      0.11      0.15        19\n",
      "\n",
      "    accuracy                           0.49        45\n",
      "   macro avg       0.40      0.44      0.39        45\n",
      "weighted avg       0.42      0.49      0.43        45\n",
      "\n",
      "\n"
     ]
    },
    {
     "data": {
      "image/png": "[encoded data removed]",
      "text/plain": [
       "<Figure size 432x288 with 2 Axes>"
      ]
     },
     "metadata": {
      "needs_background": "light"
     },
     "output_type": "display_data"
    }
   ],
   "source": [
    "from sklearn.metrics import classification_report, plot_confusion_matrix, roc_auc_score, f1_score\n",
    "\n",
    "predict = clf.predict(arm0_x_test)\n",
    "print(\"AUC:\", roc_auc_score(arm0_y_test, predict))\n",
    "print(f\"Report for {clf}, arm0:\\n\"\n",
    "      f\"{classification_report(arm0_y_test, predict)}\\n\")\n",
    "\n",
    "disp = plot_confusion_matrix(clf, arm0_x_test, arm0_y_test)\n",
    "disp.figure_.suptitle(f\"Confusion matrix, {clf}, arm0\")\n",
    "\n",
    "plt.show()\n",
    "\n",
    "evaluation[\"clinical-bernoulli-nb\"][\"arm0\"] = (roc_auc_score(arm0_y_test, predict),  f1_score(arm0_y_test, predict))"
   ]
  },
  {
   "cell_type": "markdown",
   "id": "existing-europe",
   "metadata": {},
   "source": [
    "#### arm1"
   ]
  },
  {
   "cell_type": "code",
   "execution_count": 74,
   "id": "acknowledged-metadata",
   "metadata": {},
   "outputs": [],
   "source": [
    "_ = clf.fit(arm1_x_train, arm1_y_train)"
   ]
  },
  {
   "cell_type": "code",
   "execution_count": 75,
   "id": "exceptional-northeast",
   "metadata": {},
   "outputs": [
    {
     "name": "stdout",
     "output_type": "stream",
     "text": [
      "AUC: 0.5029411764705882\n",
      "Report for BernoulliNB(), arm1:\n",
      "              precision    recall  f1-score   support\n",
      "\n",
      "           0       0.55      0.30      0.39        20\n",
      "           1       0.46      0.71      0.56        17\n",
      "\n",
      "    accuracy                           0.49        37\n",
      "   macro avg       0.50      0.50      0.47        37\n",
      "weighted avg       0.51      0.49      0.47        37\n",
      "\n",
      "\n"
     ]
    },
    {
     "data": {
      "image/png": "[encoded data removed]",
      "text/plain": [
       "<Figure size 432x288 with 2 Axes>"
      ]
     },
     "metadata": {
      "needs_background": "light"
     },
     "output_type": "display_data"
    }
   ],
   "source": [
    "from sklearn.metrics import classification_report, plot_confusion_matrix, roc_auc_score, f1_score\n",
    "\n",
    "predict = clf.predict(arm1_x_test)\n",
    "print(\"AUC:\", roc_auc_score(arm1_y_test, predict))\n",
    "print(f\"Report for {clf}, arm1:\\n\"\n",
    "      f\"{classification_report(arm1_y_test, predict)}\\n\")\n",
    "\n",
    "disp = plot_confusion_matrix(clf, arm1_x_test, arm1_y_test)\n",
    "disp.figure_.suptitle(f\"Confusion matrix, {clf}, arm1\")\n",
    "\n",
    "plt.show()\n",
    "\n",
    "evaluation[\"clinical-bernoulli-nb\"][\"arm1\"] = (roc_auc_score(arm1_y_test, predict),  f1_score(arm1_y_test, predict))"
   ]
  },
  {
   "cell_type": "markdown",
   "id": "elect-maine",
   "metadata": {},
   "source": [
    "## Classification on dpfs using all measure results, factoring in clinical data"
   ]
  },
  {
   "cell_type": "code",
   "execution_count": 76,
   "id": "activated-botswana",
   "metadata": {},
   "outputs": [],
   "source": [
    "temp_a0 = clinical[(clinical[\"arm\"] == 0)][\n",
    "    [\n",
    "        \"PatientFirstName\",\n",
    "        \"age @random\",\n",
    "        \"tstag\",\n",
    "        \"nstag\",\n",
    "        \"liver\",\n",
    "        \"lung\",\n",
    "        \"nodes\",\n",
    "        \"peritoneum\",\n",
    "        \"other\",\n",
    "        \"ras\",\n",
    "        \"braf\",\n",
    "    ]\n",
    "]\n",
    "temp_a1 = clinical[(clinical[\"arm\"] == 1)][\n",
    "    [\n",
    "        \"PatientFirstName\",\n",
    "        \"age @random\",\n",
    "        \"tstag\",\n",
    "        \"nstag\",\n",
    "        \"liver\",\n",
    "        \"lung\",\n",
    "        \"nodes\",\n",
    "        \"peritoneum\",\n",
    "        \"other\",\n",
    "        \"ras\",\n",
    "        \"braf\",\n",
    "    ]\n",
    "]\n",
    "\n",
    "# Dataset contains null values, encoded in all sort of ways..\n",
    "temp_a0 = temp_a0[\n",
    "    (temp_a0[\"tstag\"] != -99)\n",
    "    & (temp_a0[\"nstag\"] != -99)\n",
    "    & (temp_a0[\"tstag\"] != -99)\n",
    "    & (temp_a0[\"liver\"] != -99)\n",
    "    & (temp_a0[\"lung\"] != -99)\n",
    "    & (temp_a0[\"peritoneum\"] != -99)\n",
    "    & (temp_a0[\"other\"] != -99)\n",
    "    & (temp_a0[\"ras\"].isin([0, 1]))\n",
    "    & (temp_a0[\"braf\"].isin([0, 1]))\n",
    "]\n",
    "temp_a1 = temp_a1[\n",
    "    (temp_a1[\"tstag\"] != -99)\n",
    "    & (temp_a1[\"nstag\"] != -99)\n",
    "    & (temp_a1[\"tstag\"] != -99)\n",
    "    & (temp_a1[\"liver\"] != -99)\n",
    "    & (temp_a1[\"lung\"] != -99)\n",
    "    & (temp_a1[\"peritoneum\"] != -99)\n",
    "    & (temp_a1[\"other\"] != -99)\n",
    "    & (temp_a1[\"ras\"].isin([0, 1]))\n",
    "    & (temp_a1[\"braf\"].isin([0, 1]))\n",
    "]\n",
    "\n",
    "ca0_dataset = temp_a0.join(\n",
    "    arm0_all_dataset.set_index(\"PatientFirstName\"), on=\"PatientFirstName\"\n",
    ")\n",
    "ca1_dataset = temp_a1.join(\n",
    "    arm1_all_dataset.set_index(\"PatientFirstName\"), on=\"PatientFirstName\"\n",
    ")"
   ]
  },
  {
   "cell_type": "code",
   "execution_count": 77,
   "id": "alpha-rebel",
   "metadata": {},
   "outputs": [],
   "source": [
    "from sklearn.model_selection import train_test_split\n",
    "\n",
    "arm0_x, arm0_y = (\n",
    "    ca0_dataset.drop([\"dpfs\", \"PatientFirstName\"], axis=\"columns\"),\n",
    "    ca0_dataset[\"dpfs\"],\n",
    ")\n",
    "arm0_x_train, arm0_x_test, arm0_y_train, arm0_y_test = train_test_split(\n",
    "    arm0_x, arm0_y, test_size=0.30, random_state=42\n",
    ")\n",
    "\n",
    "arm1_x, arm1_y = (\n",
    "    ca1_dataset.drop([\"dpfs\", \"PatientFirstName\"], axis=\"columns\"),\n",
    "    ca1_dataset[\"dpfs\"],\n",
    ")\n",
    "arm1_x_train, arm1_x_test, arm1_y_train, arm1_y_test = train_test_split(\n",
    "    arm1_x, arm1_y, test_size=0.30, random_state=42\n",
    ")"
   ]
  },
  {
   "cell_type": "markdown",
   "id": "prerequisite-stamp",
   "metadata": {},
   "source": [
    "### SVC"
   ]
  },
  {
   "cell_type": "code",
   "execution_count": 78,
   "id": "rural-spanish",
   "metadata": {},
   "outputs": [],
   "source": [
    "from sklearn.svm import SVC\n",
    "clf = SVC()\n",
    "evaluation[\"clinical-all-svc\"] = {}"
   ]
  },
  {
   "cell_type": "markdown",
   "id": "threatened-punishment",
   "metadata": {},
   "source": [
    "#### arm0"
   ]
  },
  {
   "cell_type": "code",
   "execution_count": 79,
   "id": "distributed-reducing",
   "metadata": {},
   "outputs": [],
   "source": [
    "_ = clf.fit(arm0_x_train, arm0_y_train)"
   ]
  },
  {
   "cell_type": "code",
   "execution_count": 80,
   "id": "circular-waterproof",
   "metadata": {},
   "outputs": [
    {
     "name": "stdout",
     "output_type": "stream",
     "text": [
      "AUC: 0.5\n",
      "Report for SVC(), arm0:\n",
      "              precision    recall  f1-score   support\n",
      "\n",
      "           0       0.58      1.00      0.73        26\n",
      "           1       0.00      0.00      0.00        19\n",
      "\n",
      "    accuracy                           0.58        45\n",
      "   macro avg       0.29      0.50      0.37        45\n",
      "weighted avg       0.33      0.58      0.42        45\n",
      "\n",
      "\n"
     ]
    },
    {
     "name": "stderr",
     "output_type": "stream",
     "text": [
      "/opt/jupyter/lib/python3.9/site-packages/sklearn/metrics/_classification.py:1245: UndefinedMetricWarning: Precision and F-score are ill-defined and being set to 0.0 in labels with no predicted samples. Use `zero_division` parameter to control this behavior.\n",
      "  _warn_prf(average, modifier, msg_start, len(result))\n",
      "/opt/jupyter/lib/python3.9/site-packages/sklearn/metrics/_classification.py:1245: UndefinedMetricWarning: Precision and F-score are ill-defined and being set to 0.0 in labels with no predicted samples. Use `zero_division` parameter to control this behavior.\n",
      "  _warn_prf(average, modifier, msg_start, len(result))\n",
      "/opt/jupyter/lib/python3.9/site-packages/sklearn/metrics/_classification.py:1245: UndefinedMetricWarning: Precision and F-score are ill-defined and being set to 0.0 in labels with no predicted samples. Use `zero_division` parameter to control this behavior.\n",
      "  _warn_prf(average, modifier, msg_start, len(result))\n"
     ]
    },
    {
     "data": {
      "image/png": "[encoded data removed]",
      "text/plain": [
       "<Figure size 432x288 with 2 Axes>"
      ]
     },
     "metadata": {
      "needs_background": "light"
     },
     "output_type": "display_data"
    }
   ],
   "source": [
    "from sklearn.metrics import classification_report, plot_confusion_matrix, roc_auc_score, f1_score\n",
    "\n",
    "predict = clf.predict(arm0_x_test)\n",
    "print(\"AUC:\", roc_auc_score(arm0_y_test, predict))\n",
    "print(f\"Report for {clf}, arm0:\\n\"\n",
    "      f\"{classification_report(arm0_y_test, predict)}\\n\")\n",
    "\n",
    "disp = plot_confusion_matrix(clf, arm0_x_test, arm0_y_test)\n",
    "disp.figure_.suptitle(f\"Confusion matrix, {clf}, arm0\")\n",
    "\n",
    "plt.show()\n",
    "\n",
    "evaluation[\"clinical-all-svc\"][\"arm0\"] = (roc_auc_score(arm0_y_test, predict),  f1_score(arm0_y_test, predict))"
   ]
  },
  {
   "cell_type": "markdown",
   "id": "matched-daughter",
   "metadata": {},
   "source": [
    "#### arm1"
   ]
  },
  {
   "cell_type": "code",
   "execution_count": 81,
   "id": "injured-price",
   "metadata": {},
   "outputs": [],
   "source": [
    "_ = clf.fit(arm1_x_train, arm1_y_train)"
   ]
  },
  {
   "cell_type": "code",
   "execution_count": 82,
   "id": "naughty-arbor",
   "metadata": {},
   "outputs": [
    {
     "name": "stdout",
     "output_type": "stream",
     "text": [
      "AUC: 0.47058823529411764\n",
      "Report for SVC(), arm1:\n",
      "              precision    recall  f1-score   support\n",
      "\n",
      "           0       0.00      0.00      0.00        20\n",
      "           1       0.44      0.94      0.60        17\n",
      "\n",
      "    accuracy                           0.43        37\n",
      "   macro avg       0.22      0.47      0.30        37\n",
      "weighted avg       0.20      0.43      0.28        37\n",
      "\n",
      "\n"
     ]
    },
    {
     "data": {
      "image/png": "[encoded data removed]",
      "text/plain": [
       "<Figure size 432x288 with 2 Axes>"
      ]
     },
     "metadata": {
      "needs_background": "light"
     },
     "output_type": "display_data"
    }
   ],
   "source": [
    "from sklearn.metrics import classification_report, plot_confusion_matrix, roc_auc_score, f1_score\n",
    "\n",
    "predict = clf.predict(arm1_x_test)\n",
    "print(\"AUC:\", roc_auc_score(arm1_y_test, predict))\n",
    "print(f\"Report for {clf}, arm1:\\n\"\n",
    "      f\"{classification_report(arm1_y_test, predict)}\\n\")\n",
    "\n",
    "disp = plot_confusion_matrix(clf, arm1_x_test, arm1_y_test)\n",
    "disp.figure_.suptitle(f\"Confusion matrix, {clf}, arm1\")\n",
    "\n",
    "plt.show()\n",
    "\n",
    "evaluation[\"clinical-all-svc\"][\"arm1\"] = (roc_auc_score(arm1_y_test, predict),  f1_score(arm1_y_test, predict))"
   ]
  },
  {
   "cell_type": "code",
   "execution_count": 83,
   "id": "pending-accident",
   "metadata": {},
   "outputs": [
    {
     "data": {
      "text/markdown": [
       "----\n",
       "#### arm0, SVC best hyperparams"
      ],
      "text/plain": [
       "<IPython.core.display.Markdown object>"
      ]
     },
     "metadata": {},
     "output_type": "display_data"
    },
    {
     "name": "stdout",
     "output_type": "stream",
     "text": [
      "Fitting 5 folds for each of 10 candidates, totalling 50 fits\n",
      "AUC: 0.5\n",
      "Report for SVC(), arm0:\n",
      "              precision    recall  f1-score   support\n",
      "\n",
      "           0       0.00      0.00      0.00        26\n",
      "           1       0.42      1.00      0.59        19\n",
      "\n",
      "    accuracy                           0.42        45\n",
      "   macro avg       0.21      0.50      0.30        45\n",
      "weighted avg       0.18      0.42      0.25        45\n",
      "\n",
      "\n"
     ]
    },
    {
     "name": "stderr",
     "output_type": "stream",
     "text": [
      "/opt/jupyter/lib/python3.9/site-packages/sklearn/metrics/_classification.py:1245: UndefinedMetricWarning: Precision and F-score are ill-defined and being set to 0.0 in labels with no predicted samples. Use `zero_division` parameter to control this behavior.\n",
      "  _warn_prf(average, modifier, msg_start, len(result))\n",
      "/opt/jupyter/lib/python3.9/site-packages/sklearn/metrics/_classification.py:1245: UndefinedMetricWarning: Precision and F-score are ill-defined and being set to 0.0 in labels with no predicted samples. Use `zero_division` parameter to control this behavior.\n",
      "  _warn_prf(average, modifier, msg_start, len(result))\n",
      "/opt/jupyter/lib/python3.9/site-packages/sklearn/metrics/_classification.py:1245: UndefinedMetricWarning: Precision and F-score are ill-defined and being set to 0.0 in labels with no predicted samples. Use `zero_division` parameter to control this behavior.\n",
      "  _warn_prf(average, modifier, msg_start, len(result))\n"
     ]
    },
    {
     "data": {
      "image/png": "[encoded data removed]",
      "text/plain": [
       "<Figure size 432x288 with 2 Axes>"
      ]
     },
     "metadata": {
      "needs_background": "light"
     },
     "output_type": "display_data"
    },
    {
     "data": {
      "text/markdown": [
       "#### arm1, SVC best hyperparams"
      ],
      "text/plain": [
       "<IPython.core.display.Markdown object>"
      ]
     },
     "metadata": {},
     "output_type": "display_data"
    },
    {
     "name": "stdout",
     "output_type": "stream",
     "text": [
      "Fitting 5 folds for each of 10 candidates, totalling 50 fits\n",
      "AUC: 0.47058823529411764\n",
      "Report for SVC(), arm1:\n",
      "              precision    recall  f1-score   support\n",
      "\n",
      "           0       0.00      0.00      0.00        20\n",
      "           1       0.44      0.94      0.60        17\n",
      "\n",
      "    accuracy                           0.43        37\n",
      "   macro avg       0.22      0.47      0.30        37\n",
      "weighted avg       0.20      0.43      0.28        37\n",
      "\n",
      "\n"
     ]
    },
    {
     "data": {
      "image/png": "[encoded data removed]",
      "text/plain": [
       "<Figure size 432x288 with 2 Axes>"
      ]
     },
     "metadata": {
      "needs_background": "light"
     },
     "output_type": "display_data"
    }
   ],
   "source": [
    "from sklearn.model_selection import cross_val_score, GridSearchCV, RandomizedSearchCV\n",
    "from sklearn.feature_selection import RFE\n",
    "from sklearn.metrics import median_absolute_error, r2_score\n",
    "from IPython.display import display, Markdown\n",
    "\n",
    "evaluation[\"clinical-all-svc-rbf-cv\"] = {}\n",
    "\n",
    "hparams = [\n",
    "    {\n",
    "        \"kernel\": [\"rbf\"],\n",
    "        \"cache_size\": [400],\n",
    "        \"gamma\": np.logspace(-2, 2, 5),\n",
    "        \"C\": [1e0, 1e1, 1e2, 1e3],\n",
    "    }\n",
    "]\n",
    "\n",
    "cvmodel = RandomizedSearchCV(\n",
    "    estimator=SVC(),\n",
    "    param_distributions=hparams,\n",
    "    scoring=\"r2\",\n",
    "    cv=5,\n",
    "    n_jobs=-1,\n",
    "    verbose=2,\n",
    "    random_state=42,\n",
    ")\n",
    "display(Markdown(\"----\\n#### arm0, SVC best hyperparams\"))\n",
    "\n",
    "_ = cvmodel.fit(arm0_x_train, arm0_y_train)\n",
    "\n",
    "predict = clf.predict(arm0_x_test)\n",
    "print(\"AUC:\", roc_auc_score(arm0_y_test, predict))\n",
    "print(f\"Report for {clf}, arm0:\\n\"\n",
    "      f\"{classification_report(arm0_y_test, predict)}\\n\")\n",
    "\n",
    "disp = plot_confusion_matrix(clf, arm0_x_test, arm0_y_test)\n",
    "disp.figure_.suptitle(f\"Confusion matrix, {clf}, arm0\")\n",
    "plt.show()\n",
    "evaluation[\"clinical-all-svc-rbf-cv\"][\"arm0\"] = (roc_auc_score(arm0_y_test, predict),  f1_score(arm0_y_test, predict))\n",
    "\n",
    "display(Markdown(\"#### arm1, SVC best hyperparams\"))\n",
    "\n",
    "_ = cvmodel.fit(arm1_x_train, arm1_y_train)\n",
    "predict = clf.predict(arm1_x_test)\n",
    "print(\"AUC:\", roc_auc_score(arm1_y_test, predict))\n",
    "print(f\"Report for {clf}, arm1:\\n\"\n",
    "      f\"{classification_report(arm1_y_test, predict)}\\n\")\n",
    "\n",
    "disp = plot_confusion_matrix(clf, arm1_x_test, arm1_y_test)\n",
    "disp.figure_.suptitle(f\"Confusion matrix, {clf}, arm1\")\n",
    "plt.show()\n",
    "evaluation[\"clinical-all-svc-rbf-cv\"][\"arm1\"] = (roc_auc_score(arm1_y_test, predict),  f1_score(arm1_y_test, predict))"
   ]
  },
  {
   "cell_type": "markdown",
   "id": "lesbian-principal",
   "metadata": {},
   "source": [
    "### Random forest"
   ]
  },
  {
   "cell_type": "code",
   "execution_count": 84,
   "id": "effective-proceeding",
   "metadata": {},
   "outputs": [],
   "source": [
    "from sklearn.ensemble import RandomForestClassifier\n",
    "clf = RandomForestClassifier(random_state=42)\n",
    "evaluation[\"clinical-all-random-forest\"] = {}"
   ]
  },
  {
   "cell_type": "markdown",
   "id": "japanese-responsibility",
   "metadata": {},
   "source": [
    "#### arm0"
   ]
  },
  {
   "cell_type": "code",
   "execution_count": 85,
   "id": "dominant-optimum",
   "metadata": {},
   "outputs": [],
   "source": [
    "_ = clf.fit(arm0_x_train, arm0_y_train)"
   ]
  },
  {
   "cell_type": "code",
   "execution_count": 86,
   "id": "accessible-drive",
   "metadata": {},
   "outputs": [
    {
     "name": "stdout",
     "output_type": "stream",
     "text": [
      "AUC: 0.4251012145748988\n",
      "Report for RandomForestClassifier(random_state=42), arm0:\n",
      "              precision    recall  f1-score   support\n",
      "\n",
      "           0       0.53      0.69      0.60        26\n",
      "           1       0.27      0.16      0.20        19\n",
      "\n",
      "    accuracy                           0.47        45\n",
      "   macro avg       0.40      0.43      0.40        45\n",
      "weighted avg       0.42      0.47      0.43        45\n",
      "\n",
      "\n"
     ]
    },
    {
     "data": {
      "image/png": "[encoded data removed]",
      "text/plain": [
       "<Figure size 432x288 with 2 Axes>"
      ]
     },
     "metadata": {
      "needs_background": "light"
     },
     "output_type": "display_data"
    }
   ],
   "source": [
    "from sklearn.metrics import classification_report, plot_confusion_matrix, roc_auc_score, f1_score\n",
    "\n",
    "predict = clf.predict(arm0_x_test)\n",
    "print(\"AUC:\", roc_auc_score(arm0_y_test, predict))\n",
    "print(f\"Report for {clf}, arm0:\\n\"\n",
    "      f\"{classification_report(arm0_y_test, predict)}\\n\")\n",
    "\n",
    "disp = plot_confusion_matrix(clf, arm0_x_test, arm0_y_test)\n",
    "disp.figure_.suptitle(f\"Confusion matrix, {clf}, arm0\")\n",
    "\n",
    "plt.show()\n",
    "\n",
    "evaluation[\"clinical-all-random-forest\"][\"arm0\"] = (roc_auc_score(arm0_y_test, predict),  f1_score(arm0_y_test, predict))"
   ]
  },
  {
   "cell_type": "markdown",
   "id": "developed-recipe",
   "metadata": {},
   "source": [
    "#### arm1"
   ]
  },
  {
   "cell_type": "code",
   "execution_count": 87,
   "id": "academic-italian",
   "metadata": {},
   "outputs": [],
   "source": [
    "_ = clf.fit(arm1_x_train, arm1_y_train)"
   ]
  },
  {
   "cell_type": "code",
   "execution_count": 88,
   "id": "dental-fortune",
   "metadata": {},
   "outputs": [
    {
     "name": "stdout",
     "output_type": "stream",
     "text": [
      "AUC: 0.43529411764705883\n",
      "Report for RandomForestClassifier(random_state=42), arm1:\n",
      "              precision    recall  f1-score   support\n",
      "\n",
      "           0       0.47      0.40      0.43        20\n",
      "           1       0.40      0.47      0.43        17\n",
      "\n",
      "    accuracy                           0.43        37\n",
      "   macro avg       0.44      0.44      0.43        37\n",
      "weighted avg       0.44      0.43      0.43        37\n",
      "\n",
      "\n"
     ]
    },
    {
     "data": {
      "image/png": "[encoded data removed]",
      "text/plain": [
       "<Figure size 432x288 with 2 Axes>"
      ]
     },
     "metadata": {
      "needs_background": "light"
     },
     "output_type": "display_data"
    }
   ],
   "source": [
    "from sklearn.metrics import classification_report, plot_confusion_matrix, roc_auc_score, f1_score\n",
    "\n",
    "predict = clf.predict(arm1_x_test)\n",
    "print(\"AUC:\", roc_auc_score(arm1_y_test, predict))\n",
    "print(f\"Report for {clf}, arm1:\\n\"\n",
    "      f\"{classification_report(arm1_y_test, predict)}\\n\")\n",
    "\n",
    "disp = plot_confusion_matrix(clf, arm1_x_test, arm1_y_test)\n",
    "disp.figure_.suptitle(f\"Confusion matrix, {clf}, arm1\")\n",
    "\n",
    "plt.show()\n",
    "\n",
    "evaluation[\"clinical-all-random-forest\"][\"arm1\"] = (roc_auc_score(arm1_y_test, predict),  f1_score(arm1_y_test, predict))"
   ]
  },
  {
   "cell_type": "code",
   "execution_count": 89,
   "id": "antique-feature",
   "metadata": {},
   "outputs": [
    {
     "data": {
      "text/markdown": [
       "----\n",
       "#### arm0, random forest best hyperparams"
      ],
      "text/plain": [
       "<IPython.core.display.Markdown object>"
      ]
     },
     "metadata": {},
     "output_type": "display_data"
    },
    {
     "name": "stdout",
     "output_type": "stream",
     "text": [
      "Fitting 5 folds for each of 10 candidates, totalling 50 fits\n",
      "AUC: 0.45344129554655865\n",
      "Report for RandomForestClassifier(random_state=42), arm0:\n",
      "              precision    recall  f1-score   support\n",
      "\n",
      "           0       0.54      0.54      0.54        26\n",
      "           1       0.37      0.37      0.37        19\n",
      "\n",
      "    accuracy                           0.47        45\n",
      "   macro avg       0.45      0.45      0.45        45\n",
      "weighted avg       0.47      0.47      0.47        45\n",
      "\n",
      "\n"
     ]
    },
    {
     "data": {
      "image/png": "[encoded data removed]",
      "text/plain": [
       "<Figure size 432x288 with 2 Axes>"
      ]
     },
     "metadata": {
      "needs_background": "light"
     },
     "output_type": "display_data"
    },
    {
     "data": {
      "text/markdown": [
       "#### arm1, random forest best hyperparams"
      ],
      "text/plain": [
       "<IPython.core.display.Markdown object>"
      ]
     },
     "metadata": {},
     "output_type": "display_data"
    },
    {
     "name": "stdout",
     "output_type": "stream",
     "text": [
      "Fitting 5 folds for each of 10 candidates, totalling 50 fits\n",
      "AUC: 0.43529411764705883\n",
      "Report for RandomForestClassifier(random_state=42), arm1:\n",
      "              precision    recall  f1-score   support\n",
      "\n",
      "           0       0.47      0.40      0.43        20\n",
      "           1       0.40      0.47      0.43        17\n",
      "\n",
      "    accuracy                           0.43        37\n",
      "   macro avg       0.44      0.44      0.43        37\n",
      "weighted avg       0.44      0.43      0.43        37\n",
      "\n",
      "\n"
     ]
    },
    {
     "data": {
      "image/png": "[encoded data removed]",
      "text/plain": [
       "<Figure size 432x288 with 2 Axes>"
      ]
     },
     "metadata": {
      "needs_background": "light"
     },
     "output_type": "display_data"
    }
   ],
   "source": [
    "from sklearn.model_selection import cross_val_score, GridSearchCV, RandomizedSearchCV\n",
    "from sklearn.feature_selection import RFE\n",
    "from sklearn.metrics import median_absolute_error, r2_score\n",
    "from IPython.display import display, Markdown\n",
    "\n",
    "evaluation[\"clinical-all-random-forest-cv\"] = {}\n",
    "\n",
    "hparams = [\n",
    "    {\n",
    "        \"criterion\": [\"gini\", \"entropy\"],\n",
    "        \"max_features\": [\"auto\", \"sqrt\"],\n",
    "        \"max_depth\": [int(x) for x in np.linspace(8, 110, num=15)] + [None],\n",
    "        \"min_samples_split\": [2, 5, 7, 10],\n",
    "        \"min_samples_leaf\": [1, 2, 4],\n",
    "    }\n",
    "]\n",
    "model = RandomForestClassifier()\n",
    "\n",
    "cvmodel = RandomizedSearchCV(\n",
    "    estimator=model,\n",
    "    param_distributions=hparams,\n",
    "    scoring=\"r2\",\n",
    "    cv=5,\n",
    "    n_jobs=-1,\n",
    "    verbose=2,\n",
    "    random_state=42,\n",
    ")\n",
    "display(Markdown(\"----\\n#### arm0, random forest best hyperparams\"))\n",
    "\n",
    "_ = cvmodel.fit(arm0_x_train, arm0_y_train)\n",
    "\n",
    "predict = clf.predict(arm0_x_test)\n",
    "print(\"AUC:\", roc_auc_score(arm0_y_test, predict))\n",
    "print(f\"Report for {clf}, arm0:\\n\"\n",
    "      f\"{classification_report(arm0_y_test, predict)}\\n\")\n",
    "\n",
    "disp = plot_confusion_matrix(clf, arm0_x_test, arm0_y_test)\n",
    "disp.figure_.suptitle(f\"Confusion matrix, {clf}, arm0\")\n",
    "plt.show()\n",
    "evaluation[\"clinical-all-random-forest-cv\"][\"arm0\"] = (roc_auc_score(arm0_y_test, predict),  f1_score(arm0_y_test, predict))\n",
    "\n",
    "display(Markdown(\"#### arm1, random forest best hyperparams\"))\n",
    "\n",
    "_ = cvmodel.fit(arm1_x_train, arm1_y_train)\n",
    "predict = clf.predict(arm1_x_test)\n",
    "print(\"AUC:\", roc_auc_score(arm1_y_test, predict))\n",
    "print(f\"Report for {clf}, arm1:\\n\"\n",
    "      f\"{classification_report(arm1_y_test, predict)}\\n\")\n",
    "\n",
    "disp = plot_confusion_matrix(clf, arm1_x_test, arm1_y_test)\n",
    "disp.figure_.suptitle(f\"Confusion matrix, {clf}, arm1\")\n",
    "plt.show()\n",
    "evaluation[\"clinical-all-random-forest-cv\"][\"arm1\"] = (roc_auc_score(arm1_y_test, predict),  f1_score(arm1_y_test, predict))"
   ]
  },
  {
   "cell_type": "markdown",
   "id": "rural-reproduction",
   "metadata": {},
   "source": [
    "### Gaussian Naive Bayes"
   ]
  },
  {
   "cell_type": "code",
   "execution_count": 90,
   "id": "inside-minister",
   "metadata": {},
   "outputs": [],
   "source": [
    "from sklearn.naive_bayes import GaussianNB\n",
    "clf = GaussianNB()\n",
    "evaluation[\"clinical-all-gaussian-nb\"] = {}"
   ]
  },
  {
   "cell_type": "markdown",
   "id": "angry-satin",
   "metadata": {},
   "source": [
    "#### arm0"
   ]
  },
  {
   "cell_type": "code",
   "execution_count": 91,
   "id": "roman-consortium",
   "metadata": {},
   "outputs": [],
   "source": [
    "_ = clf.fit(arm0_x_train, arm0_y_train)"
   ]
  },
  {
   "cell_type": "code",
   "execution_count": 92,
   "id": "introductory-laser",
   "metadata": {},
   "outputs": [
    {
     "name": "stdout",
     "output_type": "stream",
     "text": [
      "AUC: 0.5860323886639677\n",
      "Report for GaussianNB(), arm0:\n",
      "              precision    recall  f1-score   support\n",
      "\n",
      "           0       0.62      0.96      0.76        26\n",
      "           1       0.80      0.21      0.33        19\n",
      "\n",
      "    accuracy                           0.64        45\n",
      "   macro avg       0.71      0.59      0.55        45\n",
      "weighted avg       0.70      0.64      0.58        45\n",
      "\n",
      "\n"
     ]
    },
    {
     "data": {
      "image/png": "[encoded data removed]",
      "text/plain": [
       "<Figure size 432x288 with 2 Axes>"
      ]
     },
     "metadata": {
      "needs_background": "light"
     },
     "output_type": "display_data"
    }
   ],
   "source": [
    "from sklearn.metrics import classification_report, plot_confusion_matrix, roc_auc_score, f1_score\n",
    "\n",
    "predict = clf.predict(arm0_x_test)\n",
    "print(\"AUC:\", roc_auc_score(arm0_y_test, predict))\n",
    "print(f\"Report for {clf}, arm0:\\n\"\n",
    "      f\"{classification_report(arm0_y_test, predict)}\\n\")\n",
    "\n",
    "disp = plot_confusion_matrix(clf, arm0_x_test, arm0_y_test)\n",
    "disp.figure_.suptitle(f\"Confusion matrix, {clf}, arm0\")\n",
    "\n",
    "plt.show()\n",
    "\n",
    "evaluation[\"clinical-all-gaussian-nb\"][\"arm0\"] = (roc_auc_score(arm0_y_test, predict),  f1_score(arm0_y_test, predict))"
   ]
  },
  {
   "cell_type": "markdown",
   "id": "potential-postage",
   "metadata": {},
   "source": [
    "#### arm1"
   ]
  },
  {
   "cell_type": "code",
   "execution_count": 93,
   "id": "executed-migration",
   "metadata": {},
   "outputs": [],
   "source": [
    "_ = clf.fit(arm1_x_train, arm1_y_train)"
   ]
  },
  {
   "cell_type": "code",
   "execution_count": 94,
   "id": "distant-mozambique",
   "metadata": {},
   "outputs": [
    {
     "name": "stdout",
     "output_type": "stream",
     "text": [
      "AUC: 0.4\n",
      "Report for GaussianNB(), arm1:\n",
      "              precision    recall  f1-score   support\n",
      "\n",
      "           0       0.48      0.80      0.60        20\n",
      "           1       0.00      0.00      0.00        17\n",
      "\n",
      "    accuracy                           0.43        37\n",
      "   macro avg       0.24      0.40      0.30        37\n",
      "weighted avg       0.26      0.43      0.33        37\n",
      "\n",
      "\n"
     ]
    },
    {
     "data": {
      "image/png": "[encoded data removed]",
      "text/plain": [
       "<Figure size 432x288 with 2 Axes>"
      ]
     },
     "metadata": {
      "needs_background": "light"
     },
     "output_type": "display_data"
    }
   ],
   "source": [
    "from sklearn.metrics import classification_report, plot_confusion_matrix, roc_auc_score, f1_score\n",
    "\n",
    "predict = clf.predict(arm1_x_test)\n",
    "print(\"AUC:\", roc_auc_score(arm1_y_test, predict))\n",
    "print(f\"Report for {clf}, arm1:\\n\"\n",
    "      f\"{classification_report(arm1_y_test, predict)}\\n\")\n",
    "\n",
    "disp = plot_confusion_matrix(clf, arm1_x_test, arm1_y_test)\n",
    "disp.figure_.suptitle(f\"Confusion matrix, {clf}, arm1\")\n",
    "\n",
    "plt.show()\n",
    "\n",
    "evaluation[\"clinical-all-gaussian-nb\"][\"arm1\"] = (roc_auc_score(arm1_y_test, predict),  f1_score(arm1_y_test, predict))"
   ]
  },
  {
   "cell_type": "markdown",
   "id": "tough-capital",
   "metadata": {},
   "source": [
    "### Bernoulli Naive Bayes"
   ]
  },
  {
   "cell_type": "code",
   "execution_count": 95,
   "id": "accessible-sweden",
   "metadata": {},
   "outputs": [],
   "source": [
    "from sklearn.naive_bayes import BernoulliNB\n",
    "clf = BernoulliNB()\n",
    "evaluation[\"clinical-all-bernoulli-nb\"] = {}"
   ]
  },
  {
   "cell_type": "markdown",
   "id": "excited-organic",
   "metadata": {},
   "source": [
    "#### arm0"
   ]
  },
  {
   "cell_type": "code",
   "execution_count": 96,
   "id": "foreign-municipality",
   "metadata": {},
   "outputs": [],
   "source": [
    "_ = clf.fit(arm0_x_train, arm0_y_train)"
   ]
  },
  {
   "cell_type": "code",
   "execution_count": 97,
   "id": "computational-gamma",
   "metadata": {},
   "outputs": [
    {
     "name": "stdout",
     "output_type": "stream",
     "text": [
      "AUC: 0.4919028340080972\n",
      "Report for BernoulliNB(), arm0:\n",
      "              precision    recall  f1-score   support\n",
      "\n",
      "           0       0.57      0.62      0.59        26\n",
      "           1       0.41      0.37      0.39        19\n",
      "\n",
      "    accuracy                           0.51        45\n",
      "   macro avg       0.49      0.49      0.49        45\n",
      "weighted avg       0.50      0.51      0.51        45\n",
      "\n",
      "\n"
     ]
    },
    {
     "data": {
      "image/png": "[encoded data removed]",
      "text/plain": [
       "<Figure size 432x288 with 2 Axes>"
      ]
     },
     "metadata": {
      "needs_background": "light"
     },
     "output_type": "display_data"
    }
   ],
   "source": [
    "from sklearn.metrics import classification_report, plot_confusion_matrix, roc_auc_score, f1_score\n",
    "\n",
    "predict = clf.predict(arm0_x_test)\n",
    "print(\"AUC:\", roc_auc_score(arm0_y_test, predict))\n",
    "print(f\"Report for {clf}, arm0:\\n\"\n",
    "      f\"{classification_report(arm0_y_test, predict)}\\n\")\n",
    "\n",
    "disp = plot_confusion_matrix(clf, arm0_x_test, arm0_y_test)\n",
    "disp.figure_.suptitle(f\"Confusion matrix, {clf}, arm0\")\n",
    "\n",
    "plt.show()\n",
    "\n",
    "evaluation[\"clinical-all-bernoulli-nb\"][\"arm0\"] = (roc_auc_score(arm0_y_test, predict),  f1_score(arm0_y_test, predict))"
   ]
  },
  {
   "cell_type": "markdown",
   "id": "lucky-annotation",
   "metadata": {},
   "source": [
    "#### arm1"
   ]
  },
  {
   "cell_type": "code",
   "execution_count": 98,
   "id": "hollow-cookbook",
   "metadata": {},
   "outputs": [],
   "source": [
    "_ = clf.fit(arm1_x_train, arm1_y_train)"
   ]
  },
  {
   "cell_type": "code",
   "execution_count": 99,
   "id": "subject-picnic",
   "metadata": {},
   "outputs": [
    {
     "name": "stdout",
     "output_type": "stream",
     "text": [
      "AUC: 0.6279411764705883\n",
      "Report for BernoulliNB(), arm1:\n",
      "              precision    recall  f1-score   support\n",
      "\n",
      "           0       0.69      0.55      0.61        20\n",
      "           1       0.57      0.71      0.63        17\n",
      "\n",
      "    accuracy                           0.62        37\n",
      "   macro avg       0.63      0.63      0.62        37\n",
      "weighted avg       0.63      0.62      0.62        37\n",
      "\n",
      "\n"
     ]
    },
    {
     "data": {
      "image/png": "[encoded data removed]",
      "text/plain": [
       "<Figure size 432x288 with 2 Axes>"
      ]
     },
     "metadata": {
      "needs_background": "light"
     },
     "output_type": "display_data"
    }
   ],
   "source": [
    "from sklearn.metrics import classification_report, plot_confusion_matrix, roc_auc_score, f1_score\n",
    "\n",
    "predict = clf.predict(arm1_x_test)\n",
    "print(\"AUC:\", roc_auc_score(arm1_y_test, predict))\n",
    "print(f\"Report for {clf}, arm1:\\n\"\n",
    "      f\"{classification_report(arm1_y_test, predict)}\\n\")\n",
    "\n",
    "disp = plot_confusion_matrix(clf, arm1_x_test, arm1_y_test)\n",
    "disp.figure_.suptitle(f\"Confusion matrix, {clf}, arm1\")\n",
    "\n",
    "plt.show()\n",
    "\n",
    "evaluation[\"clinical-all-bernoulli-nb\"][\"arm1\"] = (roc_auc_score(arm1_y_test, predict),  f1_score(arm1_y_test, predict))"
   ]
  },
  {
   "cell_type": "markdown",
   "id": "precious-utility",
   "metadata": {},
   "source": [
    "--------"
   ]
  },
  {
   "cell_type": "code",
   "execution_count": 100,
   "id": "decreased-branch",
   "metadata": {
    "tags": []
   },
   "outputs": [
    {
     "data": {
      "text/markdown": [
       "\n",
       "----\n",
       "## Recap of classification results\n",
       "| Name | arm0 auc, f-score | arm1 auc, f-score |\n",
       "| - | :-: | :-: |\n",
       "| **best-svc** | 0.553571 0.240000 | 0.557143 0.470588 |\n",
       "| **best-random-forest** | 0.565476 0.344828 | 0.510714 0.473684 |\n",
       "| **best-gaussian-nb** | 0.470238 0.567164 | 0.476190 0.000000 |\n",
       "| **best-bernoulli-nb** | 0.458333 0.142857 | 0.555952 0.437500 |\n",
       "| **all-svc** | 0.523810 0.090909 | 0.584524 0.564103 |\n",
       "| **all-svc-rbf-cv** | 0.500000 0.489796 | 0.584524 0.564103 |\n",
       "| **all-random-forest** | 0.547619 0.333333 | 0.610714 0.619048 |\n",
       "| **all-random-forest-cv** | 0.452381 0.425532 | 0.610714 0.619048 |\n",
       "| **all-gaussian-nb** | 0.482143 0.562500 | 0.476190 0.000000 |\n",
       "| **all-bernoulli-nb** | 0.517857 0.352941 | 0.632143 0.594595 |\n",
       "| **clinical-svc** | 0.500000 0.000000 | 0.500000 0.629630 |\n",
       "| **clinical-svc-rbf-cv** | 0.500000 0.593750 | 0.500000 0.629630 |\n",
       "| **clinical-random-forest** | 0.614372 0.500000 | 0.469118 0.500000 |\n",
       "| **clinical-random-forest-cv** | 0.625506 0.625000 | 0.469118 0.500000 |\n",
       "| **clinical-gaussian-nb** | 0.577935 0.536585 | 0.419118 0.476190 |\n",
       "| **clinical-bernoulli-nb** | 0.437247 0.148148 | 0.502941 0.558140 |\n",
       "| **clinical-all-svc** | 0.500000 0.000000 | 0.470588 0.603774 |\n",
       "| **clinical-all-svc-rbf-cv** | 0.500000 0.593750 | 0.470588 0.603774 |\n",
       "| **clinical-all-random-forest** | 0.425101 0.200000 | 0.435294 0.432432 |\n",
       "| **clinical-all-random-forest-cv** | 0.453441 0.368421 | 0.435294 0.432432 |\n",
       "| **clinical-all-gaussian-nb** | 0.586032 0.333333 | 0.400000 0.000000 |\n",
       "| **clinical-all-bernoulli-nb** | 0.491903 0.388889 | 0.627941 0.631579 |\n"
      ],
      "text/plain": [
       "<IPython.core.display.Markdown object>"
      ]
     },
     "metadata": {},
     "output_type": "display_data"
    }
   ],
   "source": [
    "from IPython.display import display, Markdown\n",
    "\n",
    "mk_table = \"\"\"\n",
    "----\n",
    "## Recap of classification results\n",
    "| Name | arm0 auc, f-score | arm1 auc, f-score |\n",
    "| - | :-: | :-: |\n",
    "\"\"\"\n",
    "\n",
    "table_line = \"| **{name}** | {a0auc:.6f} {a0f:.6f} | {a1auc:.6f} {a1f:.6f} |\\n\"\n",
    "\n",
    "for model in evaluation:\n",
    "    mk_table += table_line.format(\n",
    "        name=model,\n",
    "        a0auc=evaluation[model][\"arm0\"][0],\n",
    "        a0f=evaluation[model][\"arm0\"][1],\n",
    "        a1auc=evaluation[model][\"arm1\"][0],\n",
    "        a1f=evaluation[model][\"arm1\"][1],\n",
    "    )\n",
    "\n",
    "display(Markdown(mk_table))"
   ]
  },
  {
   "cell_type": "code",
   "execution_count": null,
   "id": "stone-alliance",
   "metadata": {},
   "outputs": [],
   "source": []
  },
  {
   "cell_type": "code",
   "execution_count": null,
   "id": "pretty-outreach",
   "metadata": {},
   "outputs": [],
   "source": []
  }
 ],
 "metadata": {
  "kernelspec": {
   "display_name": "Python 3",
   "language": "python",
   "name": "python3"
  },
  "language_info": {
   "codemirror_mode": {
    "name": "ipython",
    "version": 3
   },
   "file_extension": ".py",
   "mimetype": "text/x-python",
   "name": "python",
   "nbconvert_exporter": "python",
   "pygments_lexer": "ipython3",
   "version": "3.9.5"
  },
  "widgets": {
   "application/vnd.jupyter.widget-state+json": {
    "state": {},
    "version_major": 2,
    "version_minor": 0
   }
  }
 },
 "nbformat": 4,
 "nbformat_minor": 5
}
