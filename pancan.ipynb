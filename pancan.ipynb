{
 "cells": [
  {
   "cell_type": "code",
   "execution_count": 1,
   "id": "korean-signal",
   "metadata": {},
   "outputs": [],
   "source": [
    "import os\n",
    "import ipywidgets as widgets\n",
    "from IPython.display import display"
   ]
  },
  {
   "cell_type": "markdown",
   "id": "internal-dispute",
   "metadata": {},
   "source": [
    "# PanCan TRIBE2 analysis"
   ]
  },
  {
   "cell_type": "markdown",
   "id": "micro-cookie",
   "metadata": {},
   "source": [
    "## Preliminary work\n",
    "A baseline for pathway mutation averages needed to be established. In order to do this, a parser for files shipped with [PathwayMapper](http://www.pathwaymapper.org/) was hand-rolled along with a custom data structure describing the pathway contents and hierarchy. Here we show an example of a parsed pathway."
   ]
  },
  {
   "cell_type": "code",
   "execution_count": 2,
   "id": "higher-composer",
   "metadata": {},
   "outputs": [
    {
     "data": {
      "application/vnd.jupyter.widget-view+json": {
       "model_id": "8327c4b80ea4451f8115cef739d6102a",
       "version_major": 2,
       "version_minor": 0
      },
      "text/plain": [
       "interactive(children=(Dropdown(description='pathway', options=('TGF-Beta.txt', 'HIPPO.txt', 'WNT.txt', 'NRF2.t…"
      ]
     },
     "metadata": {},
     "output_type": "display_data"
    }
   ],
   "source": [
    "import pathways as lpw\n",
    "\n",
    "@widgets.interact(pathway=[filename for filename in os.listdir('./pathways')])\n",
    "def show_pathway(pathway):\n",
    "    pw = lpw.parse_pathway('./pathways/' + pathway)\n",
    "    print(f\"Name: {pw[0]}, Contents:\\n{pw[1]}\")"
   ]
  },
  {
   "cell_type": "markdown",
   "id": "egyptian-medline",
   "metadata": {},
   "source": [
    "The average mutation is calculated for any given pathway and patient by only considering pathogenic mutations and the maximum mutation percentage detected. Complexes or families count as a single gene towards the overall average mutation (no weights applied).\n",
    "\n",
    "The average mutation on all pathways for a random patient follows:"
   ]
  },
  {
   "cell_type": "code",
   "execution_count": 3,
   "id": "elegant-synthetic",
   "metadata": {},
   "outputs": [
    {
     "name": "stdout",
     "output_type": "stream",
     "text": [
      "{'Cell Cycle': 2.5, 'HIPPO': 0.0, 'MYC': 0.0, 'NOTCH': 0.0, 'NRF2': 0.0, 'PI3K': 0.0, 'RTK-RAS': 3.4166666666666665, 'TGF-Beta': 0.0, 'TP53': 4.166666666666667, 'WNT': 2.3076923076923075}\n"
     ]
    }
   ],
   "source": [
    "import pandas\n",
    "from analysis import calculate_patient_mutations\n",
    "\n",
    "pathways = []\n",
    "for pw in os.listdir('./pathways'):\n",
    "    pathway = lpw.parse_pathway('./pathways/' + pw)\n",
    "    pathways.append(pathway)\n",
    "\n",
    "pathways.sort(key=lambda x: x[0])\n",
    "    \n",
    "patients_log = pandas.read_csv('TRIBE2_db.csv')\n",
    "mutations_data = pandas.read_csv('TRIBE2_seq_res.csv')\n",
    "\n",
    "result = calculate_patient_mutations('CB224', mutations_data, pathways)\n",
    "print(result)"
   ]
  },
  {
   "cell_type": "markdown",
   "id": "inclusive-fitness",
   "metadata": {},
   "source": [
    "Patients have been split into two groups, according to the treatment they had (arm0, arm1). This will hold for all future analysis.\n",
    "Here we show statistics about mutations for the two groups of patients and how the mutations for each pathway correlate with **dpfs**"
   ]
  },
  {
   "cell_type": "code",
   "execution_count": 4,
   "id": "extreme-symphony",
   "metadata": {},
   "outputs": [
    {
     "data": {
      "text/html": [
       "<div>\n",
       "<style scoped>\n",
       "    .dataframe tbody tr th:only-of-type {\n",
       "        vertical-align: middle;\n",
       "    }\n",
       "\n",
       "    .dataframe tbody tr th {\n",
       "        vertical-align: top;\n",
       "    }\n",
       "\n",
       "    .dataframe thead th {\n",
       "        text-align: right;\n",
       "    }\n",
       "</style>\n",
       "<table border=\"1\" class=\"dataframe\">\n",
       "  <thead>\n",
       "    <tr style=\"text-align: right;\">\n",
       "      <th></th>\n",
       "      <th>Cell Cycle</th>\n",
       "      <th>HIPPO</th>\n",
       "      <th>MYC</th>\n",
       "      <th>NOTCH</th>\n",
       "      <th>NRF2</th>\n",
       "      <th>PI3K</th>\n",
       "      <th>RTK-RAS</th>\n",
       "      <th>TGF-Beta</th>\n",
       "      <th>TP53</th>\n",
       "      <th>WNT</th>\n",
       "    </tr>\n",
       "  </thead>\n",
       "  <tbody>\n",
       "    <tr>\n",
       "      <th>count</th>\n",
       "      <td>162.000000</td>\n",
       "      <td>162.000000</td>\n",
       "      <td>162.000000</td>\n",
       "      <td>162.000000</td>\n",
       "      <td>162.000000</td>\n",
       "      <td>162.000000</td>\n",
       "      <td>162.000000</td>\n",
       "      <td>162.000000</td>\n",
       "      <td>162.000000</td>\n",
       "      <td>162.000000</td>\n",
       "    </tr>\n",
       "    <tr>\n",
       "      <th>mean</th>\n",
       "      <td>4.721605</td>\n",
       "      <td>0.025926</td>\n",
       "      <td>0.746914</td>\n",
       "      <td>1.491770</td>\n",
       "      <td>0.415638</td>\n",
       "      <td>2.170595</td>\n",
       "      <td>4.190329</td>\n",
       "      <td>2.254321</td>\n",
       "      <td>7.045267</td>\n",
       "      <td>3.664292</td>\n",
       "    </tr>\n",
       "    <tr>\n",
       "      <th>std</th>\n",
       "      <td>3.045467</td>\n",
       "      <td>0.193547</td>\n",
       "      <td>3.021788</td>\n",
       "      <td>2.307105</td>\n",
       "      <td>2.100991</td>\n",
       "      <td>3.117726</td>\n",
       "      <td>3.304840</td>\n",
       "      <td>4.078182</td>\n",
       "      <td>4.383254</td>\n",
       "      <td>2.437574</td>\n",
       "    </tr>\n",
       "    <tr>\n",
       "      <th>min</th>\n",
       "      <td>0.000000</td>\n",
       "      <td>0.000000</td>\n",
       "      <td>0.000000</td>\n",
       "      <td>0.000000</td>\n",
       "      <td>0.000000</td>\n",
       "      <td>0.000000</td>\n",
       "      <td>0.000000</td>\n",
       "      <td>0.000000</td>\n",
       "      <td>0.000000</td>\n",
       "      <td>0.000000</td>\n",
       "    </tr>\n",
       "    <tr>\n",
       "      <th>25%</th>\n",
       "      <td>3.000000</td>\n",
       "      <td>0.000000</td>\n",
       "      <td>0.000000</td>\n",
       "      <td>0.000000</td>\n",
       "      <td>0.000000</td>\n",
       "      <td>0.000000</td>\n",
       "      <td>2.250000</td>\n",
       "      <td>0.000000</td>\n",
       "      <td>4.500000</td>\n",
       "      <td>2.153846</td>\n",
       "    </tr>\n",
       "    <tr>\n",
       "      <th>50%</th>\n",
       "      <td>4.800000</td>\n",
       "      <td>0.000000</td>\n",
       "      <td>0.000000</td>\n",
       "      <td>0.000000</td>\n",
       "      <td>0.000000</td>\n",
       "      <td>0.000000</td>\n",
       "      <td>3.583333</td>\n",
       "      <td>0.000000</td>\n",
       "      <td>7.583333</td>\n",
       "      <td>3.346154</td>\n",
       "    </tr>\n",
       "    <tr>\n",
       "      <th>75%</th>\n",
       "      <td>6.675000</td>\n",
       "      <td>0.000000</td>\n",
       "      <td>0.000000</td>\n",
       "      <td>2.833333</td>\n",
       "      <td>0.000000</td>\n",
       "      <td>4.136364</td>\n",
       "      <td>5.541667</td>\n",
       "      <td>3.950000</td>\n",
       "      <td>10.333333</td>\n",
       "      <td>5.076923</td>\n",
       "    </tr>\n",
       "    <tr>\n",
       "      <th>max</th>\n",
       "      <td>18.100000</td>\n",
       "      <td>1.700000</td>\n",
       "      <td>17.500000</td>\n",
       "      <td>11.600000</td>\n",
       "      <td>14.666667</td>\n",
       "      <td>20.727273</td>\n",
       "      <td>15.833333</td>\n",
       "      <td>16.600000</td>\n",
       "      <td>19.666667</td>\n",
       "      <td>11.923077</td>\n",
       "    </tr>\n",
       "  </tbody>\n",
       "</table>\n",
       "</div>"
      ],
      "text/plain": [
       "       Cell Cycle       HIPPO         MYC       NOTCH        NRF2        PI3K  \\\n",
       "count  162.000000  162.000000  162.000000  162.000000  162.000000  162.000000   \n",
       "mean     4.721605    0.025926    0.746914    1.491770    0.415638    2.170595   \n",
       "std      3.045467    0.193547    3.021788    2.307105    2.100991    3.117726   \n",
       "min      0.000000    0.000000    0.000000    0.000000    0.000000    0.000000   \n",
       "25%      3.000000    0.000000    0.000000    0.000000    0.000000    0.000000   \n",
       "50%      4.800000    0.000000    0.000000    0.000000    0.000000    0.000000   \n",
       "75%      6.675000    0.000000    0.000000    2.833333    0.000000    4.136364   \n",
       "max     18.100000    1.700000   17.500000   11.600000   14.666667   20.727273   \n",
       "\n",
       "          RTK-RAS    TGF-Beta        TP53         WNT  \n",
       "count  162.000000  162.000000  162.000000  162.000000  \n",
       "mean     4.190329    2.254321    7.045267    3.664292  \n",
       "std      3.304840    4.078182    4.383254    2.437574  \n",
       "min      0.000000    0.000000    0.000000    0.000000  \n",
       "25%      2.250000    0.000000    4.500000    2.153846  \n",
       "50%      3.583333    0.000000    7.583333    3.346154  \n",
       "75%      5.541667    3.950000   10.333333    5.076923  \n",
       "max     15.833333   16.600000   19.666667   11.923077  "
      ]
     },
     "execution_count": 4,
     "metadata": {},
     "output_type": "execute_result"
    }
   ],
   "source": [
    "from analysis import process_patients\n",
    "\n",
    "arm0_df = process_patients(patients_log[patients_log['arm'] == 0]['PatientFirstName'])\n",
    "arm0_df.describe()"
   ]
  },
  {
   "cell_type": "code",
   "execution_count": 5,
   "id": "outside-carter",
   "metadata": {},
   "outputs": [
    {
     "name": "stdout",
     "output_type": "stream",
     "text": [
      "dpfs          1.00000000000\n",
      "Cell Cycle   -0.04440247702\n",
      "HIPPO         0.04245896105\n",
      "MYC           0.26819358259\n",
      "NOTCH         0.05562896088\n",
      "NRF2          0.20949607706\n",
      "PI3K          0.16945628397\n",
      "RTK-RAS      -0.08269877738\n",
      "TGF-Beta     -0.04376672946\n",
      "TP53         -0.01443085081\n",
      "WNT           0.12680323858\n",
      "Name: dpfs, dtype: float64\n"
     ]
    }
   ],
   "source": [
    "pandas.set_option(\"display.precision\", 11)\n",
    "arm0_db_df = arm0_df.join(patients_log.set_index('PatientFirstName'), on='PatientFirstName')\n",
    "print(f\"{arm0_db_df[['dpfs'] + [pw[0] for pw in pathways]].corr().iloc[0]}\")"
   ]
  },
  {
   "cell_type": "code",
   "execution_count": 6,
   "id": "healthy-train",
   "metadata": {},
   "outputs": [
    {
     "data": {
      "text/html": [
       "<div>\n",
       "<style scoped>\n",
       "    .dataframe tbody tr th:only-of-type {\n",
       "        vertical-align: middle;\n",
       "    }\n",
       "\n",
       "    .dataframe tbody tr th {\n",
       "        vertical-align: top;\n",
       "    }\n",
       "\n",
       "    .dataframe thead th {\n",
       "        text-align: right;\n",
       "    }\n",
       "</style>\n",
       "<table border=\"1\" class=\"dataframe\">\n",
       "  <thead>\n",
       "    <tr style=\"text-align: right;\">\n",
       "      <th></th>\n",
       "      <th>Cell Cycle</th>\n",
       "      <th>HIPPO</th>\n",
       "      <th>MYC</th>\n",
       "      <th>NOTCH</th>\n",
       "      <th>NRF2</th>\n",
       "      <th>PI3K</th>\n",
       "      <th>RTK-RAS</th>\n",
       "      <th>TGF-Beta</th>\n",
       "      <th>TP53</th>\n",
       "      <th>WNT</th>\n",
       "    </tr>\n",
       "  </thead>\n",
       "  <tbody>\n",
       "    <tr>\n",
       "      <th>count</th>\n",
       "      <td>134.00000000000</td>\n",
       "      <td>134.00000000000</td>\n",
       "      <td>134.00000000000</td>\n",
       "      <td>134.00000000000</td>\n",
       "      <td>134.00000000000</td>\n",
       "      <td>134.00000000000</td>\n",
       "      <td>134.00000000000</td>\n",
       "      <td>134.00000000000</td>\n",
       "      <td>134.00000000000</td>\n",
       "      <td>134.00000000000</td>\n",
       "    </tr>\n",
       "    <tr>\n",
       "      <th>mean</th>\n",
       "      <td>4.24925373134</td>\n",
       "      <td>0.03134328358</td>\n",
       "      <td>0.91044776119</td>\n",
       "      <td>1.27711442786</td>\n",
       "      <td>0.48258706468</td>\n",
       "      <td>1.99728629579</td>\n",
       "      <td>4.86940298507</td>\n",
       "      <td>1.56567164179</td>\n",
       "      <td>6.53980099502</td>\n",
       "      <td>3.51894374282</td>\n",
       "    </tr>\n",
       "    <tr>\n",
       "      <th>std</th>\n",
       "      <td>2.93671972567</td>\n",
       "      <td>0.26961903238</td>\n",
       "      <td>3.08988207325</td>\n",
       "      <td>2.04632816182</td>\n",
       "      <td>2.54009359321</td>\n",
       "      <td>2.94420748388</td>\n",
       "      <td>3.69884275634</td>\n",
       "      <td>3.65780871330</td>\n",
       "      <td>4.77239604779</td>\n",
       "      <td>2.19208570035</td>\n",
       "    </tr>\n",
       "    <tr>\n",
       "      <th>min</th>\n",
       "      <td>0.00000000000</td>\n",
       "      <td>0.00000000000</td>\n",
       "      <td>0.00000000000</td>\n",
       "      <td>0.00000000000</td>\n",
       "      <td>0.00000000000</td>\n",
       "      <td>0.00000000000</td>\n",
       "      <td>0.00000000000</td>\n",
       "      <td>0.00000000000</td>\n",
       "      <td>0.00000000000</td>\n",
       "      <td>0.00000000000</td>\n",
       "    </tr>\n",
       "    <tr>\n",
       "      <th>25%</th>\n",
       "      <td>2.30000000000</td>\n",
       "      <td>0.00000000000</td>\n",
       "      <td>0.00000000000</td>\n",
       "      <td>0.00000000000</td>\n",
       "      <td>0.00000000000</td>\n",
       "      <td>0.00000000000</td>\n",
       "      <td>2.52083333333</td>\n",
       "      <td>0.00000000000</td>\n",
       "      <td>0.50000000000</td>\n",
       "      <td>2.30769230769</td>\n",
       "    </tr>\n",
       "    <tr>\n",
       "      <th>50%</th>\n",
       "      <td>4.85000000000</td>\n",
       "      <td>0.00000000000</td>\n",
       "      <td>0.00000000000</td>\n",
       "      <td>0.00000000000</td>\n",
       "      <td>0.00000000000</td>\n",
       "      <td>0.00000000000</td>\n",
       "      <td>3.75000000000</td>\n",
       "      <td>0.00000000000</td>\n",
       "      <td>7.41666666667</td>\n",
       "      <td>3.26923076923</td>\n",
       "    </tr>\n",
       "    <tr>\n",
       "      <th>75%</th>\n",
       "      <td>6.20000000000</td>\n",
       "      <td>0.00000000000</td>\n",
       "      <td>0.00000000000</td>\n",
       "      <td>2.53333333333</td>\n",
       "      <td>0.00000000000</td>\n",
       "      <td>3.22727272727</td>\n",
       "      <td>6.66666666667</td>\n",
       "      <td>0.00000000000</td>\n",
       "      <td>9.83333333333</td>\n",
       "      <td>4.75000000000</td>\n",
       "    </tr>\n",
       "    <tr>\n",
       "      <th>max</th>\n",
       "      <td>13.20000000000</td>\n",
       "      <td>2.80000000000</td>\n",
       "      <td>18.75000000000</td>\n",
       "      <td>9.66666666667</td>\n",
       "      <td>17.33333333333</td>\n",
       "      <td>15.72727272727</td>\n",
       "      <td>19.91666666667</td>\n",
       "      <td>14.60000000000</td>\n",
       "      <td>22.00000000000</td>\n",
       "      <td>9.92307692308</td>\n",
       "    </tr>\n",
       "  </tbody>\n",
       "</table>\n",
       "</div>"
      ],
      "text/plain": [
       "            Cell Cycle            HIPPO              MYC            NOTCH  \\\n",
       "count  134.00000000000  134.00000000000  134.00000000000  134.00000000000   \n",
       "mean     4.24925373134    0.03134328358    0.91044776119    1.27711442786   \n",
       "std      2.93671972567    0.26961903238    3.08988207325    2.04632816182   \n",
       "min      0.00000000000    0.00000000000    0.00000000000    0.00000000000   \n",
       "25%      2.30000000000    0.00000000000    0.00000000000    0.00000000000   \n",
       "50%      4.85000000000    0.00000000000    0.00000000000    0.00000000000   \n",
       "75%      6.20000000000    0.00000000000    0.00000000000    2.53333333333   \n",
       "max     13.20000000000    2.80000000000   18.75000000000    9.66666666667   \n",
       "\n",
       "                  NRF2             PI3K          RTK-RAS         TGF-Beta  \\\n",
       "count  134.00000000000  134.00000000000  134.00000000000  134.00000000000   \n",
       "mean     0.48258706468    1.99728629579    4.86940298507    1.56567164179   \n",
       "std      2.54009359321    2.94420748388    3.69884275634    3.65780871330   \n",
       "min      0.00000000000    0.00000000000    0.00000000000    0.00000000000   \n",
       "25%      0.00000000000    0.00000000000    2.52083333333    0.00000000000   \n",
       "50%      0.00000000000    0.00000000000    3.75000000000    0.00000000000   \n",
       "75%      0.00000000000    3.22727272727    6.66666666667    0.00000000000   \n",
       "max     17.33333333333   15.72727272727   19.91666666667   14.60000000000   \n",
       "\n",
       "                  TP53              WNT  \n",
       "count  134.00000000000  134.00000000000  \n",
       "mean     6.53980099502    3.51894374282  \n",
       "std      4.77239604779    2.19208570035  \n",
       "min      0.00000000000    0.00000000000  \n",
       "25%      0.50000000000    2.30769230769  \n",
       "50%      7.41666666667    3.26923076923  \n",
       "75%      9.83333333333    4.75000000000  \n",
       "max     22.00000000000    9.92307692308  "
      ]
     },
     "execution_count": 6,
     "metadata": {},
     "output_type": "execute_result"
    }
   ],
   "source": [
    "arm1_df = process_patients(patients_log[patients_log['arm'] == 1]['PatientFirstName'])\n",
    "arm1_df.describe()"
   ]
  },
  {
   "cell_type": "code",
   "execution_count": 7,
   "id": "macro-commissioner",
   "metadata": {},
   "outputs": [
    {
     "name": "stdout",
     "output_type": "stream",
     "text": [
      "dpfs          1.00000000000\n",
      "Cell Cycle   -0.12647532371\n",
      "HIPPO         0.07618156944\n",
      "MYC          -0.01966932520\n",
      "NOTCH        -0.00766043272\n",
      "NRF2          0.11540925246\n",
      "PI3K          0.00471179680\n",
      "RTK-RAS       0.13577007518\n",
      "TGF-Beta     -0.08225417760\n",
      "TP53         -0.04168762758\n",
      "WNT          -0.00075981504\n",
      "Name: dpfs, dtype: float64\n"
     ]
    }
   ],
   "source": [
    "pandas.set_option(\"display.precision\", 11)\n",
    "arm1_db_df = arm1_df.join(patients_log.set_index('PatientFirstName'), on='PatientFirstName')\n",
    "print(f\"{arm1_db_df[['dpfs'] + [pw[0] for pw in pathways]].corr().iloc[0]}\")"
   ]
  },
  {
   "cell_type": "markdown",
   "id": "confused-respect",
   "metadata": {},
   "source": [
    "## Conversion of pathway data\n",
    "Pathways are parsed from pathway files shipped with [PathwayMapper](http://www.pathwaymapper.org/). At this stage, the obtained data is transformed into a NetworkX graph giving each gene its own vertex: complexes and families are not represented explicitly. The resulting graph is directed."
   ]
  },
  {
   "cell_type": "code",
   "execution_count": 8,
   "id": "normal-heaven",
   "metadata": {},
   "outputs": [
    {
     "data": {
      "application/vnd.jupyter.widget-view+json": {
       "model_id": "9f4ba49cc2e045bab431b01be709fb16",
       "version_major": 2,
       "version_minor": 0
      },
      "text/plain": [
       "interactive(children=(Dropdown(description='pathway', options=('TGF-Beta.txt', 'HIPPO.txt', 'WNT.txt', 'NRF2.t…"
      ]
     },
     "metadata": {},
     "output_type": "display_data"
    }
   ],
   "source": [
    "import networkx as nx\n",
    "import pathways_nx as pnx\n",
    "import matplotlib.pyplot as plt\n",
    "import pylab\n",
    "import logging as log\n",
    "\n",
    "plt.rcParams['figure.dpi'] = 90\n",
    "\n",
    "@widgets.interact(pathway=[filename for filename in os.listdir('./pathways')])\n",
    "def show_pathway(pathway):\n",
    "    pw = pnx.pathway_to_nx('pathways/' + pathway)\n",
    "\n",
    "    edge_labels=dict([((u,v,),d['label'])\n",
    "                 for u,v,d in pw[1].edges(data=True)])\n",
    "    labels = nx.get_node_attributes(pw[1], 'label')\n",
    "    pos=nx.spring_layout(pw[1], 8)\n",
    "\n",
    "    plt.figure(1,figsize=(12,12)) \n",
    "    nx.draw_networkx_edge_labels(pw[1], pos, edge_labels=edge_labels)\n",
    "    nx.draw(pw[1], pos, node_size=1700, labels=labels, with_labels=True, node_shape=\"o\",  node_color=\"none\", bbox=dict(facecolor=\"skyblue\", edgecolor='black', boxstyle='round,pad=0.4'))"
   ]
  },
  {
   "cell_type": "markdown",
   "id": "arabic-lingerie",
   "metadata": {},
   "source": [
    "## Computing weighted averages with no complexes\n",
    "In order to improve the correlation between **dpfs** and pathway mutations, we can employ weights on each gene.</br>\n",
    "These are derived from various centrality measures and don't take into account the gene hierarchy."
   ]
  },
  {
   "cell_type": "code",
   "execution_count": 9,
   "id": "subsequent-timeline",
   "metadata": {},
   "outputs": [],
   "source": [
    "import pathways_nx as pnx\n",
    "import networkx as nx\n",
    "import os\n",
    "import pandas\n",
    "\n",
    "nx_pathways = []\n",
    "for filename in os.listdir('./pathways'):\n",
    "    nx_pathways.append(pnx.pathway_to_nx('pathways/' + filename))\n",
    "\n",
    "nx_pathways.sort(key=lambda x: x[0])\n",
    "    \n",
    "patients_log = pandas.read_csv('TRIBE2_db.csv')\n",
    "mutations_data = pandas.read_csv('TRIBE2_seq_res.csv')"
   ]
  },
  {
   "cell_type": "markdown",
   "id": "extensive-lithuania",
   "metadata": {},
   "source": [
    "### In-degree"
   ]
  },
  {
   "cell_type": "code",
   "execution_count": 10,
   "id": "solved-project",
   "metadata": {},
   "outputs": [
    {
     "data": {
      "text/html": [
       "<div>\n",
       "<style scoped>\n",
       "    .dataframe tbody tr th:only-of-type {\n",
       "        vertical-align: middle;\n",
       "    }\n",
       "\n",
       "    .dataframe tbody tr th {\n",
       "        vertical-align: top;\n",
       "    }\n",
       "\n",
       "    .dataframe thead th {\n",
       "        text-align: right;\n",
       "    }\n",
       "</style>\n",
       "<table border=\"1\" class=\"dataframe\">\n",
       "  <thead>\n",
       "    <tr style=\"text-align: right;\">\n",
       "      <th></th>\n",
       "      <th>Cell Cycle</th>\n",
       "      <th>HIPPO</th>\n",
       "      <th>MYC</th>\n",
       "      <th>NOTCH</th>\n",
       "      <th>NRF2</th>\n",
       "      <th>PI3K</th>\n",
       "      <th>RTK-RAS</th>\n",
       "      <th>TGF-Beta</th>\n",
       "      <th>TP53</th>\n",
       "      <th>WNT</th>\n",
       "    </tr>\n",
       "  </thead>\n",
       "  <tbody>\n",
       "    <tr>\n",
       "      <th>count</th>\n",
       "      <td>162.00000000000</td>\n",
       "      <td>162.0</td>\n",
       "      <td>162.0</td>\n",
       "      <td>162.00000000000</td>\n",
       "      <td>162.00000000000</td>\n",
       "      <td>162.00000000000</td>\n",
       "      <td>162.00000000000</td>\n",
       "      <td>162.00000000000</td>\n",
       "      <td>162.00000000000</td>\n",
       "      <td>162.00000000000</td>\n",
       "    </tr>\n",
       "    <tr>\n",
       "      <th>mean</th>\n",
       "      <td>9.70370370370</td>\n",
       "      <td>0.0</td>\n",
       "      <td>0.0</td>\n",
       "      <td>1.16352201258</td>\n",
       "      <td>0.91358024691</td>\n",
       "      <td>2.35570987654</td>\n",
       "      <td>1.49255002129</td>\n",
       "      <td>2.62692901235</td>\n",
       "      <td>18.76388888889</td>\n",
       "      <td>0.65506172840</td>\n",
       "    </tr>\n",
       "    <tr>\n",
       "      <th>std</th>\n",
       "      <td>6.56313238433</td>\n",
       "      <td>0.0</td>\n",
       "      <td>0.0</td>\n",
       "      <td>2.29956675709</td>\n",
       "      <td>5.59879652300</td>\n",
       "      <td>3.61499308582</td>\n",
       "      <td>1.04267967870</td>\n",
       "      <td>4.95305711540</td>\n",
       "      <td>12.26853237539</td>\n",
       "      <td>1.42037710281</td>\n",
       "    </tr>\n",
       "    <tr>\n",
       "      <th>min</th>\n",
       "      <td>0.00000000000</td>\n",
       "      <td>0.0</td>\n",
       "      <td>0.0</td>\n",
       "      <td>0.00000000000</td>\n",
       "      <td>0.00000000000</td>\n",
       "      <td>0.00000000000</td>\n",
       "      <td>0.00000000000</td>\n",
       "      <td>0.00000000000</td>\n",
       "      <td>0.00000000000</td>\n",
       "      <td>0.00000000000</td>\n",
       "    </tr>\n",
       "    <tr>\n",
       "      <th>25%</th>\n",
       "      <td>5.75000000000</td>\n",
       "      <td>0.0</td>\n",
       "      <td>0.0</td>\n",
       "      <td>0.00000000000</td>\n",
       "      <td>0.00000000000</td>\n",
       "      <td>0.00000000000</td>\n",
       "      <td>0.82758620690</td>\n",
       "      <td>0.00000000000</td>\n",
       "      <td>10.12500000000</td>\n",
       "      <td>0.00000000000</td>\n",
       "    </tr>\n",
       "    <tr>\n",
       "      <th>50%</th>\n",
       "      <td>10.75000000000</td>\n",
       "      <td>0.0</td>\n",
       "      <td>0.0</td>\n",
       "      <td>0.00000000000</td>\n",
       "      <td>0.00000000000</td>\n",
       "      <td>0.00000000000</td>\n",
       "      <td>1.36206896552</td>\n",
       "      <td>0.00000000000</td>\n",
       "      <td>21.25000000000</td>\n",
       "      <td>0.00000000000</td>\n",
       "    </tr>\n",
       "    <tr>\n",
       "      <th>75%</th>\n",
       "      <td>14.00000000000</td>\n",
       "      <td>0.0</td>\n",
       "      <td>0.0</td>\n",
       "      <td>0.61320754717</td>\n",
       "      <td>0.00000000000</td>\n",
       "      <td>4.53125000000</td>\n",
       "      <td>2.10344827586</td>\n",
       "      <td>2.26562500000</td>\n",
       "      <td>27.50000000000</td>\n",
       "      <td>0.00000000000</td>\n",
       "    </tr>\n",
       "    <tr>\n",
       "      <th>max</th>\n",
       "      <td>30.00000000000</td>\n",
       "      <td>0.0</td>\n",
       "      <td>0.0</td>\n",
       "      <td>11.09433962264</td>\n",
       "      <td>44.00000000000</td>\n",
       "      <td>12.70833333333</td>\n",
       "      <td>4.78160919540</td>\n",
       "      <td>20.75000000000</td>\n",
       "      <td>43.00000000000</td>\n",
       "      <td>7.34000000000</td>\n",
       "    </tr>\n",
       "  </tbody>\n",
       "</table>\n",
       "</div>"
      ],
      "text/plain": [
       "            Cell Cycle  HIPPO    MYC            NOTCH             NRF2  \\\n",
       "count  162.00000000000  162.0  162.0  162.00000000000  162.00000000000   \n",
       "mean     9.70370370370    0.0    0.0    1.16352201258    0.91358024691   \n",
       "std      6.56313238433    0.0    0.0    2.29956675709    5.59879652300   \n",
       "min      0.00000000000    0.0    0.0    0.00000000000    0.00000000000   \n",
       "25%      5.75000000000    0.0    0.0    0.00000000000    0.00000000000   \n",
       "50%     10.75000000000    0.0    0.0    0.00000000000    0.00000000000   \n",
       "75%     14.00000000000    0.0    0.0    0.61320754717    0.00000000000   \n",
       "max     30.00000000000    0.0    0.0   11.09433962264   44.00000000000   \n",
       "\n",
       "                  PI3K          RTK-RAS         TGF-Beta             TP53  \\\n",
       "count  162.00000000000  162.00000000000  162.00000000000  162.00000000000   \n",
       "mean     2.35570987654    1.49255002129    2.62692901235   18.76388888889   \n",
       "std      3.61499308582    1.04267967870    4.95305711540   12.26853237539   \n",
       "min      0.00000000000    0.00000000000    0.00000000000    0.00000000000   \n",
       "25%      0.00000000000    0.82758620690    0.00000000000   10.12500000000   \n",
       "50%      0.00000000000    1.36206896552    0.00000000000   21.25000000000   \n",
       "75%      4.53125000000    2.10344827586    2.26562500000   27.50000000000   \n",
       "max     12.70833333333    4.78160919540   20.75000000000   43.00000000000   \n",
       "\n",
       "                   WNT  \n",
       "count  162.00000000000  \n",
       "mean     0.65506172840  \n",
       "std      1.42037710281  \n",
       "min      0.00000000000  \n",
       "25%      0.00000000000  \n",
       "50%      0.00000000000  \n",
       "75%      0.00000000000  \n",
       "max      7.34000000000  "
      ]
     },
     "execution_count": 10,
     "metadata": {},
     "output_type": "execute_result"
    }
   ],
   "source": [
    "from analysis_nx import process_patients_with_f\n",
    "\n",
    "arm0_df_indeg = process_patients_with_f(patients_log[patients_log['arm'] == 0]['PatientFirstName'], nx.in_degree_centrality, nx_pathways, mutations_data)\n",
    "arm0_df_indeg.describe()"
   ]
  },
  {
   "cell_type": "code",
   "execution_count": 11,
   "id": "exposed-attachment",
   "metadata": {},
   "outputs": [
    {
     "name": "stdout",
     "output_type": "stream",
     "text": [
      "dpfs          1.00000000000\n",
      "Cell Cycle   -0.09226936015\n",
      "HIPPO                   NaN\n",
      "MYC                     NaN\n",
      "NOTCH         0.07403685237\n",
      "NRF2          0.26055653829\n",
      "PI3K          0.03503757492\n",
      "RTK-RAS      -0.11310601928\n",
      "TGF-Beta     -0.05180275226\n",
      "TP53         -0.05435628743\n",
      "WNT          -0.02174170470\n",
      "Name: dpfs, dtype: float64\n"
     ]
    }
   ],
   "source": [
    "pandas.set_option(\"display.precision\", 11)\n",
    "arm0_db_d_indegf = arm0_df_indeg.join(patients_log.set_index('PatientFirstName'), on='PatientFirstName')\n",
    "print(f\"{arm0_db_d_indegf[['dpfs'] + [pw[0] for pw in nx_pathways]].corr().iloc[0]}\")"
   ]
  },
  {
   "cell_type": "code",
   "execution_count": 12,
   "id": "automated-beast",
   "metadata": {},
   "outputs": [
    {
     "data": {
      "text/html": [
       "<div>\n",
       "<style scoped>\n",
       "    .dataframe tbody tr th:only-of-type {\n",
       "        vertical-align: middle;\n",
       "    }\n",
       "\n",
       "    .dataframe tbody tr th {\n",
       "        vertical-align: top;\n",
       "    }\n",
       "\n",
       "    .dataframe thead th {\n",
       "        text-align: right;\n",
       "    }\n",
       "</style>\n",
       "<table border=\"1\" class=\"dataframe\">\n",
       "  <thead>\n",
       "    <tr style=\"text-align: right;\">\n",
       "      <th></th>\n",
       "      <th>Cell Cycle</th>\n",
       "      <th>HIPPO</th>\n",
       "      <th>MYC</th>\n",
       "      <th>NOTCH</th>\n",
       "      <th>NRF2</th>\n",
       "      <th>PI3K</th>\n",
       "      <th>RTK-RAS</th>\n",
       "      <th>TGF-Beta</th>\n",
       "      <th>TP53</th>\n",
       "      <th>WNT</th>\n",
       "    </tr>\n",
       "  </thead>\n",
       "  <tbody>\n",
       "    <tr>\n",
       "      <th>count</th>\n",
       "      <td>134.00000000000</td>\n",
       "      <td>134.0</td>\n",
       "      <td>134.00000000000</td>\n",
       "      <td>134.00000000000</td>\n",
       "      <td>134.00000000000</td>\n",
       "      <td>134.00000000000</td>\n",
       "      <td>134.00000000000</td>\n",
       "      <td>134.00000000000</td>\n",
       "      <td>134.00000000000</td>\n",
       "      <td>134.00000000000</td>\n",
       "    </tr>\n",
       "    <tr>\n",
       "      <th>mean</th>\n",
       "      <td>8.92723880597</td>\n",
       "      <td>0.0</td>\n",
       "      <td>0.03616532721</td>\n",
       "      <td>1.11179949310</td>\n",
       "      <td>0.05970149254</td>\n",
       "      <td>2.22388059701</td>\n",
       "      <td>1.68811116830</td>\n",
       "      <td>1.63386194030</td>\n",
       "      <td>17.61473880597</td>\n",
       "      <td>0.66671641791</td>\n",
       "    </tr>\n",
       "    <tr>\n",
       "      <th>std</th>\n",
       "      <td>6.72526270743</td>\n",
       "      <td>0.0</td>\n",
       "      <td>0.25563721307</td>\n",
       "      <td>2.13433296243</td>\n",
       "      <td>0.69109474047</td>\n",
       "      <td>3.71690587683</td>\n",
       "      <td>1.17443857065</td>\n",
       "      <td>4.22081387824</td>\n",
       "      <td>13.64440010607</td>\n",
       "      <td>1.39379493649</td>\n",
       "    </tr>\n",
       "    <tr>\n",
       "      <th>min</th>\n",
       "      <td>0.00000000000</td>\n",
       "      <td>0.0</td>\n",
       "      <td>0.00000000000</td>\n",
       "      <td>0.00000000000</td>\n",
       "      <td>0.00000000000</td>\n",
       "      <td>0.00000000000</td>\n",
       "      <td>0.00000000000</td>\n",
       "      <td>0.00000000000</td>\n",
       "      <td>0.00000000000</td>\n",
       "      <td>0.00000000000</td>\n",
       "    </tr>\n",
       "    <tr>\n",
       "      <th>25%</th>\n",
       "      <td>0.00000000000</td>\n",
       "      <td>0.0</td>\n",
       "      <td>0.00000000000</td>\n",
       "      <td>0.00000000000</td>\n",
       "      <td>0.00000000000</td>\n",
       "      <td>0.00000000000</td>\n",
       "      <td>0.93103448276</td>\n",
       "      <td>0.00000000000</td>\n",
       "      <td>0.00000000000</td>\n",
       "      <td>0.00000000000</td>\n",
       "    </tr>\n",
       "    <tr>\n",
       "      <th>50%</th>\n",
       "      <td>10.62500000000</td>\n",
       "      <td>0.0</td>\n",
       "      <td>0.00000000000</td>\n",
       "      <td>0.00000000000</td>\n",
       "      <td>0.00000000000</td>\n",
       "      <td>0.00000000000</td>\n",
       "      <td>1.51724137931</td>\n",
       "      <td>0.00000000000</td>\n",
       "      <td>20.75000000000</td>\n",
       "      <td>0.00000000000</td>\n",
       "    </tr>\n",
       "    <tr>\n",
       "      <th>75%</th>\n",
       "      <td>13.75000000000</td>\n",
       "      <td>0.0</td>\n",
       "      <td>0.00000000000</td>\n",
       "      <td>0.81132075472</td>\n",
       "      <td>0.00000000000</td>\n",
       "      <td>4.12500000000</td>\n",
       "      <td>2.27586206897</td>\n",
       "      <td>0.00000000000</td>\n",
       "      <td>27.50000000000</td>\n",
       "      <td>0.00000000000</td>\n",
       "    </tr>\n",
       "    <tr>\n",
       "      <th>max</th>\n",
       "      <td>21.00000000000</td>\n",
       "      <td>0.0</td>\n",
       "      <td>2.19230769231</td>\n",
       "      <td>10.15094339623</td>\n",
       "      <td>8.00000000000</td>\n",
       "      <td>17.91666666667</td>\n",
       "      <td>5.83908045977</td>\n",
       "      <td>18.25000000000</td>\n",
       "      <td>44.12500000000</td>\n",
       "      <td>7.54000000000</td>\n",
       "    </tr>\n",
       "  </tbody>\n",
       "</table>\n",
       "</div>"
      ],
      "text/plain": [
       "            Cell Cycle  HIPPO              MYC            NOTCH  \\\n",
       "count  134.00000000000  134.0  134.00000000000  134.00000000000   \n",
       "mean     8.92723880597    0.0    0.03616532721    1.11179949310   \n",
       "std      6.72526270743    0.0    0.25563721307    2.13433296243   \n",
       "min      0.00000000000    0.0    0.00000000000    0.00000000000   \n",
       "25%      0.00000000000    0.0    0.00000000000    0.00000000000   \n",
       "50%     10.62500000000    0.0    0.00000000000    0.00000000000   \n",
       "75%     13.75000000000    0.0    0.00000000000    0.81132075472   \n",
       "max     21.00000000000    0.0    2.19230769231   10.15094339623   \n",
       "\n",
       "                  NRF2             PI3K          RTK-RAS         TGF-Beta  \\\n",
       "count  134.00000000000  134.00000000000  134.00000000000  134.00000000000   \n",
       "mean     0.05970149254    2.22388059701    1.68811116830    1.63386194030   \n",
       "std      0.69109474047    3.71690587683    1.17443857065    4.22081387824   \n",
       "min      0.00000000000    0.00000000000    0.00000000000    0.00000000000   \n",
       "25%      0.00000000000    0.00000000000    0.93103448276    0.00000000000   \n",
       "50%      0.00000000000    0.00000000000    1.51724137931    0.00000000000   \n",
       "75%      0.00000000000    4.12500000000    2.27586206897    0.00000000000   \n",
       "max      8.00000000000   17.91666666667    5.83908045977   18.25000000000   \n",
       "\n",
       "                  TP53              WNT  \n",
       "count  134.00000000000  134.00000000000  \n",
       "mean    17.61473880597    0.66671641791  \n",
       "std     13.64440010607    1.39379493649  \n",
       "min      0.00000000000    0.00000000000  \n",
       "25%      0.00000000000    0.00000000000  \n",
       "50%     20.75000000000    0.00000000000  \n",
       "75%     27.50000000000    0.00000000000  \n",
       "max     44.12500000000    7.54000000000  "
      ]
     },
     "execution_count": 12,
     "metadata": {},
     "output_type": "execute_result"
    }
   ],
   "source": [
    "from analysis_nx import process_patients_with_f\n",
    "\n",
    "arm1_df_indeg = process_patients_with_f(patients_log[patients_log['arm'] == 1]['PatientFirstName'], nx.in_degree_centrality, nx_pathways, mutations_data)\n",
    "arm1_df_indeg.describe()"
   ]
  },
  {
   "cell_type": "code",
   "execution_count": 13,
   "id": "massive-judgment",
   "metadata": {},
   "outputs": [
    {
     "name": "stdout",
     "output_type": "stream",
     "text": [
      "dpfs          1.00000000000\n",
      "Cell Cycle   -0.12639137193\n",
      "HIPPO                   NaN\n",
      "MYC          -0.05265988914\n",
      "NOTCH        -0.02592021718\n",
      "NRF2          0.08352453560\n",
      "PI3K          0.13209202648\n",
      "RTK-RAS       0.14794631496\n",
      "TGF-Beta     -0.06616595990\n",
      "TP53         -0.11281684289\n",
      "WNT          -0.05256678378\n",
      "Name: dpfs, dtype: float64\n"
     ]
    }
   ],
   "source": [
    "pandas.set_option(\"display.precision\", 11)\n",
    "arm1_db_df_indeg = arm1_df_indeg.join(patients_log.set_index('PatientFirstName'), on='PatientFirstName')\n",
    "print(f\"{arm1_db_df_indeg[['dpfs'] + [pw[0] for pw in nx_pathways]].corr().iloc[0]}\")"
   ]
  },
  {
   "cell_type": "markdown",
   "id": "interesting-gambling",
   "metadata": {},
   "source": [
    "### Out-degree"
   ]
  },
  {
   "cell_type": "code",
   "execution_count": 14,
   "id": "fatal-decline",
   "metadata": {},
   "outputs": [
    {
     "data": {
      "text/html": [
       "<div>\n",
       "<style scoped>\n",
       "    .dataframe tbody tr th:only-of-type {\n",
       "        vertical-align: middle;\n",
       "    }\n",
       "\n",
       "    .dataframe tbody tr th {\n",
       "        vertical-align: top;\n",
       "    }\n",
       "\n",
       "    .dataframe thead th {\n",
       "        text-align: right;\n",
       "    }\n",
       "</style>\n",
       "<table border=\"1\" class=\"dataframe\">\n",
       "  <thead>\n",
       "    <tr style=\"text-align: right;\">\n",
       "      <th></th>\n",
       "      <th>Cell Cycle</th>\n",
       "      <th>HIPPO</th>\n",
       "      <th>MYC</th>\n",
       "      <th>NOTCH</th>\n",
       "      <th>NRF2</th>\n",
       "      <th>PI3K</th>\n",
       "      <th>RTK-RAS</th>\n",
       "      <th>TGF-Beta</th>\n",
       "      <th>TP53</th>\n",
       "      <th>WNT</th>\n",
       "    </tr>\n",
       "  </thead>\n",
       "  <tbody>\n",
       "    <tr>\n",
       "      <th>count</th>\n",
       "      <td>162.00000000000</td>\n",
       "      <td>162.00000000000</td>\n",
       "      <td>162.00000000000</td>\n",
       "      <td>162.00000000000</td>\n",
       "      <td>162.00000000000</td>\n",
       "      <td>162.00000000000</td>\n",
       "      <td>162.00000000000</td>\n",
       "      <td>162.00000000000</td>\n",
       "      <td>162.00000000000</td>\n",
       "      <td>162.0000000000</td>\n",
       "    </tr>\n",
       "    <tr>\n",
       "      <th>mean</th>\n",
       "      <td>10.43904320988</td>\n",
       "      <td>0.01037037037</td>\n",
       "      <td>0.11490978158</td>\n",
       "      <td>0.70288842301</td>\n",
       "      <td>0.16666666667</td>\n",
       "      <td>1.47325102881</td>\n",
       "      <td>1.51035901802</td>\n",
       "      <td>0.19097222222</td>\n",
       "      <td>0.82330246914</td>\n",
       "      <td>0.9837037037</td>\n",
       "    </tr>\n",
       "    <tr>\n",
       "      <th>std</th>\n",
       "      <td>6.42322427630</td>\n",
       "      <td>0.07741867213</td>\n",
       "      <td>0.46489043298</td>\n",
       "      <td>1.52381859048</td>\n",
       "      <td>1.49948231232</td>\n",
       "      <td>2.16942021878</td>\n",
       "      <td>1.86145914401</td>\n",
       "      <td>1.15780437321</td>\n",
       "      <td>2.40214727723</td>\n",
       "      <td>0.9006504819</td>\n",
       "    </tr>\n",
       "    <tr>\n",
       "      <th>min</th>\n",
       "      <td>0.00000000000</td>\n",
       "      <td>0.00000000000</td>\n",
       "      <td>0.00000000000</td>\n",
       "      <td>0.00000000000</td>\n",
       "      <td>0.00000000000</td>\n",
       "      <td>0.00000000000</td>\n",
       "      <td>0.00000000000</td>\n",
       "      <td>0.00000000000</td>\n",
       "      <td>0.00000000000</td>\n",
       "      <td>0.0000000000</td>\n",
       "    </tr>\n",
       "    <tr>\n",
       "      <th>25%</th>\n",
       "      <td>5.75000000000</td>\n",
       "      <td>0.00000000000</td>\n",
       "      <td>0.00000000000</td>\n",
       "      <td>0.00000000000</td>\n",
       "      <td>0.00000000000</td>\n",
       "      <td>0.00000000000</td>\n",
       "      <td>0.82758620690</td>\n",
       "      <td>0.00000000000</td>\n",
       "      <td>0.00000000000</td>\n",
       "      <td>0.4850000000</td>\n",
       "    </tr>\n",
       "    <tr>\n",
       "      <th>50%</th>\n",
       "      <td>11.50000000000</td>\n",
       "      <td>0.00000000000</td>\n",
       "      <td>0.00000000000</td>\n",
       "      <td>0.00000000000</td>\n",
       "      <td>0.00000000000</td>\n",
       "      <td>0.00000000000</td>\n",
       "      <td>1.25287356322</td>\n",
       "      <td>0.00000000000</td>\n",
       "      <td>0.00000000000</td>\n",
       "      <td>0.7800000000</td>\n",
       "    </tr>\n",
       "    <tr>\n",
       "      <th>75%</th>\n",
       "      <td>14.84375000000</td>\n",
       "      <td>0.00000000000</td>\n",
       "      <td>0.00000000000</td>\n",
       "      <td>0.00000000000</td>\n",
       "      <td>0.00000000000</td>\n",
       "      <td>2.75000000000</td>\n",
       "      <td>1.75000000000</td>\n",
       "      <td>0.00000000000</td>\n",
       "      <td>0.00000000000</td>\n",
       "      <td>1.2800000000</td>\n",
       "    </tr>\n",
       "    <tr>\n",
       "      <th>max</th>\n",
       "      <td>25.00000000000</td>\n",
       "      <td>0.68000000000</td>\n",
       "      <td>2.69230769231</td>\n",
       "      <td>6.81132075472</td>\n",
       "      <td>14.50000000000</td>\n",
       "      <td>11.08333333333</td>\n",
       "      <td>16.58620689655</td>\n",
       "      <td>9.93750000000</td>\n",
       "      <td>16.50000000000</td>\n",
       "      <td>5.2800000000</td>\n",
       "    </tr>\n",
       "  </tbody>\n",
       "</table>\n",
       "</div>"
      ],
      "text/plain": [
       "            Cell Cycle            HIPPO              MYC            NOTCH  \\\n",
       "count  162.00000000000  162.00000000000  162.00000000000  162.00000000000   \n",
       "mean    10.43904320988    0.01037037037    0.11490978158    0.70288842301   \n",
       "std      6.42322427630    0.07741867213    0.46489043298    1.52381859048   \n",
       "min      0.00000000000    0.00000000000    0.00000000000    0.00000000000   \n",
       "25%      5.75000000000    0.00000000000    0.00000000000    0.00000000000   \n",
       "50%     11.50000000000    0.00000000000    0.00000000000    0.00000000000   \n",
       "75%     14.84375000000    0.00000000000    0.00000000000    0.00000000000   \n",
       "max     25.00000000000    0.68000000000    2.69230769231    6.81132075472   \n",
       "\n",
       "                  NRF2             PI3K          RTK-RAS         TGF-Beta  \\\n",
       "count  162.00000000000  162.00000000000  162.00000000000  162.00000000000   \n",
       "mean     0.16666666667    1.47325102881    1.51035901802    0.19097222222   \n",
       "std      1.49948231232    2.16942021878    1.86145914401    1.15780437321   \n",
       "min      0.00000000000    0.00000000000    0.00000000000    0.00000000000   \n",
       "25%      0.00000000000    0.00000000000    0.82758620690    0.00000000000   \n",
       "50%      0.00000000000    0.00000000000    1.25287356322    0.00000000000   \n",
       "75%      0.00000000000    2.75000000000    1.75000000000    0.00000000000   \n",
       "max     14.50000000000   11.08333333333   16.58620689655    9.93750000000   \n",
       "\n",
       "                  TP53             WNT  \n",
       "count  162.00000000000  162.0000000000  \n",
       "mean     0.82330246914    0.9837037037  \n",
       "std      2.40214727723    0.9006504819  \n",
       "min      0.00000000000    0.0000000000  \n",
       "25%      0.00000000000    0.4850000000  \n",
       "50%      0.00000000000    0.7800000000  \n",
       "75%      0.00000000000    1.2800000000  \n",
       "max     16.50000000000    5.2800000000  "
      ]
     },
     "execution_count": 14,
     "metadata": {},
     "output_type": "execute_result"
    }
   ],
   "source": [
    "from analysis_nx import process_patients_with_f\n",
    "\n",
    "arm0_df_outdeg = process_patients_with_f(patients_log[patients_log['arm'] == 0]['PatientFirstName'], nx.out_degree_centrality, nx_pathways, mutations_data)\n",
    "arm0_df_outdeg.describe()"
   ]
  },
  {
   "cell_type": "code",
   "execution_count": 15,
   "id": "medical-islam",
   "metadata": {},
   "outputs": [
    {
     "name": "stdout",
     "output_type": "stream",
     "text": [
      "dpfs          1.00000000000\n",
      "Cell Cycle   -0.04413363227\n",
      "HIPPO         0.04245896105\n",
      "MYC           0.26819358259\n",
      "NOTCH         0.06066446533\n",
      "NRF2         -0.04613419523\n",
      "PI3K          0.09017649935\n",
      "RTK-RAS      -0.09855698721\n",
      "TGF-Beta      0.02890916087\n",
      "TP53          0.00559572918\n",
      "WNT           0.09316713412\n",
      "Name: dpfs, dtype: float64\n"
     ]
    }
   ],
   "source": [
    "pandas.set_option(\"display.precision\", 11)\n",
    "arm0_db_df_outdeg = arm0_df_outdeg.join(patients_log.set_index('PatientFirstName'), on='PatientFirstName')\n",
    "print(f\"{arm0_db_df_outdeg[['dpfs'] + [pw[0] for pw in nx_pathways]].corr().iloc[0]}\")"
   ]
  },
  {
   "cell_type": "code",
   "execution_count": null,
   "id": "exact-wheel",
   "metadata": {},
   "outputs": [],
   "source": [
    "from analysis_nx import process_patients_with_f\n",
    "\n",
    "arm1_df_outdeg = process_patients_with_f(patients_log[patients_log['arm'] == 1]['PatientFirstName'], nx.out_degree_centrality, nx_pathways, mutations_data)\n",
    "arm1_df_outdeg.describe()"
   ]
  },
  {
   "cell_type": "code",
   "execution_count": null,
   "id": "certified-liabilities",
   "metadata": {},
   "outputs": [],
   "source": [
    "pandas.set_option(\"display.precision\", 11)\n",
    "arm1_db_df_outdeg = arm1_df_outdeg.join(patients_log.set_index('PatientFirstName'), on='PatientFirstName')\n",
    "print(f\"{arm1_db_df_outdeg[['dpfs'] + [pw[0] for pw in nx_pathways]].corr().iloc[0]}\")"
   ]
  },
  {
   "cell_type": "markdown",
   "id": "buried-associate",
   "metadata": {},
   "source": [
    "### Betweenness"
   ]
  },
  {
   "cell_type": "code",
   "execution_count": null,
   "id": "sticky-infection",
   "metadata": {},
   "outputs": [],
   "source": [
    "from analysis_nx import process_patients_with_f\n",
    "\n",
    "arm0_df_bet = process_patients_with_f(patients_log[patients_log['arm'] == 0]['PatientFirstName'], nx.betweenness_centrality, nx_pathways, mutations_data)\n",
    "arm0_df_bet.describe()"
   ]
  },
  {
   "cell_type": "code",
   "execution_count": null,
   "id": "eastern-islam",
   "metadata": {},
   "outputs": [],
   "source": [
    "pandas.set_option(\"display.precision\", 11)\n",
    "arm0_db_df_bet = arm0_df_bet.join(patients_log.set_index('PatientFirstName'), on='PatientFirstName')\n",
    "print(f\"{arm0_db_df_bet[['dpfs'] + [pw[0] for pw in nx_pathways]].corr().iloc[0]}\")"
   ]
  },
  {
   "cell_type": "code",
   "execution_count": null,
   "id": "retained-daughter",
   "metadata": {},
   "outputs": [],
   "source": [
    "from analysis_nx import process_patients_with_f\n",
    "\n",
    "arm1_df_bet = process_patients_with_f(patients_log[patients_log['arm'] == 1]['PatientFirstName'], nx.betweenness_centrality, nx_pathways, mutations_data)\n",
    "arm1_df_bet.describe()"
   ]
  },
  {
   "cell_type": "code",
   "execution_count": null,
   "id": "wireless-imaging",
   "metadata": {},
   "outputs": [],
   "source": [
    "pandas.set_option(\"display.precision\", 11)\n",
    "arm1_db_df_bet = arm1_df_bet.join(patients_log.set_index('PatientFirstName'), on='PatientFirstName')\n",
    "print(f\"{arm1_db_df_bet[['dpfs'] + [pw[0] for pw in nx_pathways]].corr().iloc[0]}\")"
   ]
  },
  {
   "cell_type": "markdown",
   "id": "tested-stroke",
   "metadata": {},
   "source": [
    "### Closeness"
   ]
  },
  {
   "cell_type": "code",
   "execution_count": null,
   "id": "manufactured-planner",
   "metadata": {},
   "outputs": [],
   "source": [
    "from analysis_nx import process_patients_with_f\n",
    "\n",
    "arm0_df_clos = process_patients_with_f(patients_log[patients_log['arm'] == 0]['PatientFirstName'], nx.closeness_centrality, nx_pathways, mutations_data)\n",
    "arm0_df_clos.describe()"
   ]
  },
  {
   "cell_type": "code",
   "execution_count": null,
   "id": "acute-closing",
   "metadata": {},
   "outputs": [],
   "source": [
    "pandas.set_option(\"display.precision\", 11)\n",
    "arm0_db_df_clos = arm0_df_clos.join(patients_log.set_index('PatientFirstName'), on='PatientFirstName')\n",
    "print(f\"{arm0_db_df_clos[['dpfs'] + [pw[0] for pw in nx_pathways]].corr().iloc[0]}\")"
   ]
  },
  {
   "cell_type": "code",
   "execution_count": null,
   "id": "crude-gothic",
   "metadata": {},
   "outputs": [],
   "source": [
    "from analysis_nx import process_patients_with_f\n",
    "\n",
    "arm1_df_clos = process_patients_with_f(patients_log[patients_log['arm'] == 1]['PatientFirstName'], nx.closeness_centrality, nx_pathways, mutations_data)\n",
    "arm1_df_clos.describe()"
   ]
  },
  {
   "cell_type": "code",
   "execution_count": null,
   "id": "boxed-valve",
   "metadata": {},
   "outputs": [],
   "source": [
    "pandas.set_option(\"display.precision\", 11)\n",
    "arm1_db_df_clos = arm1_df_clos.join(patients_log.set_index('PatientFirstName'), on='PatientFirstName')\n",
    "print(f\"{arm1_db_df_clos[['dpfs'] + [pw[0] for pw in nx_pathways]].corr().iloc[0]}\")"
   ]
  },
  {
   "cell_type": "markdown",
   "id": "renewable-treasure",
   "metadata": {},
   "source": [
    "### Eigenvector"
   ]
  },
  {
   "cell_type": "code",
   "execution_count": null,
   "id": "lined-scholar",
   "metadata": {},
   "outputs": [],
   "source": [
    "from analysis_nx import process_patients_with_f\n",
    "\n",
    "arm0_df_eigen = process_patients_with_f(patients_log[patients_log['arm'] == 0]['PatientFirstName'], nx.eigenvector_centrality_numpy, nx_pathways, mutations_data)\n",
    "arm0_df_eigen.describe()"
   ]
  },
  {
   "cell_type": "code",
   "execution_count": null,
   "id": "violent-terminology",
   "metadata": {},
   "outputs": [],
   "source": [
    "pandas.set_option(\"display.precision\", 11)\n",
    "arm0_db_df_eigen = arm0_df_eigen.join(patients_log.set_index('PatientFirstName'), on='PatientFirstName')\n",
    "print(f\"{arm0_db_df_eigen[['dpfs'] + [pw[0] for pw in nx_pathways]].corr().iloc[0]}\")"
   ]
  },
  {
   "cell_type": "code",
   "execution_count": null,
   "id": "entire-president",
   "metadata": {},
   "outputs": [],
   "source": [
    "from analysis_nx import process_patients_with_f\n",
    "\n",
    "arm1_df_eigen = process_patients_with_f(patients_log[patients_log['arm'] == 1]['PatientFirstName'], nx.eigenvector_centrality_numpy, nx_pathways, mutations_data)\n",
    "arm1_df_eigen.describe()"
   ]
  },
  {
   "cell_type": "code",
   "execution_count": null,
   "id": "generous-lecture",
   "metadata": {},
   "outputs": [],
   "source": [
    "pandas.set_option(\"display.precision\", 11)\n",
    "arm1_db_df_eigen = arm1_df_eigen.join(patients_log.set_index('PatientFirstName'), on='PatientFirstName')\n",
    "print(f\"{arm1_db_df_eigen[['dpfs'] + [pw[0] for pw in nx_pathways]].corr().iloc[0]}\")"
   ]
  },
  {
   "cell_type": "markdown",
   "id": "delayed-bosnia",
   "metadata": {},
   "source": [
    "## Hierarchy-aware evaluation\n",
    "This time the hierarchy of a gene inside a complex or family is taken into account when computing the average mutations. This is represented with a weight, which is computed as the reciprocal of the product of the gene containers' cardinalities. For example, if a gene is contained in a family of 4, which is contained in a family of 6, it would have a weight of 1/4\\*1/6 = 1/24."
   ]
  },
  {
   "cell_type": "code",
   "execution_count": null,
   "id": "extended-plate",
   "metadata": {},
   "outputs": [],
   "source": [
    "import pathways_nx as pnx\n",
    "import networkx as nx\n",
    "import os\n",
    "import pandas\n",
    "\n",
    "nx_pathways = []\n",
    "for filename in os.listdir('./pathways'):\n",
    "    nx_pathways.append(pnx.pathway_to_nx('pathways/' + filename))\n",
    "\n",
    "nx_pathways.sort(key=lambda x: x[0])\n",
    "    \n",
    "patients_log = pandas.read_csv('TRIBE2_db.csv')\n",
    "mutations_data = pandas.read_csv('TRIBE2_seq_res.csv')"
   ]
  },
  {
   "cell_type": "markdown",
   "id": "freelance-wheat",
   "metadata": {},
   "source": [
    "### In-degree"
   ]
  },
  {
   "cell_type": "code",
   "execution_count": null,
   "id": "sharing-award",
   "metadata": {},
   "outputs": [],
   "source": [
    "from analysis_nx import process_patients_with_f\n",
    "\n",
    "h_arm0_df_indeg = process_patients_with_f(patients_log[patients_log['arm'] == 0]['PatientFirstName'], nx.in_degree_centrality, nx_pathways, mutations_data, True)\n",
    "h_arm0_df_indeg.describe()"
   ]
  },
  {
   "cell_type": "code",
   "execution_count": null,
   "id": "destroyed-wallpaper",
   "metadata": {},
   "outputs": [],
   "source": [
    "pandas.set_option(\"display.precision\", 11)\n",
    "h_arm0_db_d_indegf = h_arm0_df_indeg.join(patients_log.set_index('PatientFirstName'), on='PatientFirstName')\n",
    "print(f\"{h_arm0_db_d_indegf[['dpfs'] + [pw[0] for pw in nx_pathways]].corr().iloc[0]}\")"
   ]
  },
  {
   "cell_type": "code",
   "execution_count": null,
   "id": "threatened-dream",
   "metadata": {},
   "outputs": [],
   "source": [
    "from analysis_nx import process_patients_with_f\n",
    "\n",
    "h_arm1_df_indeg = process_patients_with_f(patients_log[patients_log['arm'] == 1]['PatientFirstName'], nx.in_degree_centrality, nx_pathways, mutations_data, True)\n",
    "h_arm1_df_indeg.describe()"
   ]
  },
  {
   "cell_type": "code",
   "execution_count": null,
   "id": "regulation-bridge",
   "metadata": {},
   "outputs": [],
   "source": [
    "pandas.set_option(\"display.precision\", 11)\n",
    "h_arm1_db_df_indeg = h_arm1_df_indeg.join(patients_log.set_index('PatientFirstName'), on='PatientFirstName')\n",
    "print(f\"{h_arm1_db_df_indeg[['dpfs'] + [pw[0] for pw in nx_pathways]].corr().iloc[0]}\")"
   ]
  },
  {
   "cell_type": "markdown",
   "id": "spatial-place",
   "metadata": {},
   "source": [
    "### Out-degree"
   ]
  },
  {
   "cell_type": "code",
   "execution_count": null,
   "id": "medieval-logic",
   "metadata": {},
   "outputs": [],
   "source": [
    "from analysis_nx import process_patients_with_f\n",
    "\n",
    "h_arm0_df_outdeg = process_patients_with_f(patients_log[patients_log['arm'] == 0]['PatientFirstName'], nx.out_degree_centrality, nx_pathways, mutations_data, True)\n",
    "h_arm0_df_outdeg.describe()"
   ]
  },
  {
   "cell_type": "code",
   "execution_count": null,
   "id": "medical-parish",
   "metadata": {},
   "outputs": [],
   "source": [
    "pandas.set_option(\"display.precision\", 11)\n",
    "h_arm0_db_df_outdeg = h_arm0_df_outdeg.join(patients_log.set_index('PatientFirstName'), on='PatientFirstName')\n",
    "print(f\"{h_arm0_db_df_outdeg[['dpfs'] + [pw[0] for pw in nx_pathways]].corr().iloc[0]}\")"
   ]
  },
  {
   "cell_type": "code",
   "execution_count": null,
   "id": "removable-enforcement",
   "metadata": {},
   "outputs": [],
   "source": [
    "from analysis_nx import process_patients_with_f\n",
    "\n",
    "h_arm1_df_outdeg = process_patients_with_f(patients_log[patients_log['arm'] == 1]['PatientFirstName'], nx.out_degree_centrality, nx_pathways, mutations_data, True)\n",
    "h_arm1_df_outdeg.describe()"
   ]
  },
  {
   "cell_type": "code",
   "execution_count": null,
   "id": "adult-relevance",
   "metadata": {},
   "outputs": [],
   "source": [
    "pandas.set_option(\"display.precision\", 11)\n",
    "h_arm1_db_df_outdeg = h_arm1_df_outdeg.join(patients_log.set_index('PatientFirstName'), on='PatientFirstName')\n",
    "print(f\"{h_arm1_db_df_outdeg[['dpfs'] + [pw[0] for pw in nx_pathways]].corr().iloc[0]}\")"
   ]
  },
  {
   "cell_type": "markdown",
   "id": "alternate-avenue",
   "metadata": {},
   "source": [
    "### Betweenness"
   ]
  },
  {
   "cell_type": "code",
   "execution_count": null,
   "id": "academic-machine",
   "metadata": {},
   "outputs": [],
   "source": [
    "from analysis_nx import process_patients_with_f\n",
    "\n",
    "h_arm0_df_bet = process_patients_with_f(patients_log[patients_log['arm'] == 0]['PatientFirstName'], nx.betweenness_centrality, nx_pathways, mutations_data, True)\n",
    "h_arm0_df_bet.describe()"
   ]
  },
  {
   "cell_type": "code",
   "execution_count": null,
   "id": "joined-diesel",
   "metadata": {},
   "outputs": [],
   "source": [
    "pandas.set_option(\"display.precision\", 11)\n",
    "h_arm0_db_df_bet = h_arm0_df_bet.join(patients_log.set_index('PatientFirstName'), on='PatientFirstName')\n",
    "print(f\"{h_arm0_db_df_bet[['dpfs'] + [pw[0] for pw in nx_pathways]].corr().iloc[0]}\")"
   ]
  },
  {
   "cell_type": "code",
   "execution_count": null,
   "id": "fewer-bench",
   "metadata": {},
   "outputs": [],
   "source": [
    "from analysis_nx import process_patients_with_f\n",
    "\n",
    "h_arm1_df_bet = process_patients_with_f(patients_log[patients_log['arm'] == 1]['PatientFirstName'], nx.betweenness_centrality, nx_pathways, mutations_data, True)\n",
    "h_arm1_df_bet.describe()"
   ]
  },
  {
   "cell_type": "code",
   "execution_count": null,
   "id": "inside-supplement",
   "metadata": {},
   "outputs": [],
   "source": [
    "pandas.set_option(\"display.precision\", 11)\n",
    "h_arm1_db_df_bet = h_arm1_df_bet.join(patients_log.set_index('PatientFirstName'), on='PatientFirstName')\n",
    "print(f\"{h_arm1_db_df_bet[['dpfs'] + [pw[0] for pw in nx_pathways]].corr().iloc[0]}\")"
   ]
  },
  {
   "cell_type": "markdown",
   "id": "outside-guatemala",
   "metadata": {},
   "source": [
    "### Closeness"
   ]
  },
  {
   "cell_type": "code",
   "execution_count": null,
   "id": "advised-assumption",
   "metadata": {},
   "outputs": [],
   "source": [
    "from analysis_nx import process_patients_with_f\n",
    "\n",
    "h_arm0_df_clos = process_patients_with_f(patients_log[patients_log['arm'] == 0]['PatientFirstName'], nx.closeness_centrality, nx_pathways, mutations_data, True)\n",
    "h_arm0_df_clos.describe()"
   ]
  },
  {
   "cell_type": "code",
   "execution_count": null,
   "id": "bacterial-printer",
   "metadata": {},
   "outputs": [],
   "source": [
    "pandas.set_option(\"display.precision\", 11)\n",
    "h_arm0_db_df_clos = h_arm0_df_clos.join(patients_log.set_index('PatientFirstName'), on='PatientFirstName')\n",
    "print(f\"{h_arm0_db_df_clos[['dpfs'] + [pw[0] for pw in nx_pathways]].corr().iloc[0]}\")"
   ]
  },
  {
   "cell_type": "code",
   "execution_count": null,
   "id": "widespread-court",
   "metadata": {},
   "outputs": [],
   "source": [
    "from analysis_nx import process_patients_with_f\n",
    "\n",
    "h_arm1_df_clos = process_patients_with_f(patients_log[patients_log['arm'] == 1]['PatientFirstName'], nx.closeness_centrality, nx_pathways, mutations_data, True)\n",
    "h_arm1_df_clos.describe()"
   ]
  },
  {
   "cell_type": "code",
   "execution_count": null,
   "id": "concerned-personal",
   "metadata": {},
   "outputs": [],
   "source": [
    "pandas.set_option(\"display.precision\", 11)\n",
    "h_arm1_db_df_clos = h_arm1_df_clos.join(patients_log.set_index('PatientFirstName'), on='PatientFirstName')\n",
    "print(f\"{h_arm1_db_df_clos[['dpfs'] + [pw[0] for pw in nx_pathways]].corr().iloc[0]}\")"
   ]
  },
  {
   "cell_type": "markdown",
   "id": "fresh-packet",
   "metadata": {},
   "source": [
    "### Eigenvector"
   ]
  },
  {
   "cell_type": "code",
   "execution_count": null,
   "id": "unusual-burlington",
   "metadata": {},
   "outputs": [],
   "source": [
    "from analysis_nx import process_patients_with_f\n",
    "\n",
    "h_arm0_df_eigen = process_patients_with_f(patients_log[patients_log['arm'] == 0]['PatientFirstName'], nx.eigenvector_centrality_numpy, nx_pathways, mutations_data, True)\n",
    "h_arm0_df_eigen.describe()"
   ]
  },
  {
   "cell_type": "code",
   "execution_count": null,
   "id": "portable-software",
   "metadata": {},
   "outputs": [],
   "source": [
    "pandas.set_option(\"display.precision\", 11)\n",
    "h_arm0_db_df_eigen = h_arm0_df_eigen.join(patients_log.set_index('PatientFirstName'), on='PatientFirstName')\n",
    "print(f\"{h_arm0_db_df_eigen[['dpfs'] + [pw[0] for pw in nx_pathways]].corr().iloc[0]}\")"
   ]
  },
  {
   "cell_type": "code",
   "execution_count": null,
   "id": "binary-missouri",
   "metadata": {},
   "outputs": [],
   "source": [
    "from analysis_nx import process_patients_with_f\n",
    "\n",
    "h_arm1_df_eigen = process_patients_with_f(patients_log[patients_log['arm'] == 1]['PatientFirstName'], nx.eigenvector_centrality_numpy, nx_pathways, mutations_data, True)\n",
    "h_arm1_df_eigen.describe()"
   ]
  },
  {
   "cell_type": "code",
   "execution_count": null,
   "id": "behavioral-praise",
   "metadata": {},
   "outputs": [],
   "source": [
    "pandas.set_option(\"display.precision\", 11)\n",
    "h_arm1_db_df_eigen = h_arm1_df_eigen.join(patients_log.set_index('PatientFirstName'), on='PatientFirstName')\n",
    "print(f\"{h_arm1_db_df_eigen[['dpfs'] + [pw[0] for pw in nx_pathways]].corr().iloc[0]}\")"
   ]
  },
  {
   "cell_type": "code",
   "execution_count": null,
   "id": "sealed-actress",
   "metadata": {},
   "outputs": [],
   "source": []
  }
 ],
 "metadata": {
  "kernelspec": {
   "display_name": "Python 3",
   "language": "python",
   "name": "python3"
  },
  "language_info": {
   "codemirror_mode": {
    "name": "ipython",
    "version": 3
   },
   "file_extension": ".py",
   "mimetype": "text/x-python",
   "name": "python",
   "nbconvert_exporter": "python",
   "pygments_lexer": "ipython3",
   "version": "3.9.2"
  },
  "widgets": {
   "application/vnd.jupyter.widget-state+json": {
    "state": {
     "088aca35b46441d780bbce69dedd41e0": {
      "model_module": "@jupyter-widgets/controls",
      "model_module_version": "1.5.0",
      "model_name": "DescriptionStyleModel",
      "state": {
       "description_width": ""
      }
     },
     "2282c34d152045239137baf56cf670b0": {
      "model_module": "@jupyter-widgets/output",
      "model_module_version": "1.0.0",
      "model_name": "OutputModel",
      "state": {
       "layout": "IPY_MODEL_9a05cb1b418c48889613ed8e27d10a43",
       "outputs": [
        {
         "data": {
          "image/png": "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\n",
          "text/plain": "<Figure size 1080x1080 with 1 Axes>"
         },
         "metadata": {},
         "output_type": "display_data"
        }
       ]
      }
     },
     "5673f5a57b20462f99eef9a626d9d91f": {
      "model_module": "@jupyter-widgets/base",
      "model_module_version": "1.2.0",
      "model_name": "LayoutModel",
      "state": {}
     },
     "7f08303b8b2848d4a1e98d0025e44d96": {
      "model_module": "@jupyter-widgets/base",
      "model_module_version": "1.2.0",
      "model_name": "LayoutModel",
      "state": {}
     },
     "8327c4b80ea4451f8115cef739d6102a": {
      "model_module": "@jupyter-widgets/controls",
      "model_module_version": "1.5.0",
      "model_name": "VBoxModel",
      "state": {
       "_dom_classes": [
        "widget-interact"
       ],
       "children": [
        "IPY_MODEL_b0a3f9ed7782436da816366327e66412",
        "IPY_MODEL_d59ae8c4ce20495fa7b0ecf69f74a8d2"
       ],
       "layout": "IPY_MODEL_7f08303b8b2848d4a1e98d0025e44d96"
      }
     },
     "8c6e1df6b48549fb8d07422d923a86b1": {
      "model_module": "@jupyter-widgets/base",
      "model_module_version": "1.2.0",
      "model_name": "LayoutModel",
      "state": {}
     },
     "9a05cb1b418c48889613ed8e27d10a43": {
      "model_module": "@jupyter-widgets/base",
      "model_module_version": "1.2.0",
      "model_name": "LayoutModel",
      "state": {}
     },
     "9f4ba49cc2e045bab431b01be709fb16": {
      "model_module": "@jupyter-widgets/controls",
      "model_module_version": "1.5.0",
      "model_name": "VBoxModel",
      "state": {
       "_dom_classes": [
        "widget-interact"
       ],
       "children": [
        "IPY_MODEL_c1f8cf8b621f42fd8bbf2fa072b34596",
        "IPY_MODEL_2282c34d152045239137baf56cf670b0"
       ],
       "layout": "IPY_MODEL_cad58f7ed575407482e49d962c75af33"
      }
     },
     "b0a3f9ed7782436da816366327e66412": {
      "model_module": "@jupyter-widgets/controls",
      "model_module_version": "1.5.0",
      "model_name": "DropdownModel",
      "state": {
       "_options_labels": [
        "TGF-Beta.txt",
        "HIPPO.txt",
        "WNT.txt",
        "NRF2.txt",
        "MYC.txt",
        "RTK-RAS.txt",
        "TP53.txt",
        "NOTCH.txt",
        "PI3K.txt",
        "Cell Cycle.txt"
       ],
       "description": "pathway",
       "index": 0,
       "layout": "IPY_MODEL_8c6e1df6b48549fb8d07422d923a86b1",
       "style": "IPY_MODEL_d9c1c6c6f7674aa18cde7bc926138219"
      }
     },
     "c1f8cf8b621f42fd8bbf2fa072b34596": {
      "model_module": "@jupyter-widgets/controls",
      "model_module_version": "1.5.0",
      "model_name": "DropdownModel",
      "state": {
       "_options_labels": [
        "TGF-Beta.txt",
        "HIPPO.txt",
        "WNT.txt",
        "NRF2.txt",
        "MYC.txt",
        "RTK-RAS.txt",
        "TP53.txt",
        "NOTCH.txt",
        "PI3K.txt",
        "Cell Cycle.txt"
       ],
       "description": "pathway",
       "index": 0,
       "layout": "IPY_MODEL_df05cd765b15457cb71b402381fd43fe",
       "style": "IPY_MODEL_088aca35b46441d780bbce69dedd41e0"
      }
     },
     "cad58f7ed575407482e49d962c75af33": {
      "model_module": "@jupyter-widgets/base",
      "model_module_version": "1.2.0",
      "model_name": "LayoutModel",
      "state": {}
     },
     "d59ae8c4ce20495fa7b0ecf69f74a8d2": {
      "model_module": "@jupyter-widgets/output",
      "model_module_version": "1.0.0",
      "model_name": "OutputModel",
      "state": {
       "layout": "IPY_MODEL_5673f5a57b20462f99eef9a626d9d91f",
       "outputs": [
        {
         "name": "stdout",
         "output_type": "stream",
         "text": "Name: TGF-Beta, Contents:\n{'Xkk8SKlafmfn': [Node(name='SMAD', parent=None, children={'0qBZliXOfmft': [Node(name='SMAD2', parent='Xkk8SKlafmfn', children={}, type=<PType.GENE: 0>), []], 'gepyfePvfmfz': [Node(name='SMAD3', parent='Xkk8SKlafmfn', children={}, type=<PType.GENE: 0>), []], 'OKApI7Qwfmf4': [Node(name='SMAD4', parent='Xkk8SKlafmfn', children={}, type=<PType.GENE: 0>), []]}, type=<PType.FAMILY: 1>), []], 't_Q1Nr-BfmfR': [Node(name='Activin ligands', parent=None, children={}, type=<PType.GENE: 0>), ['boabbY81fmfT']], 'fXKkJObYfmfb': [Node(name='TGFBR', parent=None, children={'DOJnFoHNfmfi': [Node(name='TGFBR2', parent='fXKkJObYfmfb', children={}, type=<PType.GENE: 0>), []], 'Sb4zGrL3fmfe': [Node(name='TGFBR1', parent='fXKkJObYfmfb', children={}, type=<PType.GENE: 0>), []]}, type=<PType.FAMILY: 1>), ['Xkk8SKlafmfn']], 'gOOpkueqfmfM': [Node(name='TGFB ligands', parent=None, children={}, type=<PType.GENE: 0>), ['fXKkJObYfmfb']], 'boabbY81fmfT': [Node(name='ACVR2', parent=None, children={'9Ev1i-2HfmfX': [Node(name='ACVR2B', parent='boabbY81fmfT', children={}, type=<PType.GENE: 0>), []], '_sm7432ofmfV': [Node(name='ACVR2A', parent='boabbY81fmfT', children={}, type=<PType.GENE: 0>), []]}, type=<PType.FAMILY: 1>), ['Xkk8SKlafmfn']], 'A7jMDR2Mfmf-': [Node(name='Proliferation, stem/progenitor phenotype', parent=None, children={}, type=<PType.PROCESS: 3>), []]}\n"
        }
       ]
      }
     },
     "d9c1c6c6f7674aa18cde7bc926138219": {
      "model_module": "@jupyter-widgets/controls",
      "model_module_version": "1.5.0",
      "model_name": "DescriptionStyleModel",
      "state": {
       "description_width": ""
      }
     },
     "df05cd765b15457cb71b402381fd43fe": {
      "model_module": "@jupyter-widgets/base",
      "model_module_version": "1.2.0",
      "model_name": "LayoutModel",
      "state": {}
     }
    },
    "version_major": 2,
    "version_minor": 0
   }
  }
 },
 "nbformat": 4,
 "nbformat_minor": 5
}
